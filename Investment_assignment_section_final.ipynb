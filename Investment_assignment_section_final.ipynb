{
 "cells": [
  {
   "cell_type": "markdown",
   "metadata": {
    "id": "V3Ga40Gh0gPA"
   },
   "source": [
    "# Business and Data Understanding\n"
   ]
  },
  {
   "cell_type": "markdown",
   "metadata": {
    "id": "vTg3W0ac0gPG"
   },
   "source": [
    "# Spark Funds has two minor constraints for investments:"
   ]
  },
  {
   "cell_type": "markdown",
   "metadata": {
    "id": "k126M2wS0gPH"
   },
   "source": [
    "1.\tIt wants to invest between 5 to 15 million USD per round of investment\n",
    "2.\tIt wants to invest only in English-speaking countries because of the ease of communication with the companies it would invest in."
   ]
  },
  {
   "cell_type": "markdown",
   "metadata": {
    "id": "gQgKqyPS0gPH"
   },
   "source": [
    "# What is Spark Funds’ business objective?"
   ]
  },
  {
   "cell_type": "markdown",
   "metadata": {
    "id": "_XAlQdNB0gPI"
   },
   "source": [
    "The business objectives and goals of data analysis are pretty straightforward.\n",
    "\n",
    "1. **Business objective:**The objective is to identify the best sectors, countries, and a suitable investment type for making investments. The overall strategy is to invest where others are investing, implying that the 'best' sectors and countries are the ones 'where most investors are investing'.\n",
    "\n",
    "\n",
    "2. **Goals of data analysis:** Our goals are divided into three sub-goals:\n",
    "\n",
    "\n",
    "\n",
    "  - **Investment type analysis:** Comparing the typical investment amounts in the venture, seed, angel, private equity etc. so    \n",
    "     that Spark Funds can choose the type that is best suited for their strategy.\n",
    " \n",
    " \n",
    "  - **Country analysis:** Identifying the countries which have been the most heavily invested in the past. These will be Spark       Funds’ favourites as well.\n",
    " \n",
    " \n",
    "  - **Sector analysis:** Understanding the distribution of investments across the eight main sectors. (Note that we are interested in the eight 'main sectors' provided in the mapping file. The two files — companies and rounds2 — have numerous sub-sector names; hence, you will need to map each sub-sector to its main sector.\n"
   ]
  },
  {
   "cell_type": "markdown",
   "metadata": {
    "id": "-Fx4MVYL0gPJ"
   },
   "source": [
    "# Checkpoint 1: Data Cleaning "
   ]
  },
  {
   "cell_type": "code",
   "execution_count": 102,
   "metadata": {
    "id": "R1mihu1l0gPJ"
   },
   "outputs": [],
   "source": [
    "import pandas as pd\n",
    "import numpy as np\n",
    "import warnings\n",
    "import matplotlib.pyplot as plt\n",
    "import seaborn as sns\n",
    "warnings.filterwarnings('ignore')\n",
    "sns.set()"
   ]
  },
  {
   "cell_type": "code",
   "execution_count": 103,
   "metadata": {
    "id": "apui0oyt0gPK"
   },
   "outputs": [],
   "source": [
    "# import chartdet\n",
    "import chardet\n"
   ]
  },
  {
   "cell_type": "code",
   "execution_count": 3,
   "metadata": {
    "colab": {
     "base_uri": "https://localhost:8080/"
    },
    "id": "Rp0KQ6Z-0gPL",
    "outputId": "93a7c001-d3d8-4157-e930-94d0ee225625"
   },
   "outputs": [
    {
     "name": "stdout",
     "output_type": "stream",
     "text": [
      "{'encoding': 'Windows-1254', 'confidence': 0.4610845903762258, 'language': 'Turkish'}\n"
     ]
    }
   ],
   "source": [
    "with open(\"companies.csv\", 'rb') as rawdata:\n",
    "    result = chardet.detect(rawdata.read())\n",
    "    \n",
    "print(result)"
   ]
  },
  {
   "cell_type": "code",
   "execution_count": 4,
   "metadata": {
    "colab": {
     "base_uri": "https://localhost:8080/"
    },
    "id": "hA9oPwXr0gPL",
    "outputId": "21280923-998f-440c-e1e0-bab30391367e"
   },
   "outputs": [
    {
     "name": "stdout",
     "output_type": "stream",
     "text": [
      "{'encoding': 'Windows-1254', 'confidence': 0.4186155476629225, 'language': 'Turkish'}\n"
     ]
    }
   ],
   "source": [
    "with open(\"rounds2.csv\", 'rb') as rawdata:\n",
    "    result = chardet.detect(rawdata.read())\n",
    "    \n",
    "print(result)"
   ]
  },
  {
   "cell_type": "code",
   "execution_count": 5,
   "metadata": {
    "colab": {
     "base_uri": "https://localhost:8080/",
     "height": 520
    },
    "id": "mNfvPf1l0gPL",
    "outputId": "19a5905f-8f99-4850-c90d-c69ae85a1a57"
   },
   "outputs": [
    {
     "data": {
      "text/html": [
       "<div>\n",
       "<style scoped>\n",
       "    .dataframe tbody tr th:only-of-type {\n",
       "        vertical-align: middle;\n",
       "    }\n",
       "\n",
       "    .dataframe tbody tr th {\n",
       "        vertical-align: top;\n",
       "    }\n",
       "\n",
       "    .dataframe thead th {\n",
       "        text-align: right;\n",
       "    }\n",
       "</style>\n",
       "<table border=\"1\" class=\"dataframe\">\n",
       "  <thead>\n",
       "    <tr style=\"text-align: right;\">\n",
       "      <th></th>\n",
       "      <th>permalink</th>\n",
       "      <th>name</th>\n",
       "      <th>homepage_url</th>\n",
       "      <th>category_list</th>\n",
       "      <th>status</th>\n",
       "      <th>country_code</th>\n",
       "      <th>state_code</th>\n",
       "      <th>region</th>\n",
       "      <th>city</th>\n",
       "      <th>founded_at</th>\n",
       "    </tr>\n",
       "  </thead>\n",
       "  <tbody>\n",
       "    <tr>\n",
       "      <th>0</th>\n",
       "      <td>/Organization/-Fame</td>\n",
       "      <td>#fame</td>\n",
       "      <td>http://livfame.com</td>\n",
       "      <td>Media</td>\n",
       "      <td>operating</td>\n",
       "      <td>IND</td>\n",
       "      <td>16</td>\n",
       "      <td>Mumbai</td>\n",
       "      <td>Mumbai</td>\n",
       "      <td>NaN</td>\n",
       "    </tr>\n",
       "    <tr>\n",
       "      <th>1</th>\n",
       "      <td>/Organization/-Qounter</td>\n",
       "      <td>:Qounter</td>\n",
       "      <td>http://www.qounter.com</td>\n",
       "      <td>Application Platforms|Real Time|Social Network...</td>\n",
       "      <td>operating</td>\n",
       "      <td>USA</td>\n",
       "      <td>DE</td>\n",
       "      <td>DE - Other</td>\n",
       "      <td>Delaware City</td>\n",
       "      <td>04-09-2014</td>\n",
       "    </tr>\n",
       "    <tr>\n",
       "      <th>2</th>\n",
       "      <td>/Organization/-The-One-Of-Them-Inc-</td>\n",
       "      <td>(THE) ONE of THEM,Inc.</td>\n",
       "      <td>http://oneofthem.jp</td>\n",
       "      <td>Apps|Games|Mobile</td>\n",
       "      <td>operating</td>\n",
       "      <td>NaN</td>\n",
       "      <td>NaN</td>\n",
       "      <td>NaN</td>\n",
       "      <td>NaN</td>\n",
       "      <td>NaN</td>\n",
       "    </tr>\n",
       "    <tr>\n",
       "      <th>3</th>\n",
       "      <td>/Organization/0-6-Com</td>\n",
       "      <td>0-6.com</td>\n",
       "      <td>http://www.0-6.com</td>\n",
       "      <td>Curated Web</td>\n",
       "      <td>operating</td>\n",
       "      <td>CHN</td>\n",
       "      <td>22</td>\n",
       "      <td>Beijing</td>\n",
       "      <td>Beijing</td>\n",
       "      <td>01-01-2007</td>\n",
       "    </tr>\n",
       "    <tr>\n",
       "      <th>4</th>\n",
       "      <td>/Organization/004-Technologies</td>\n",
       "      <td>004 Technologies</td>\n",
       "      <td>http://004gmbh.de/en/004-interact</td>\n",
       "      <td>Software</td>\n",
       "      <td>operating</td>\n",
       "      <td>USA</td>\n",
       "      <td>IL</td>\n",
       "      <td>Springfield, Illinois</td>\n",
       "      <td>Champaign</td>\n",
       "      <td>01-01-2010</td>\n",
       "    </tr>\n",
       "    <tr>\n",
       "      <th>...</th>\n",
       "      <td>...</td>\n",
       "      <td>...</td>\n",
       "      <td>...</td>\n",
       "      <td>...</td>\n",
       "      <td>...</td>\n",
       "      <td>...</td>\n",
       "      <td>...</td>\n",
       "      <td>...</td>\n",
       "      <td>...</td>\n",
       "      <td>...</td>\n",
       "    </tr>\n",
       "    <tr>\n",
       "      <th>66363</th>\n",
       "      <td>/Organization/Zznode-Science-And-Technology-Co...</td>\n",
       "      <td>ZZNode Science and Technology</td>\n",
       "      <td>http://www.zznode.com</td>\n",
       "      <td>Enterprise Software</td>\n",
       "      <td>operating</td>\n",
       "      <td>CHN</td>\n",
       "      <td>22</td>\n",
       "      <td>Beijing</td>\n",
       "      <td>Beijing</td>\n",
       "      <td>NaN</td>\n",
       "    </tr>\n",
       "    <tr>\n",
       "      <th>66364</th>\n",
       "      <td>/Organization/Zzzzapp-Com</td>\n",
       "      <td>Zzzzapp Wireless ltd.</td>\n",
       "      <td>http://www.zzzzapp.com</td>\n",
       "      <td>Advertising|Mobile|Web Development|Wireless</td>\n",
       "      <td>operating</td>\n",
       "      <td>HRV</td>\n",
       "      <td>15</td>\n",
       "      <td>Split</td>\n",
       "      <td>Split</td>\n",
       "      <td>13-05-2012</td>\n",
       "    </tr>\n",
       "    <tr>\n",
       "      <th>66365</th>\n",
       "      <td>/Organization/├üEron</td>\n",
       "      <td>├üERON</td>\n",
       "      <td>http://www.aeron.hu/</td>\n",
       "      <td>NaN</td>\n",
       "      <td>operating</td>\n",
       "      <td>NaN</td>\n",
       "      <td>NaN</td>\n",
       "      <td>NaN</td>\n",
       "      <td>NaN</td>\n",
       "      <td>01-01-2011</td>\n",
       "    </tr>\n",
       "    <tr>\n",
       "      <th>66366</th>\n",
       "      <td>/Organization/├öAsys-2</td>\n",
       "      <td>├öasys</td>\n",
       "      <td>http://www.oasys.io/</td>\n",
       "      <td>Consumer Electronics|Internet of Things|Teleco...</td>\n",
       "      <td>operating</td>\n",
       "      <td>USA</td>\n",
       "      <td>CA</td>\n",
       "      <td>SF Bay Area</td>\n",
       "      <td>San Francisco</td>\n",
       "      <td>01-01-2014</td>\n",
       "    </tr>\n",
       "    <tr>\n",
       "      <th>66367</th>\n",
       "      <td>/Organization/─░Novatiff-Reklam-Ve-TanΣ▒TΣ▒M-H...</td>\n",
       "      <td>─░novatiff Reklam ve Tan─▒t─▒m Hizmetleri Tic</td>\n",
       "      <td>http://inovatiff.com</td>\n",
       "      <td>Consumer Goods|E-Commerce|Internet</td>\n",
       "      <td>operating</td>\n",
       "      <td>NaN</td>\n",
       "      <td>NaN</td>\n",
       "      <td>NaN</td>\n",
       "      <td>NaN</td>\n",
       "      <td>NaN</td>\n",
       "    </tr>\n",
       "  </tbody>\n",
       "</table>\n",
       "<p>66368 rows × 10 columns</p>\n",
       "</div>"
      ],
      "text/plain": [
       "                                               permalink  ...  founded_at\n",
       "0                                    /Organization/-Fame  ...         NaN\n",
       "1                                 /Organization/-Qounter  ...  04-09-2014\n",
       "2                    /Organization/-The-One-Of-Them-Inc-  ...         NaN\n",
       "3                                  /Organization/0-6-Com  ...  01-01-2007\n",
       "4                         /Organization/004-Technologies  ...  01-01-2010\n",
       "...                                                  ...  ...         ...\n",
       "66363  /Organization/Zznode-Science-And-Technology-Co...  ...         NaN\n",
       "66364                          /Organization/Zzzzapp-Com  ...  13-05-2012\n",
       "66365                               /Organization/├üEron  ...  01-01-2011\n",
       "66366                             /Organization/├öAsys-2  ...  01-01-2014\n",
       "66367  /Organization/─░Novatiff-Reklam-Ve-TanΣ▒TΣ▒M-H...  ...         NaN\n",
       "\n",
       "[66368 rows x 10 columns]"
      ]
     },
     "execution_count": 5,
     "metadata": {
      "tags": []
     },
     "output_type": "execute_result"
    }
   ],
   "source": [
    "companies=pd.read_csv(\"companies.csv\",encoding=\"cp437\")\n",
    "companies"
   ]
  },
  {
   "cell_type": "code",
   "execution_count": 6,
   "metadata": {
    "colab": {
     "base_uri": "https://localhost:8080/",
     "height": 416
    },
    "id": "KUa2gBn70gPM",
    "outputId": "b9ca243d-b152-464b-b6ed-8a2d2d8ea71e"
   },
   "outputs": [
    {
     "data": {
      "text/html": [
       "<div>\n",
       "<style scoped>\n",
       "    .dataframe tbody tr th:only-of-type {\n",
       "        vertical-align: middle;\n",
       "    }\n",
       "\n",
       "    .dataframe tbody tr th {\n",
       "        vertical-align: top;\n",
       "    }\n",
       "\n",
       "    .dataframe thead th {\n",
       "        text-align: right;\n",
       "    }\n",
       "</style>\n",
       "<table border=\"1\" class=\"dataframe\">\n",
       "  <thead>\n",
       "    <tr style=\"text-align: right;\">\n",
       "      <th></th>\n",
       "      <th>company_permalink</th>\n",
       "      <th>funding_round_permalink</th>\n",
       "      <th>funding_round_type</th>\n",
       "      <th>funding_round_code</th>\n",
       "      <th>funded_at</th>\n",
       "      <th>raised_amount_usd</th>\n",
       "    </tr>\n",
       "  </thead>\n",
       "  <tbody>\n",
       "    <tr>\n",
       "      <th>0</th>\n",
       "      <td>/organization/-fame</td>\n",
       "      <td>/funding-round/9a01d05418af9f794eebff7ace91f638</td>\n",
       "      <td>venture</td>\n",
       "      <td>B</td>\n",
       "      <td>05-01-2015</td>\n",
       "      <td>10000000.0</td>\n",
       "    </tr>\n",
       "    <tr>\n",
       "      <th>1</th>\n",
       "      <td>/ORGANIZATION/-QOUNTER</td>\n",
       "      <td>/funding-round/22dacff496eb7acb2b901dec1dfe5633</td>\n",
       "      <td>venture</td>\n",
       "      <td>A</td>\n",
       "      <td>14-10-2014</td>\n",
       "      <td>NaN</td>\n",
       "    </tr>\n",
       "    <tr>\n",
       "      <th>2</th>\n",
       "      <td>/organization/-qounter</td>\n",
       "      <td>/funding-round/b44fbb94153f6cdef13083530bb48030</td>\n",
       "      <td>seed</td>\n",
       "      <td>NaN</td>\n",
       "      <td>01-03-2014</td>\n",
       "      <td>700000.0</td>\n",
       "    </tr>\n",
       "    <tr>\n",
       "      <th>3</th>\n",
       "      <td>/ORGANIZATION/-THE-ONE-OF-THEM-INC-</td>\n",
       "      <td>/funding-round/650b8f704416801069bb178a1418776b</td>\n",
       "      <td>venture</td>\n",
       "      <td>B</td>\n",
       "      <td>30-01-2014</td>\n",
       "      <td>3406878.0</td>\n",
       "    </tr>\n",
       "    <tr>\n",
       "      <th>4</th>\n",
       "      <td>/organization/0-6-com</td>\n",
       "      <td>/funding-round/5727accaeaa57461bd22a9bdd945382d</td>\n",
       "      <td>venture</td>\n",
       "      <td>A</td>\n",
       "      <td>19-03-2008</td>\n",
       "      <td>2000000.0</td>\n",
       "    </tr>\n",
       "    <tr>\n",
       "      <th>...</th>\n",
       "      <td>...</td>\n",
       "      <td>...</td>\n",
       "      <td>...</td>\n",
       "      <td>...</td>\n",
       "      <td>...</td>\n",
       "      <td>...</td>\n",
       "    </tr>\n",
       "    <tr>\n",
       "      <th>114944</th>\n",
       "      <td>/organization/zzzzapp-com</td>\n",
       "      <td>/funding-round/8f6d25b8ee4199e586484d817bceda05</td>\n",
       "      <td>convertible_note</td>\n",
       "      <td>NaN</td>\n",
       "      <td>01-03-2014</td>\n",
       "      <td>41313.0</td>\n",
       "    </tr>\n",
       "    <tr>\n",
       "      <th>114945</th>\n",
       "      <td>/ORGANIZATION/ZZZZAPP-COM</td>\n",
       "      <td>/funding-round/ff1aa06ed5da186c84f101549035d4ae</td>\n",
       "      <td>seed</td>\n",
       "      <td>NaN</td>\n",
       "      <td>01-05-2013</td>\n",
       "      <td>32842.0</td>\n",
       "    </tr>\n",
       "    <tr>\n",
       "      <th>114946</th>\n",
       "      <td>/organization/πüeron</td>\n",
       "      <td>/funding-round/59f4dce44723b794f21ded3daed6e4fe</td>\n",
       "      <td>venture</td>\n",
       "      <td>A</td>\n",
       "      <td>01-08-2014</td>\n",
       "      <td>NaN</td>\n",
       "    </tr>\n",
       "    <tr>\n",
       "      <th>114947</th>\n",
       "      <td>/ORGANIZATION/├öASYS-2</td>\n",
       "      <td>/funding-round/35f09d0794651719b02bbfd859ba9ff5</td>\n",
       "      <td>seed</td>\n",
       "      <td>NaN</td>\n",
       "      <td>01-01-2015</td>\n",
       "      <td>18192.0</td>\n",
       "    </tr>\n",
       "    <tr>\n",
       "      <th>114948</th>\n",
       "      <td>/organization/Σ░novatiff-reklam-ve-tanΣ▒tΣ▒m-h...</td>\n",
       "      <td>/funding-round/af942869878d2cd788ef5189b435ebc4</td>\n",
       "      <td>grant</td>\n",
       "      <td>NaN</td>\n",
       "      <td>01-10-2013</td>\n",
       "      <td>14851.0</td>\n",
       "    </tr>\n",
       "  </tbody>\n",
       "</table>\n",
       "<p>114949 rows × 6 columns</p>\n",
       "</div>"
      ],
      "text/plain": [
       "                                        company_permalink  ... raised_amount_usd\n",
       "0                                     /organization/-fame  ...        10000000.0\n",
       "1                                  /ORGANIZATION/-QOUNTER  ...               NaN\n",
       "2                                  /organization/-qounter  ...          700000.0\n",
       "3                     /ORGANIZATION/-THE-ONE-OF-THEM-INC-  ...         3406878.0\n",
       "4                                   /organization/0-6-com  ...         2000000.0\n",
       "...                                                   ...  ...               ...\n",
       "114944                          /organization/zzzzapp-com  ...           41313.0\n",
       "114945                          /ORGANIZATION/ZZZZAPP-COM  ...           32842.0\n",
       "114946                               /organization/πüeron  ...               NaN\n",
       "114947                             /ORGANIZATION/├öASYS-2  ...           18192.0\n",
       "114948  /organization/Σ░novatiff-reklam-ve-tanΣ▒tΣ▒m-h...  ...           14851.0\n",
       "\n",
       "[114949 rows x 6 columns]"
      ]
     },
     "execution_count": 6,
     "metadata": {
      "tags": []
     },
     "output_type": "execute_result"
    }
   ],
   "source": [
    "round2=pd.read_csv('rounds2.csv',encoding='cp437')\n",
    "round2"
   ]
  },
  {
   "cell_type": "markdown",
   "metadata": {
    "id": "eDviuFcl0gPM"
   },
   "source": [
    "**Question 1**\n",
    "\n"
   ]
  },
  {
   "cell_type": "markdown",
   "metadata": {
    "id": "beyAZtgB0gPM"
   },
   "source": [
    "How many unique companies are present in rounds2?"
   ]
  },
  {
   "cell_type": "code",
   "execution_count": 7,
   "metadata": {
    "colab": {
     "base_uri": "https://localhost:8080/"
    },
    "id": "wEjjLMfV0gPM",
    "outputId": "c985251e-b9ef-4c41-d2f9-d6ef9acb5986"
   },
   "outputs": [
    {
     "name": "stdout",
     "output_type": "stream",
     "text": [
      "<class 'pandas.core.frame.DataFrame'>\n",
      "RangeIndex: 114949 entries, 0 to 114948\n",
      "Data columns (total 6 columns):\n",
      " #   Column                   Non-Null Count   Dtype  \n",
      "---  ------                   --------------   -----  \n",
      " 0   company_permalink        114949 non-null  object \n",
      " 1   funding_round_permalink  114949 non-null  object \n",
      " 2   funding_round_type       114949 non-null  object \n",
      " 3   funding_round_code       31140 non-null   object \n",
      " 4   funded_at                114949 non-null  object \n",
      " 5   raised_amount_usd        94959 non-null   float64\n",
      "dtypes: float64(1), object(5)\n",
      "memory usage: 5.3+ MB\n"
     ]
    }
   ],
   "source": [
    "round2.info()"
   ]
  },
  {
   "cell_type": "code",
   "execution_count": 8,
   "metadata": {
    "colab": {
     "base_uri": "https://localhost:8080/"
    },
    "id": "qhCxPnob0gPN",
    "outputId": "c8ec96c9-9963-4bf8-ae5a-c5d036116e66"
   },
   "outputs": [
    {
     "data": {
      "text/plain": [
       "company_permalink              0\n",
       "funding_round_permalink        0\n",
       "funding_round_type             0\n",
       "funding_round_code         83809\n",
       "funded_at                      0\n",
       "raised_amount_usd          19990\n",
       "dtype: int64"
      ]
     },
     "execution_count": 8,
     "metadata": {
      "tags": []
     },
     "output_type": "execute_result"
    }
   ],
   "source": [
    "round2.isna().sum()"
   ]
  },
  {
   "cell_type": "code",
   "execution_count": 9,
   "metadata": {
    "id": "Oh8wdQeC0gPN"
   },
   "outputs": [],
   "source": [
    "round2['company_permalink']=round2['company_permalink'].str.lower()"
   ]
  },
  {
   "cell_type": "code",
   "execution_count": 10,
   "metadata": {
    "colab": {
     "base_uri": "https://localhost:8080/"
    },
    "id": "Ob-bNQXa0gPN",
    "outputId": "0e87685b-5b2e-46a2-bbd8-862528537ba4"
   },
   "outputs": [
    {
     "data": {
      "text/plain": [
       "company_permalink           66373\n",
       "funding_round_permalink    114949\n",
       "funding_round_type             14\n",
       "funding_round_code              8\n",
       "funded_at                    5033\n",
       "raised_amount_usd           22095\n",
       "dtype: int64"
      ]
     },
     "execution_count": 10,
     "metadata": {
      "tags": []
     },
     "output_type": "execute_result"
    }
   ],
   "source": [
    "round2.nunique()"
   ]
  },
  {
   "cell_type": "code",
   "execution_count": 11,
   "metadata": {
    "colab": {
     "base_uri": "https://localhost:8080/"
    },
    "id": "-GCOjrVm0gPN",
    "outputId": "f385ec8d-b7a2-4803-c0bf-06434f40e112"
   },
   "outputs": [
    {
     "data": {
      "text/plain": [
       "66373"
      ]
     },
     "execution_count": 11,
     "metadata": {
      "tags": []
     },
     "output_type": "execute_result"
    }
   ],
   "source": [
    "# Let's check the number of unique companies present in rounds2\n",
    "len(round2['company_permalink'].unique())\n"
   ]
  },
  {
   "cell_type": "code",
   "execution_count": 12,
   "metadata": {
    "colab": {
     "base_uri": "https://localhost:8080/"
    },
    "id": "uSZ5EnOL0gPN",
    "outputId": "ca57f645-3184-4b1a-f29d-b9cb1d3f03dc"
   },
   "outputs": [
    {
     "name": "stdout",
     "output_type": "stream",
     "text": [
      "<class 'pandas.core.frame.DataFrame'>\n",
      "RangeIndex: 114949 entries, 0 to 114948\n",
      "Data columns (total 6 columns):\n",
      " #   Column                   Non-Null Count   Dtype  \n",
      "---  ------                   --------------   -----  \n",
      " 0   company_permalink        114949 non-null  object \n",
      " 1   funding_round_permalink  114949 non-null  object \n",
      " 2   funding_round_type       114949 non-null  object \n",
      " 3   funding_round_code       31140 non-null   object \n",
      " 4   funded_at                114949 non-null  object \n",
      " 5   raised_amount_usd        94959 non-null   float64\n",
      "dtypes: float64(1), object(5)\n",
      "memory usage: 5.3+ MB\n"
     ]
    }
   ],
   "source": [
    "round2.info()"
   ]
  },
  {
   "cell_type": "markdown",
   "metadata": {
    "id": "b0Xq14Pe0gPO"
   },
   "source": [
    "**Answer:- The total number of unique companies present in round2 is 66373**"
   ]
  },
  {
   "cell_type": "markdown",
   "metadata": {
    "id": "l4-KjsV30gPO"
   },
   "source": [
    "**Qestion 2**\n"
   ]
  },
  {
   "cell_type": "markdown",
   "metadata": {
    "id": "K9rJY2jb0gPO"
   },
   "source": [
    "How many unique companies are present in the companies file?"
   ]
  },
  {
   "cell_type": "code",
   "execution_count": 13,
   "metadata": {
    "colab": {
     "base_uri": "https://localhost:8080/"
    },
    "id": "YUTqQeHA0gPO",
    "outputId": "3e080c6b-76f9-4cdd-967f-948a69f10d39"
   },
   "outputs": [
    {
     "name": "stdout",
     "output_type": "stream",
     "text": [
      "<class 'pandas.core.frame.DataFrame'>\n",
      "RangeIndex: 66368 entries, 0 to 66367\n",
      "Data columns (total 10 columns):\n",
      " #   Column         Non-Null Count  Dtype \n",
      "---  ------         --------------  ----- \n",
      " 0   permalink      66368 non-null  object\n",
      " 1   name           66367 non-null  object\n",
      " 2   homepage_url   61310 non-null  object\n",
      " 3   category_list  63220 non-null  object\n",
      " 4   status         66368 non-null  object\n",
      " 5   country_code   59410 non-null  object\n",
      " 6   state_code     57821 non-null  object\n",
      " 7   region         58338 non-null  object\n",
      " 8   city           58340 non-null  object\n",
      " 9   founded_at     51147 non-null  object\n",
      "dtypes: object(10)\n",
      "memory usage: 5.1+ MB\n"
     ]
    }
   ],
   "source": [
    "companies.info()"
   ]
  },
  {
   "cell_type": "code",
   "execution_count": 14,
   "metadata": {
    "id": "oqGW5U3m0gPO"
   },
   "outputs": [],
   "source": [
    "companies['permalink']=companies['permalink'].str.lower()"
   ]
  },
  {
   "cell_type": "code",
   "execution_count": 15,
   "metadata": {
    "colab": {
     "base_uri": "https://localhost:8080/"
    },
    "id": "QKmBAonP0gPP",
    "outputId": "d941e04b-daa8-40e9-ec4f-ae25095b7748"
   },
   "outputs": [
    {
     "data": {
      "text/plain": [
       "permalink        66368\n",
       "name             66099\n",
       "homepage_url     61191\n",
       "category_list    27296\n",
       "status               4\n",
       "country_code       137\n",
       "state_code         311\n",
       "region            1092\n",
       "city              5111\n",
       "founded_at        3978\n",
       "dtype: int64"
      ]
     },
     "execution_count": 15,
     "metadata": {
      "tags": []
     },
     "output_type": "execute_result"
    }
   ],
   "source": [
    "#Let's Calculate the unique values\n",
    "companies.nunique()"
   ]
  },
  {
   "cell_type": "code",
   "execution_count": 16,
   "metadata": {
    "colab": {
     "base_uri": "https://localhost:8080/"
    },
    "id": "6VOu60z-0gPP",
    "outputId": "52085b5a-b4cf-4391-d267-bd6274a518d0"
   },
   "outputs": [
    {
     "data": {
      "text/plain": [
       "66368"
      ]
     },
     "execution_count": 16,
     "metadata": {
      "tags": []
     },
     "output_type": "execute_result"
    }
   ],
   "source": [
    "# Let's check the number of unique companies present in companies\n",
    "len(companies['permalink'].unique())\n"
   ]
  },
  {
   "cell_type": "markdown",
   "metadata": {
    "id": "q7Q4mSz-0gPP"
   },
   "source": [
    "**Answer:- The total number of unique companies present in companies is 66368**"
   ]
  },
  {
   "cell_type": "markdown",
   "metadata": {
    "id": "_YAl_g060gPP"
   },
   "source": [
    "**Question-3**"
   ]
  },
  {
   "cell_type": "markdown",
   "metadata": {
    "id": "w0HXpJbB0gPP"
   },
   "source": [
    "In the companies data frame, which column can be used as the  unique key for each company? Write the name of the column.\n"
   ]
  },
  {
   "cell_type": "markdown",
   "metadata": {
    "id": "85ZxJa9i0gPQ"
   },
   "source": [
    "**Answer**\n",
    "\n",
    "**Check-1 Not Null**\n",
    "\n",
    "**Check-2 Unique for all records**\n",
    "\n"
   ]
  },
  {
   "cell_type": "code",
   "execution_count": 17,
   "metadata": {
    "colab": {
     "base_uri": "https://localhost:8080/"
    },
    "id": "6lTN5bWh0gPQ",
    "outputId": "467d3b7f-0b15-434b-b974-d859629eccbe"
   },
   "outputs": [
    {
     "name": "stdout",
     "output_type": "stream",
     "text": [
      "<class 'pandas.core.frame.DataFrame'>\n",
      "RangeIndex: 66368 entries, 0 to 66367\n",
      "Data columns (total 10 columns):\n",
      " #   Column         Non-Null Count  Dtype \n",
      "---  ------         --------------  ----- \n",
      " 0   permalink      66368 non-null  object\n",
      " 1   name           66367 non-null  object\n",
      " 2   homepage_url   61310 non-null  object\n",
      " 3   category_list  63220 non-null  object\n",
      " 4   status         66368 non-null  object\n",
      " 5   country_code   59410 non-null  object\n",
      " 6   state_code     57821 non-null  object\n",
      " 7   region         58338 non-null  object\n",
      " 8   city           58340 non-null  object\n",
      " 9   founded_at     51147 non-null  object\n",
      "dtypes: object(10)\n",
      "memory usage: 5.1+ MB\n"
     ]
    }
   ],
   "source": [
    "# Check -1\n",
    "companies.info()"
   ]
  },
  {
   "cell_type": "code",
   "execution_count": 18,
   "metadata": {
    "colab": {
     "base_uri": "https://localhost:8080/"
    },
    "id": "nvovxuaT0gPQ",
    "outputId": "96d973ba-878d-4b33-d48d-1639fc5df002"
   },
   "outputs": [
    {
     "data": {
      "text/plain": [
       "permalink        66368\n",
       "name             66099\n",
       "homepage_url     61191\n",
       "category_list    27296\n",
       "status               4\n",
       "country_code       137\n",
       "state_code         311\n",
       "region            1092\n",
       "city              5111\n",
       "founded_at        3978\n",
       "dtype: int64"
      ]
     },
     "execution_count": 18,
     "metadata": {
      "tags": []
     },
     "output_type": "execute_result"
    }
   ],
   "source": [
    "#Check 2:\n",
    "companies.nunique()"
   ]
  },
  {
   "cell_type": "markdown",
   "metadata": {
    "id": "ckSfLyMM0gPQ"
   },
   "source": [
    "**Only permalink passed both the checks and can be used to indentify each company**"
   ]
  },
  {
   "cell_type": "markdown",
   "metadata": {
    "id": "jjuoo4tf0gPR"
   },
   "source": [
    "**Question-4**"
   ]
  },
  {
   "cell_type": "markdown",
   "metadata": {
    "id": "dcLxffd10gPR"
   },
   "source": [
    "Are there any companies in the rounds2 file which are not  present in companies ? Answer Y/N.\n"
   ]
  },
  {
   "cell_type": "code",
   "execution_count": 19,
   "metadata": {
    "id": "e5C1q7mz0gPR"
   },
   "outputs": [],
   "source": [
    "set1 = set(companies['permalink'].values)\n",
    "set2 = set(round2['company_permalink'].values)\n",
    "common = set1.intersection(set2)\n",
    "uncommon = set1.symmetric_difference(set2)"
   ]
  },
  {
   "cell_type": "code",
   "execution_count": 20,
   "metadata": {
    "colab": {
     "base_uri": "https://localhost:8080/"
    },
    "id": "NSyTr-eB0gPR",
    "outputId": "06fc1ab5-bfee-4c68-b275-9397853b40bc"
   },
   "outputs": [
    {
     "name": "stdout",
     "output_type": "stream",
     "text": [
      "66334\n",
      "73\n"
     ]
    }
   ],
   "source": [
    "print(len(common))\n",
    "print(len(uncommon))"
   ]
  },
  {
   "cell_type": "code",
   "execution_count": 21,
   "metadata": {
    "colab": {
     "base_uri": "https://localhost:8080/"
    },
    "id": "AYX3l6BC0gPR",
    "outputId": "d14b6c9f-2dc9-43c5-ac8f-a7696dd6e286"
   },
   "outputs": [
    {
     "data": {
      "text/plain": [
       "{'/organization/affluent-attachπ⌐-club-2',\n",
       " '/organization/affluent-attach├⌐-club-2',\n",
       " '/organization/asiansbookγäó',\n",
       " '/organization/asiansbook┬äó',\n",
       " '/organization/borπ⌐al-bikes-incorporated',\n",
       " '/organization/bor├⌐al-bikes-incorporated',\n",
       " '/organization/bricoprivπ⌐-com',\n",
       " '/organization/bricopriv├⌐-com',\n",
       " '/organization/capptπ║',\n",
       " '/organization/cappt├║',\n",
       " '/organization/cr├¿me-ciseaux',\n",
       " '/organization/e-cπübica',\n",
       " '/organization/e-c├èbica',\n",
       " '/organization/energystone-games-╟ü╡τ\\xa0│╞╕╕╞êå',\n",
       " '/organization/energystone-games-╟ü╡╟ƒ│╞╕╕╞êå',\n",
       " '/organization/etool-ioγö',\n",
       " '/organization/etool-io┬ö',\n",
       " '/organization/grπífica-en-lπ¡nea',\n",
       " '/organization/gr├ífica-en-l├¡nea',\n",
       " '/organization/huizuche-com-µâáτº\\xa0φ╜ª',\n",
       " '/organization/huizuche-com-╞âá╟ºƒφ╜ª',\n",
       " '/organization/ignia-bienes-raπ¡ces',\n",
       " '/organization/ignia-bienes-ra├¡ces',\n",
       " '/organization/inveno-φï▒σ¿üφ»║',\n",
       " '/organization/iproof---the-foundation-for-the-internet-of-thingsγäó',\n",
       " '/organization/iproof---the-foundation-for-the-internet-of-things┬äó',\n",
       " '/organization/itγçös-all-about-me',\n",
       " '/organization/it┬çös-all-about-me',\n",
       " '/organization/jean-pπ╝tz-produkte',\n",
       " '/organization/jean-p├╝tz-produkte',\n",
       " '/organization/jiwu-σéëσ▒ïτ╜æ',\n",
       " '/organization/knowγçönγçöact',\n",
       " '/organization/know┬çön┬çöact',\n",
       " '/organization/kπûπûk',\n",
       " '/organization/kπû├ûk',\n",
       " '/organization/lawpπádπ¡',\n",
       " '/organization/lawp├ád├¡',\n",
       " '/organization/magnet-tech-τúüτ\\xa0│τºæµüç',\n",
       " '/organization/magnet-tech-╟úü╟\\xa0│╟ºæ╞üç',\n",
       " '/organization/magnet-tech-╟úü╟ƒ│╟ºæ╞èç',\n",
       " '/organization/monnier-frπ¿res',\n",
       " '/organization/monnier-fr├¿res',\n",
       " '/organization/mπ⌐dica-santa-carmen-2',\n",
       " '/organization/m├⌐dica-santa-carmen-2',\n",
       " '/organization/patrofς░n',\n",
       " '/organization/patrof─░n',\n",
       " '/organization/prodς¢ti-cz',\n",
       " '/organization/prod─¢ti-cz',\n",
       " '/organization/przeσ¢wietl-pl',\n",
       " '/organization/prze┼¢wietl-pl',\n",
       " '/organization/salπúo-vip',\n",
       " '/organization/sal├úo-vip',\n",
       " '/organization/talentsignedγäó',\n",
       " '/organization/talentsigned┬äó',\n",
       " '/organization/thß║┐-giß╗¢i-di-σéß╗öng',\n",
       " '/organization/thß║┐-giß╗¢i-di-─é┴╗öng',\n",
       " '/organization/tipcat-interactive-µ▓öφê\\xa0σ┐íµü»τºæµüç',\n",
       " '/organization/tipcat-interactive-╞▓ö╚êƒς┐í╞ü»╟ºæ╞üç',\n",
       " '/organization/tπ¡o-conejo',\n",
       " '/organization/t├¡o-conejo',\n",
       " '/organization/vπí-de-tπíxi',\n",
       " '/organization/v├í-de-t├íxi',\n",
       " '/organization/weiche-tech-σûéφ╜ªτºæµüç',\n",
       " '/organization/weiche-tech-┼ûé╚╜ª╟ºæ╞èç',\n",
       " '/organization/weiche-tech-┼ûé╚╜ª╟ºæ╞üç',\n",
       " '/organization/whodatγçös-spaces',\n",
       " '/organization/whodat┬çös-spaces',\n",
       " '/organization/zengame-╟ªà╞╕╕╟ºæ╞èç',\n",
       " '/organization/zengame-╟ªà╞╕╕╟ºæ╞üç',\n",
       " '/organization/πüeron',\n",
       " '/organization/σ░novatiff-reklam-ve-tanς▒tς▒m-hizmetleri-tic',\n",
       " '/organization/─░novatiff-reklam-ve-tanς▒tς▒m-hizmetleri-tic',\n",
       " '/organization/├üeron'}"
      ]
     },
     "execution_count": 21,
     "metadata": {
      "tags": []
     },
     "output_type": "execute_result"
    }
   ],
   "source": [
    "uncommon"
   ]
  },
  {
   "cell_type": "markdown",
   "metadata": {
    "id": "yfhjonWn0gPR"
   },
   "source": [
    "**Answer:Yes**"
   ]
  },
  {
   "cell_type": "markdown",
   "metadata": {
    "id": "SG0P5M7p0gPS"
   },
   "source": [
    "**Question-5**"
   ]
  },
  {
   "cell_type": "markdown",
   "metadata": {
    "id": "t2GDtQTo0gPS"
   },
   "source": [
    "Merge the two data frames so that all  variables (columns)  in the companies frame are added to the rounds2 data frame. Name the merged frame master_frame. How many observations are present in master_frame ?\n"
   ]
  },
  {
   "cell_type": "code",
   "execution_count": 22,
   "metadata": {
    "colab": {
     "base_uri": "https://localhost:8080/"
    },
    "id": "K5irWnft0gPS",
    "outputId": "5c75eba4-9433-4662-d5ea-353e4433da59"
   },
   "outputs": [
    {
     "data": {
      "text/plain": [
       "(114909, 16)"
      ]
     },
     "execution_count": 22,
     "metadata": {
      "tags": []
     },
     "output_type": "execute_result"
    }
   ],
   "source": [
    "master_frame=pd.merge(companies, round2, how=\"inner\", left_on=\"permalink\", right_on=\"company_permalink\")\n",
    "master_frame.shape"
   ]
  },
  {
   "cell_type": "code",
   "execution_count": 23,
   "metadata": {
    "colab": {
     "base_uri": "https://localhost:8080/"
    },
    "id": "ysBm-Cwz0gPS",
    "outputId": "13a0f5b9-4841-45a8-8a44-c47a4d7c3b7f"
   },
   "outputs": [
    {
     "name": "stdout",
     "output_type": "stream",
     "text": [
      "<class 'pandas.core.frame.DataFrame'>\n",
      "Int64Index: 114909 entries, 0 to 114908\n",
      "Data columns (total 16 columns):\n",
      " #   Column                   Non-Null Count   Dtype  \n",
      "---  ------                   --------------   -----  \n",
      " 0   permalink                114909 non-null  object \n",
      " 1   name                     114908 non-null  object \n",
      " 2   homepage_url             108779 non-null  object \n",
      " 3   category_list            111512 non-null  object \n",
      " 4   status                   114909 non-null  object \n",
      " 5   country_code             106255 non-null  object \n",
      " 6   state_code               103989 non-null  object \n",
      " 7   region                   104766 non-null  object \n",
      " 8   city                     104769 non-null  object \n",
      " 9   founded_at               94407 non-null   object \n",
      " 10  company_permalink        114909 non-null  object \n",
      " 11  funding_round_permalink  114909 non-null  object \n",
      " 12  funding_round_type       114909 non-null  object \n",
      " 13  funding_round_code       31135 non-null   object \n",
      " 14  funded_at                114909 non-null  object \n",
      " 15  raised_amount_usd        94936 non-null   float64\n",
      "dtypes: float64(1), object(15)\n",
      "memory usage: 14.9+ MB\n"
     ]
    }
   ],
   "source": [
    "master_frame.info()"
   ]
  },
  {
   "cell_type": "code",
   "execution_count": 24,
   "metadata": {
    "id": "9euwzAol0gPS"
   },
   "outputs": [],
   "source": [
    "master_frame=master_frame.drop(['company_permalink'],axis=1)\n"
   ]
  },
  {
   "cell_type": "code",
   "execution_count": 25,
   "metadata": {
    "colab": {
     "base_uri": "https://localhost:8080/"
    },
    "id": "W_b_Sb3U0gPT",
    "outputId": "77e8e7cf-1dc1-44fd-e07d-f9e13395cdd9"
   },
   "outputs": [
    {
     "name": "stdout",
     "output_type": "stream",
     "text": [
      "<class 'pandas.core.frame.DataFrame'>\n",
      "Int64Index: 114909 entries, 0 to 114908\n",
      "Data columns (total 15 columns):\n",
      " #   Column                   Non-Null Count   Dtype  \n",
      "---  ------                   --------------   -----  \n",
      " 0   permalink                114909 non-null  object \n",
      " 1   name                     114908 non-null  object \n",
      " 2   homepage_url             108779 non-null  object \n",
      " 3   category_list            111512 non-null  object \n",
      " 4   status                   114909 non-null  object \n",
      " 5   country_code             106255 non-null  object \n",
      " 6   state_code               103989 non-null  object \n",
      " 7   region                   104766 non-null  object \n",
      " 8   city                     104769 non-null  object \n",
      " 9   founded_at               94407 non-null   object \n",
      " 10  funding_round_permalink  114909 non-null  object \n",
      " 11  funding_round_type       114909 non-null  object \n",
      " 12  funding_round_code       31135 non-null   object \n",
      " 13  funded_at                114909 non-null  object \n",
      " 14  raised_amount_usd        94936 non-null   float64\n",
      "dtypes: float64(1), object(14)\n",
      "memory usage: 14.0+ MB\n"
     ]
    }
   ],
   "source": [
    "master_frame.info()"
   ]
  },
  {
   "cell_type": "code",
   "execution_count": 26,
   "metadata": {
    "colab": {
     "base_uri": "https://localhost:8080/"
    },
    "id": "RPjbAGT20gPT",
    "outputId": "eab0ef28-dc45-47f1-ffc5-ef2fbe6a5e73"
   },
   "outputs": [
    {
     "data": {
      "text/plain": [
       "permalink                      0\n",
       "name                           1\n",
       "homepage_url                6130\n",
       "category_list               3397\n",
       "status                         0\n",
       "country_code                8654\n",
       "state_code                 10920\n",
       "region                     10143\n",
       "city                       10140\n",
       "founded_at                 20502\n",
       "funding_round_permalink        0\n",
       "funding_round_type             0\n",
       "funding_round_code         83774\n",
       "funded_at                      0\n",
       "raised_amount_usd          19973\n",
       "dtype: int64"
      ]
     },
     "execution_count": 26,
     "metadata": {
      "tags": []
     },
     "output_type": "execute_result"
    }
   ],
   "source": [
    "#missing value in master_frame\n",
    "master_frame.isnull().sum()"
   ]
  },
  {
   "cell_type": "code",
   "execution_count": 27,
   "metadata": {
    "colab": {
     "base_uri": "https://localhost:8080/"
    },
    "id": "gH8dxj7O0gPT",
    "outputId": "83d2b5b0-d077-4aaf-9c36-6ed722be0dd6"
   },
   "outputs": [
    {
     "data": {
      "text/plain": [
       "permalink                   0.00\n",
       "name                        0.00\n",
       "homepage_url                5.33\n",
       "category_list               2.96\n",
       "status                      0.00\n",
       "country_code                7.53\n",
       "state_code                  9.50\n",
       "region                      8.83\n",
       "city                        8.82\n",
       "founded_at                 17.84\n",
       "funding_round_permalink     0.00\n",
       "funding_round_type          0.00\n",
       "funding_round_code         72.90\n",
       "funded_at                   0.00\n",
       "raised_amount_usd          17.38\n",
       "dtype: float64"
      ]
     },
     "execution_count": 27,
     "metadata": {
      "tags": []
     },
     "output_type": "execute_result"
    }
   ],
   "source": [
    "# summing up the missing values (column-wise) and displaying fraction of NaNs\n",
    "round(100*(master_frame.isnull().sum()/len(master_frame.index)), 2)"
   ]
  },
  {
   "cell_type": "markdown",
   "metadata": {
    "id": "p5PxSnux0gPU"
   },
   "source": [
    "**The number of observation are present in  master_frame are 114909**"
   ]
  },
  {
   "cell_type": "code",
   "execution_count": 28,
   "metadata": {
    "colab": {
     "base_uri": "https://localhost:8080/"
    },
    "id": "6IicT7_t0gPV",
    "outputId": "03170688-7fbf-4fd2-9209-ba63fec8df64"
   },
   "outputs": [
    {
     "name": "stdout",
     "output_type": "stream",
     "text": [
      "<class 'pandas.core.frame.DataFrame'>\n",
      "Int64Index: 114909 entries, 0 to 114908\n",
      "Data columns (total 15 columns):\n",
      " #   Column                   Non-Null Count   Dtype  \n",
      "---  ------                   --------------   -----  \n",
      " 0   permalink                114909 non-null  object \n",
      " 1   name                     114908 non-null  object \n",
      " 2   homepage_url             108779 non-null  object \n",
      " 3   category_list            111512 non-null  object \n",
      " 4   status                   114909 non-null  object \n",
      " 5   country_code             106255 non-null  object \n",
      " 6   state_code               103989 non-null  object \n",
      " 7   region                   104766 non-null  object \n",
      " 8   city                     104769 non-null  object \n",
      " 9   founded_at               94407 non-null   object \n",
      " 10  funding_round_permalink  114909 non-null  object \n",
      " 11  funding_round_type       114909 non-null  object \n",
      " 12  funding_round_code       31135 non-null   object \n",
      " 13  funded_at                114909 non-null  object \n",
      " 14  raised_amount_usd        94936 non-null   float64\n",
      "dtypes: float64(1), object(14)\n",
      "memory usage: 14.0+ MB\n"
     ]
    }
   ],
   "source": [
    "master_frame.info()"
   ]
  },
  {
   "cell_type": "markdown",
   "metadata": {
    "id": "W91SZK0y0gPV"
   },
   "source": [
    "**Cleaning the data**\n",
    "\n",
    "Inspecting Null Values\n",
    "\n",
    "Dropping Unnecessary columns\n",
    "\n",
    "Dropping Uncessary rows"
   ]
  },
  {
   "cell_type": "code",
   "execution_count": 29,
   "metadata": {
    "colab": {
     "base_uri": "https://localhost:8080/"
    },
    "id": "U3WzFv2q0gPV",
    "outputId": "41f0f6c5-b13f-45dc-eab6-90435217caeb"
   },
   "outputs": [
    {
     "data": {
      "text/plain": [
       "permalink                      0\n",
       "name                           1\n",
       "homepage_url                6130\n",
       "category_list               3397\n",
       "status                         0\n",
       "country_code                8654\n",
       "state_code                 10920\n",
       "region                     10143\n",
       "city                       10140\n",
       "founded_at                 20502\n",
       "funding_round_permalink        0\n",
       "funding_round_type             0\n",
       "funding_round_code         83774\n",
       "funded_at                      0\n",
       "raised_amount_usd          19973\n",
       "dtype: int64"
      ]
     },
     "execution_count": 29,
     "metadata": {
      "tags": []
     },
     "output_type": "execute_result"
    }
   ],
   "source": [
    "# Inspecting Null Value column-wise\n",
    "master_frame.isnull().sum(axis=0)"
   ]
  },
  {
   "cell_type": "code",
   "execution_count": 30,
   "metadata": {
    "colab": {
     "base_uri": "https://localhost:8080/"
    },
    "id": "EpwCr5Xr0gPV",
    "outputId": "2ae64520-8507-42fc-b944-f7cb53421596"
   },
   "outputs": [
    {
     "name": "stdout",
     "output_type": "stream",
     "text": [
      "permalink                   0.00\n",
      "name                        0.00\n",
      "homepage_url                5.33\n",
      "category_list               2.96\n",
      "status                      0.00\n",
      "country_code                7.53\n",
      "state_code                  9.50\n",
      "region                      8.83\n",
      "city                        8.82\n",
      "founded_at                 17.84\n",
      "funding_round_permalink     0.00\n",
      "funding_round_type          0.00\n",
      "funding_round_code         72.90\n",
      "funded_at                   0.00\n",
      "raised_amount_usd          17.38\n",
      "dtype: float64\n"
     ]
    }
   ],
   "source": [
    "#Inspecting the Null values percentage , column-wise\n",
    "print(round(100*(master_frame.isnull().sum()/len(master_frame.index)), 2))"
   ]
  },
  {
   "cell_type": "code",
   "execution_count": 31,
   "metadata": {
    "colab": {
     "base_uri": "https://localhost:8080/",
     "height": 396
    },
    "id": "MNG6rSsW0gPV",
    "outputId": "e8cc295f-ac87-44ae-c72c-13a06af59f8a"
   },
   "outputs": [
    {
     "data": {
      "text/html": [
       "<div>\n",
       "<style scoped>\n",
       "    .dataframe tbody tr th:only-of-type {\n",
       "        vertical-align: middle;\n",
       "    }\n",
       "\n",
       "    .dataframe tbody tr th {\n",
       "        vertical-align: top;\n",
       "    }\n",
       "\n",
       "    .dataframe thead th {\n",
       "        text-align: right;\n",
       "    }\n",
       "</style>\n",
       "<table border=\"1\" class=\"dataframe\">\n",
       "  <thead>\n",
       "    <tr style=\"text-align: right;\">\n",
       "      <th></th>\n",
       "      <th>permalink</th>\n",
       "      <th>name</th>\n",
       "      <th>homepage_url</th>\n",
       "      <th>category_list</th>\n",
       "      <th>status</th>\n",
       "      <th>country_code</th>\n",
       "      <th>state_code</th>\n",
       "      <th>region</th>\n",
       "      <th>city</th>\n",
       "      <th>founded_at</th>\n",
       "      <th>funding_round_permalink</th>\n",
       "      <th>funding_round_type</th>\n",
       "      <th>funding_round_code</th>\n",
       "      <th>funded_at</th>\n",
       "      <th>raised_amount_usd</th>\n",
       "    </tr>\n",
       "  </thead>\n",
       "  <tbody>\n",
       "    <tr>\n",
       "      <th>0</th>\n",
       "      <td>/organization/-fame</td>\n",
       "      <td>#fame</td>\n",
       "      <td>http://livfame.com</td>\n",
       "      <td>Media</td>\n",
       "      <td>operating</td>\n",
       "      <td>IND</td>\n",
       "      <td>16</td>\n",
       "      <td>Mumbai</td>\n",
       "      <td>Mumbai</td>\n",
       "      <td>NaN</td>\n",
       "      <td>/funding-round/9a01d05418af9f794eebff7ace91f638</td>\n",
       "      <td>venture</td>\n",
       "      <td>B</td>\n",
       "      <td>05-01-2015</td>\n",
       "      <td>10.000000</td>\n",
       "    </tr>\n",
       "    <tr>\n",
       "      <th>1</th>\n",
       "      <td>/organization/-qounter</td>\n",
       "      <td>:Qounter</td>\n",
       "      <td>http://www.qounter.com</td>\n",
       "      <td>Application Platforms|Real Time|Social Network...</td>\n",
       "      <td>operating</td>\n",
       "      <td>USA</td>\n",
       "      <td>DE</td>\n",
       "      <td>DE - Other</td>\n",
       "      <td>Delaware City</td>\n",
       "      <td>04-09-2014</td>\n",
       "      <td>/funding-round/22dacff496eb7acb2b901dec1dfe5633</td>\n",
       "      <td>venture</td>\n",
       "      <td>A</td>\n",
       "      <td>14-10-2014</td>\n",
       "      <td>NaN</td>\n",
       "    </tr>\n",
       "    <tr>\n",
       "      <th>2</th>\n",
       "      <td>/organization/-qounter</td>\n",
       "      <td>:Qounter</td>\n",
       "      <td>http://www.qounter.com</td>\n",
       "      <td>Application Platforms|Real Time|Social Network...</td>\n",
       "      <td>operating</td>\n",
       "      <td>USA</td>\n",
       "      <td>DE</td>\n",
       "      <td>DE - Other</td>\n",
       "      <td>Delaware City</td>\n",
       "      <td>04-09-2014</td>\n",
       "      <td>/funding-round/b44fbb94153f6cdef13083530bb48030</td>\n",
       "      <td>seed</td>\n",
       "      <td>NaN</td>\n",
       "      <td>01-03-2014</td>\n",
       "      <td>0.700000</td>\n",
       "    </tr>\n",
       "    <tr>\n",
       "      <th>3</th>\n",
       "      <td>/organization/-the-one-of-them-inc-</td>\n",
       "      <td>(THE) ONE of THEM,Inc.</td>\n",
       "      <td>http://oneofthem.jp</td>\n",
       "      <td>Apps|Games|Mobile</td>\n",
       "      <td>operating</td>\n",
       "      <td>NaN</td>\n",
       "      <td>NaN</td>\n",
       "      <td>NaN</td>\n",
       "      <td>NaN</td>\n",
       "      <td>NaN</td>\n",
       "      <td>/funding-round/650b8f704416801069bb178a1418776b</td>\n",
       "      <td>venture</td>\n",
       "      <td>B</td>\n",
       "      <td>30-01-2014</td>\n",
       "      <td>3.406878</td>\n",
       "    </tr>\n",
       "    <tr>\n",
       "      <th>4</th>\n",
       "      <td>/organization/0-6-com</td>\n",
       "      <td>0-6.com</td>\n",
       "      <td>http://www.0-6.com</td>\n",
       "      <td>Curated Web</td>\n",
       "      <td>operating</td>\n",
       "      <td>CHN</td>\n",
       "      <td>22</td>\n",
       "      <td>Beijing</td>\n",
       "      <td>Beijing</td>\n",
       "      <td>01-01-2007</td>\n",
       "      <td>/funding-round/5727accaeaa57461bd22a9bdd945382d</td>\n",
       "      <td>venture</td>\n",
       "      <td>A</td>\n",
       "      <td>19-03-2008</td>\n",
       "      <td>2.000000</td>\n",
       "    </tr>\n",
       "  </tbody>\n",
       "</table>\n",
       "</div>"
      ],
      "text/plain": [
       "                             permalink  ... raised_amount_usd\n",
       "0                  /organization/-fame  ...         10.000000\n",
       "1               /organization/-qounter  ...               NaN\n",
       "2               /organization/-qounter  ...          0.700000\n",
       "3  /organization/-the-one-of-them-inc-  ...          3.406878\n",
       "4                /organization/0-6-com  ...          2.000000\n",
       "\n",
       "[5 rows x 15 columns]"
      ]
     },
     "execution_count": 31,
     "metadata": {
      "tags": []
     },
     "output_type": "execute_result"
    }
   ],
   "source": [
    "#Converting $ to million $.\n",
    "master_frame['raised_amount_usd'] = master_frame['raised_amount_usd']/1000000\n",
    "master_frame.head()"
   ]
  },
  {
   "cell_type": "code",
   "execution_count": 32,
   "metadata": {
    "colab": {
     "base_uri": "https://localhost:8080/",
     "height": 282
    },
    "id": "KLiXCryg0gPW",
    "outputId": "a880284c-7591-48d0-fe41-7cc303c4a24e"
   },
   "outputs": [
    {
     "data": {
      "image/png": "[encoded data removed]",
      "text/plain": [
       "<Figure size 432x288 with 1 Axes>"
      ]
     },
     "metadata": {
      "tags": []
     },
     "output_type": "display_data"
    }
   ],
   "source": [
    "import seaborn as sns\n",
    "\n",
    "# Create a distribution plot\n",
    "plt.style.use(\"ggplot\")\n",
    "sns.distplot(master_frame['raised_amount_usd'],color='b',bins=50)\n",
    "plt.yscale('log')\n",
    "#plt.xlim(0, 76)\n",
    "plt.show()"
   ]
  },
  {
   "cell_type": "code",
   "execution_count": 33,
   "metadata": {
    "colab": {
     "base_uri": "https://localhost:8080/"
    },
    "id": "1wuq6LII0gPW",
    "outputId": "de490783-13d1-4e26-ce24-f33acdb4a571"
   },
   "outputs": [
    {
     "name": "stdout",
     "output_type": "stream",
     "text": [
      "permalink                   0.00\n",
      "name                        0.00\n",
      "homepage_url                5.33\n",
      "category_list               2.96\n",
      "status                      0.00\n",
      "country_code                7.53\n",
      "state_code                  9.50\n",
      "region                      8.83\n",
      "city                        8.82\n",
      "founded_at                 17.84\n",
      "funding_round_permalink     0.00\n",
      "funding_round_type          0.00\n",
      "funding_round_code         72.90\n",
      "funded_at                   0.00\n",
      "raised_amount_usd          17.38\n",
      "dtype: float64\n"
     ]
    }
   ],
   "source": [
    "#Inspecting the Null values percentage , column-wise\n",
    "print(round(100*(master_frame.isnull().sum()/len(master_frame.index)), 2))"
   ]
  },
  {
   "cell_type": "markdown",
   "metadata": {
    "id": "b4fyH4R40gPW"
   },
   "source": [
    "**There are so many NAN values in columns funding_round_code and founded at so we can drop this columns**"
   ]
  },
  {
   "cell_type": "code",
   "execution_count": 34,
   "metadata": {
    "id": "0KwyVQ1c0gPW"
   },
   "outputs": [],
   "source": [
    "# Removing the columns\n",
    "master_frame=master_frame.drop(['funding_round_code','founded_at'],axis=1)\n"
   ]
  },
  {
   "cell_type": "code",
   "execution_count": 35,
   "metadata": {
    "colab": {
     "base_uri": "https://localhost:8080/"
    },
    "id": "u-jsb1yd0gPW",
    "outputId": "3134746b-fe2d-4573-cc68-07cc578ab6df"
   },
   "outputs": [
    {
     "name": "stdout",
     "output_type": "stream",
     "text": [
      "permalink                   0.00\n",
      "name                        0.00\n",
      "homepage_url                5.33\n",
      "category_list               2.96\n",
      "status                      0.00\n",
      "country_code                7.53\n",
      "state_code                  9.50\n",
      "region                      8.83\n",
      "city                        8.82\n",
      "funding_round_permalink     0.00\n",
      "funding_round_type          0.00\n",
      "funded_at                   0.00\n",
      "raised_amount_usd          17.38\n",
      "dtype: float64\n"
     ]
    }
   ],
   "source": [
    "#Inspecting the Null values percentage , column-wise\n",
    "print(round(100*(master_frame.isnull().sum()/len(master_frame.index)), 2))"
   ]
  },
  {
   "cell_type": "code",
   "execution_count": 36,
   "metadata": {
    "id": "3OHkGqul0gPX"
   },
   "outputs": [],
   "source": [
    "# we can drop unnessary columns\n",
    "master_frame=master_frame.drop(['state_code','region','city'],axis=1)"
   ]
  },
  {
   "cell_type": "code",
   "execution_count": 37,
   "metadata": {
    "colab": {
     "base_uri": "https://localhost:8080/"
    },
    "id": "6N9n2vcj0gPX",
    "outputId": "299e5824-e460-47db-9306-d3eea6f8ce89"
   },
   "outputs": [
    {
     "name": "stdout",
     "output_type": "stream",
     "text": [
      "permalink                   0.00\n",
      "name                        0.00\n",
      "homepage_url                5.33\n",
      "category_list               2.96\n",
      "status                      0.00\n",
      "country_code                7.53\n",
      "funding_round_permalink     0.00\n",
      "funding_round_type          0.00\n",
      "funded_at                   0.00\n",
      "raised_amount_usd          17.38\n",
      "dtype: float64\n"
     ]
    }
   ],
   "source": [
    "#Inspecting the Null values percentage , column-wise\n",
    "print(round(100*(master_frame.isnull().sum()/len(master_frame.index)), 2))"
   ]
  },
  {
   "cell_type": "markdown",
   "metadata": {
    "id": "8KyAbGd10gPX"
   },
   "source": [
    "**Dropping Unnessary rows**"
   ]
  },
  {
   "cell_type": "code",
   "execution_count": 38,
   "metadata": {
    "id": "-VVIFnxo0gPX"
   },
   "outputs": [],
   "source": [
    "#Rows of missing values can be removed when the NULL values (missing values) are around 5% (or less) of the total data.\n",
    "master_frame = master_frame[~(master_frame['homepage_url'].isnull()|\n",
    "                             master_frame['category_list'].isnull())]"
   ]
  },
  {
   "cell_type": "code",
   "execution_count": 39,
   "metadata": {
    "colab": {
     "base_uri": "https://localhost:8080/"
    },
    "id": "SJgNSBsV0gPX",
    "outputId": "dd0ca8c5-7259-4add-f2cb-70db4787f47c"
   },
   "outputs": [
    {
     "name": "stdout",
     "output_type": "stream",
     "text": [
      "permalink                   0.00\n",
      "name                        0.00\n",
      "homepage_url                0.00\n",
      "category_list               0.00\n",
      "status                      0.00\n",
      "country_code                5.69\n",
      "funding_round_permalink     0.00\n",
      "funding_round_type          0.00\n",
      "funded_at                   0.00\n",
      "raised_amount_usd          15.49\n",
      "dtype: float64\n"
     ]
    }
   ],
   "source": [
    "#Inspecting the Null values percentage , column-wise\n",
    "print(round(100*(master_frame.isnull().sum()/len(master_frame.index)), 2))"
   ]
  },
  {
   "cell_type": "code",
   "execution_count": 40,
   "metadata": {
    "colab": {
     "base_uri": "https://localhost:8080/"
    },
    "id": "eOkepw6y0gPX",
    "outputId": "ed0073ef-6c67-428d-fdbc-9b43ec59df28"
   },
   "outputs": [
    {
     "name": "stdout",
     "output_type": "stream",
     "text": [
      "<class 'pandas.core.frame.DataFrame'>\n",
      "Int64Index: 106351 entries, 0 to 114908\n",
      "Data columns (total 10 columns):\n",
      " #   Column                   Non-Null Count   Dtype  \n",
      "---  ------                   --------------   -----  \n",
      " 0   permalink                106351 non-null  object \n",
      " 1   name                     106350 non-null  object \n",
      " 2   homepage_url             106351 non-null  object \n",
      " 3   category_list            106351 non-null  object \n",
      " 4   status                   106351 non-null  object \n",
      " 5   country_code             100298 non-null  object \n",
      " 6   funding_round_permalink  106351 non-null  object \n",
      " 7   funding_round_type       106351 non-null  object \n",
      " 8   funded_at                106351 non-null  object \n",
      " 9   raised_amount_usd        89882 non-null   float64\n",
      "dtypes: float64(1), object(9)\n",
      "memory usage: 8.9+ MB\n"
     ]
    }
   ],
   "source": [
    "#Now data is clean\n",
    "master_frame.info()"
   ]
  },
  {
   "cell_type": "code",
   "execution_count": 41,
   "metadata": {
    "id": "Wg1HgOW50gPY"
   },
   "outputs": [],
   "source": [
    "# Saving the data for further inspection\n",
    "master_frame.to_csv('master_frame.csv')"
   ]
  },
  {
   "cell_type": "markdown",
   "metadata": {
    "id": "zThQYRCK0gPY"
   },
   "source": [
    "# Check point-2:Funding Type Analysis"
   ]
  },
  {
   "cell_type": "code",
   "execution_count": 42,
   "metadata": {
    "colab": {
     "base_uri": "https://localhost:8080/",
     "height": 289
    },
    "id": "FZVQkgyy0gPY",
    "outputId": "8f8c8340-9c7b-4c98-986a-983562748d96"
   },
   "outputs": [
    {
     "data": {
      "text/html": [
       "<div>\n",
       "<style scoped>\n",
       "    .dataframe tbody tr th:only-of-type {\n",
       "        vertical-align: middle;\n",
       "    }\n",
       "\n",
       "    .dataframe tbody tr th {\n",
       "        vertical-align: top;\n",
       "    }\n",
       "\n",
       "    .dataframe thead th {\n",
       "        text-align: right;\n",
       "    }\n",
       "</style>\n",
       "<table border=\"1\" class=\"dataframe\">\n",
       "  <thead>\n",
       "    <tr style=\"text-align: right;\">\n",
       "      <th></th>\n",
       "      <th>permalink</th>\n",
       "      <th>name</th>\n",
       "      <th>homepage_url</th>\n",
       "      <th>category_list</th>\n",
       "      <th>status</th>\n",
       "      <th>country_code</th>\n",
       "      <th>funding_round_permalink</th>\n",
       "      <th>funding_round_type</th>\n",
       "      <th>funded_at</th>\n",
       "      <th>raised_amount_usd</th>\n",
       "    </tr>\n",
       "  </thead>\n",
       "  <tbody>\n",
       "    <tr>\n",
       "      <th>0</th>\n",
       "      <td>/organization/-fame</td>\n",
       "      <td>#fame</td>\n",
       "      <td>http://livfame.com</td>\n",
       "      <td>Media</td>\n",
       "      <td>operating</td>\n",
       "      <td>IND</td>\n",
       "      <td>/funding-round/9a01d05418af9f794eebff7ace91f638</td>\n",
       "      <td>venture</td>\n",
       "      <td>05-01-2015</td>\n",
       "      <td>10.000000</td>\n",
       "    </tr>\n",
       "    <tr>\n",
       "      <th>1</th>\n",
       "      <td>/organization/-qounter</td>\n",
       "      <td>:Qounter</td>\n",
       "      <td>http://www.qounter.com</td>\n",
       "      <td>Application Platforms|Real Time|Social Network...</td>\n",
       "      <td>operating</td>\n",
       "      <td>USA</td>\n",
       "      <td>/funding-round/22dacff496eb7acb2b901dec1dfe5633</td>\n",
       "      <td>venture</td>\n",
       "      <td>14-10-2014</td>\n",
       "      <td>NaN</td>\n",
       "    </tr>\n",
       "    <tr>\n",
       "      <th>2</th>\n",
       "      <td>/organization/-qounter</td>\n",
       "      <td>:Qounter</td>\n",
       "      <td>http://www.qounter.com</td>\n",
       "      <td>Application Platforms|Real Time|Social Network...</td>\n",
       "      <td>operating</td>\n",
       "      <td>USA</td>\n",
       "      <td>/funding-round/b44fbb94153f6cdef13083530bb48030</td>\n",
       "      <td>seed</td>\n",
       "      <td>01-03-2014</td>\n",
       "      <td>0.700000</td>\n",
       "    </tr>\n",
       "    <tr>\n",
       "      <th>3</th>\n",
       "      <td>/organization/-the-one-of-them-inc-</td>\n",
       "      <td>(THE) ONE of THEM,Inc.</td>\n",
       "      <td>http://oneofthem.jp</td>\n",
       "      <td>Apps|Games|Mobile</td>\n",
       "      <td>operating</td>\n",
       "      <td>NaN</td>\n",
       "      <td>/funding-round/650b8f704416801069bb178a1418776b</td>\n",
       "      <td>venture</td>\n",
       "      <td>30-01-2014</td>\n",
       "      <td>3.406878</td>\n",
       "    </tr>\n",
       "    <tr>\n",
       "      <th>4</th>\n",
       "      <td>/organization/0-6-com</td>\n",
       "      <td>0-6.com</td>\n",
       "      <td>http://www.0-6.com</td>\n",
       "      <td>Curated Web</td>\n",
       "      <td>operating</td>\n",
       "      <td>CHN</td>\n",
       "      <td>/funding-round/5727accaeaa57461bd22a9bdd945382d</td>\n",
       "      <td>venture</td>\n",
       "      <td>19-03-2008</td>\n",
       "      <td>2.000000</td>\n",
       "    </tr>\n",
       "  </tbody>\n",
       "</table>\n",
       "</div>"
      ],
      "text/plain": [
       "                             permalink  ... raised_amount_usd\n",
       "0                  /organization/-fame  ...         10.000000\n",
       "1               /organization/-qounter  ...               NaN\n",
       "2               /organization/-qounter  ...          0.700000\n",
       "3  /organization/-the-one-of-them-inc-  ...          3.406878\n",
       "4                /organization/0-6-com  ...          2.000000\n",
       "\n",
       "[5 rows x 10 columns]"
      ]
     },
     "execution_count": 42,
     "metadata": {
      "tags": []
     },
     "output_type": "execute_result"
    }
   ],
   "source": [
    "master_frame.head()"
   ]
  },
  {
   "cell_type": "code",
   "execution_count": 43,
   "metadata": {
    "colab": {
     "base_uri": "https://localhost:8080/"
    },
    "id": "C7N4o7MO0gPY",
    "outputId": "80c94898-b0f2-4856-f4c9-6f5d9cda9ed3"
   },
   "outputs": [
    {
     "data": {
      "text/plain": [
       "venture                  51743\n",
       "seed                     28689\n",
       "debt_financing            6476\n",
       "angel                     5875\n",
       "undisclosed               4117\n",
       "equity_crowdfunding       2175\n",
       "grant                     2107\n",
       "private_equity            2068\n",
       "convertible_note          1687\n",
       "post_ipo_equity            620\n",
       "product_crowdfunding       402\n",
       "post_ipo_debt              152\n",
       "non_equity_assistance      151\n",
       "secondary_market            89\n",
       "Name: funding_round_type, dtype: int64"
      ]
     },
     "execution_count": 43,
     "metadata": {
      "tags": []
     },
     "output_type": "execute_result"
    }
   ],
   "source": [
    "#Observing the unique funding_round_type\n",
    "master_frame.funding_round_type.value_counts()"
   ]
  },
  {
   "cell_type": "code",
   "execution_count": 44,
   "metadata": {
    "colab": {
     "base_uri": "https://localhost:8080/",
     "height": 289
    },
    "id": "rBTW0D8u0gPY",
    "outputId": "3446fa6a-916b-4118-8e13-3ddc4cc0da86"
   },
   "outputs": [
    {
     "data": {
      "text/html": [
       "<div>\n",
       "<style scoped>\n",
       "    .dataframe tbody tr th:only-of-type {\n",
       "        vertical-align: middle;\n",
       "    }\n",
       "\n",
       "    .dataframe tbody tr th {\n",
       "        vertical-align: top;\n",
       "    }\n",
       "\n",
       "    .dataframe thead th {\n",
       "        text-align: right;\n",
       "    }\n",
       "</style>\n",
       "<table border=\"1\" class=\"dataframe\">\n",
       "  <thead>\n",
       "    <tr style=\"text-align: right;\">\n",
       "      <th></th>\n",
       "      <th>permalink</th>\n",
       "      <th>name</th>\n",
       "      <th>homepage_url</th>\n",
       "      <th>category_list</th>\n",
       "      <th>status</th>\n",
       "      <th>country_code</th>\n",
       "      <th>funding_round_permalink</th>\n",
       "      <th>funding_round_type</th>\n",
       "      <th>funded_at</th>\n",
       "      <th>raised_amount_usd</th>\n",
       "    </tr>\n",
       "  </thead>\n",
       "  <tbody>\n",
       "    <tr>\n",
       "      <th>0</th>\n",
       "      <td>/organization/-fame</td>\n",
       "      <td>#fame</td>\n",
       "      <td>http://livfame.com</td>\n",
       "      <td>Media</td>\n",
       "      <td>operating</td>\n",
       "      <td>IND</td>\n",
       "      <td>/funding-round/9a01d05418af9f794eebff7ace91f638</td>\n",
       "      <td>venture</td>\n",
       "      <td>05-01-2015</td>\n",
       "      <td>10.000000</td>\n",
       "    </tr>\n",
       "    <tr>\n",
       "      <th>1</th>\n",
       "      <td>/organization/-qounter</td>\n",
       "      <td>:Qounter</td>\n",
       "      <td>http://www.qounter.com</td>\n",
       "      <td>Application Platforms|Real Time|Social Network...</td>\n",
       "      <td>operating</td>\n",
       "      <td>USA</td>\n",
       "      <td>/funding-round/22dacff496eb7acb2b901dec1dfe5633</td>\n",
       "      <td>venture</td>\n",
       "      <td>14-10-2014</td>\n",
       "      <td>NaN</td>\n",
       "    </tr>\n",
       "    <tr>\n",
       "      <th>2</th>\n",
       "      <td>/organization/-qounter</td>\n",
       "      <td>:Qounter</td>\n",
       "      <td>http://www.qounter.com</td>\n",
       "      <td>Application Platforms|Real Time|Social Network...</td>\n",
       "      <td>operating</td>\n",
       "      <td>USA</td>\n",
       "      <td>/funding-round/b44fbb94153f6cdef13083530bb48030</td>\n",
       "      <td>seed</td>\n",
       "      <td>01-03-2014</td>\n",
       "      <td>0.700000</td>\n",
       "    </tr>\n",
       "    <tr>\n",
       "      <th>3</th>\n",
       "      <td>/organization/-the-one-of-them-inc-</td>\n",
       "      <td>(THE) ONE of THEM,Inc.</td>\n",
       "      <td>http://oneofthem.jp</td>\n",
       "      <td>Apps|Games|Mobile</td>\n",
       "      <td>operating</td>\n",
       "      <td>NaN</td>\n",
       "      <td>/funding-round/650b8f704416801069bb178a1418776b</td>\n",
       "      <td>venture</td>\n",
       "      <td>30-01-2014</td>\n",
       "      <td>3.406878</td>\n",
       "    </tr>\n",
       "    <tr>\n",
       "      <th>4</th>\n",
       "      <td>/organization/0-6-com</td>\n",
       "      <td>0-6.com</td>\n",
       "      <td>http://www.0-6.com</td>\n",
       "      <td>Curated Web</td>\n",
       "      <td>operating</td>\n",
       "      <td>CHN</td>\n",
       "      <td>/funding-round/5727accaeaa57461bd22a9bdd945382d</td>\n",
       "      <td>venture</td>\n",
       "      <td>19-03-2008</td>\n",
       "      <td>2.000000</td>\n",
       "    </tr>\n",
       "  </tbody>\n",
       "</table>\n",
       "</div>"
      ],
      "text/plain": [
       "                             permalink  ... raised_amount_usd\n",
       "0                  /organization/-fame  ...         10.000000\n",
       "1               /organization/-qounter  ...               NaN\n",
       "2               /organization/-qounter  ...          0.700000\n",
       "3  /organization/-the-one-of-them-inc-  ...          3.406878\n",
       "4                /organization/0-6-com  ...          2.000000\n",
       "\n",
       "[5 rows x 10 columns]"
      ]
     },
     "execution_count": 44,
     "metadata": {
      "tags": []
     },
     "output_type": "execute_result"
    }
   ],
   "source": [
    "#Retaining the rows with only four investment types\n",
    "master_frame = master_frame[(master_frame['funding_round_type'] == 'venture') \n",
    "                            | (master_frame['funding_round_type'] == 'seed')\n",
    "                            | (master_frame['funding_round_type'] == 'angel')\n",
    "                            | (master_frame['funding_round_type'] == 'private_equity')]\n",
    "master_frame.head()"
   ]
  },
  {
   "cell_type": "code",
   "execution_count": 45,
   "metadata": {
    "colab": {
     "base_uri": "https://localhost:8080/"
    },
    "id": "79DdCzYe0gPZ",
    "outputId": "faab4a85-02ed-4a14-95dd-46a2f7ff04db"
   },
   "outputs": [
    {
     "data": {
      "text/plain": [
       "venture           51743\n",
       "seed              28689\n",
       "angel              5875\n",
       "private_equity     2068\n",
       "Name: funding_round_type, dtype: int64"
      ]
     },
     "execution_count": 45,
     "metadata": {
      "tags": []
     },
     "output_type": "execute_result"
    }
   ],
   "source": [
    "#Observing the unique funding_round_type\n",
    "master_frame.funding_round_type.value_counts()"
   ]
  },
  {
   "cell_type": "code",
   "execution_count": 46,
   "metadata": {
    "colab": {
     "base_uri": "https://localhost:8080/",
     "height": 289
    },
    "id": "FfEU39Kj0gPZ",
    "outputId": "74d5afc2-a18d-4322-fe11-f4dbf426b070"
   },
   "outputs": [
    {
     "data": {
      "text/html": [
       "<div>\n",
       "<style scoped>\n",
       "    .dataframe tbody tr th:only-of-type {\n",
       "        vertical-align: middle;\n",
       "    }\n",
       "\n",
       "    .dataframe tbody tr th {\n",
       "        vertical-align: top;\n",
       "    }\n",
       "\n",
       "    .dataframe thead th {\n",
       "        text-align: right;\n",
       "    }\n",
       "</style>\n",
       "<table border=\"1\" class=\"dataframe\">\n",
       "  <thead>\n",
       "    <tr style=\"text-align: right;\">\n",
       "      <th></th>\n",
       "      <th>permalink</th>\n",
       "      <th>name</th>\n",
       "      <th>homepage_url</th>\n",
       "      <th>category_list</th>\n",
       "      <th>status</th>\n",
       "      <th>country_code</th>\n",
       "      <th>funding_round_permalink</th>\n",
       "      <th>funding_round_type</th>\n",
       "      <th>funded_at</th>\n",
       "      <th>raised_amount_usd</th>\n",
       "    </tr>\n",
       "  </thead>\n",
       "  <tbody>\n",
       "    <tr>\n",
       "      <th>0</th>\n",
       "      <td>/organization/-fame</td>\n",
       "      <td>#fame</td>\n",
       "      <td>http://livfame.com</td>\n",
       "      <td>Media</td>\n",
       "      <td>operating</td>\n",
       "      <td>IND</td>\n",
       "      <td>/funding-round/9a01d05418af9f794eebff7ace91f638</td>\n",
       "      <td>venture</td>\n",
       "      <td>05-01-2015</td>\n",
       "      <td>10.000000</td>\n",
       "    </tr>\n",
       "    <tr>\n",
       "      <th>1</th>\n",
       "      <td>/organization/-qounter</td>\n",
       "      <td>:Qounter</td>\n",
       "      <td>http://www.qounter.com</td>\n",
       "      <td>Application Platforms|Real Time|Social Network...</td>\n",
       "      <td>operating</td>\n",
       "      <td>USA</td>\n",
       "      <td>/funding-round/22dacff496eb7acb2b901dec1dfe5633</td>\n",
       "      <td>venture</td>\n",
       "      <td>14-10-2014</td>\n",
       "      <td>NaN</td>\n",
       "    </tr>\n",
       "    <tr>\n",
       "      <th>2</th>\n",
       "      <td>/organization/-qounter</td>\n",
       "      <td>:Qounter</td>\n",
       "      <td>http://www.qounter.com</td>\n",
       "      <td>Application Platforms|Real Time|Social Network...</td>\n",
       "      <td>operating</td>\n",
       "      <td>USA</td>\n",
       "      <td>/funding-round/b44fbb94153f6cdef13083530bb48030</td>\n",
       "      <td>seed</td>\n",
       "      <td>01-03-2014</td>\n",
       "      <td>0.700000</td>\n",
       "    </tr>\n",
       "    <tr>\n",
       "      <th>3</th>\n",
       "      <td>/organization/-the-one-of-them-inc-</td>\n",
       "      <td>(THE) ONE of THEM,Inc.</td>\n",
       "      <td>http://oneofthem.jp</td>\n",
       "      <td>Apps|Games|Mobile</td>\n",
       "      <td>operating</td>\n",
       "      <td>NaN</td>\n",
       "      <td>/funding-round/650b8f704416801069bb178a1418776b</td>\n",
       "      <td>venture</td>\n",
       "      <td>30-01-2014</td>\n",
       "      <td>3.406878</td>\n",
       "    </tr>\n",
       "    <tr>\n",
       "      <th>4</th>\n",
       "      <td>/organization/0-6-com</td>\n",
       "      <td>0-6.com</td>\n",
       "      <td>http://www.0-6.com</td>\n",
       "      <td>Curated Web</td>\n",
       "      <td>operating</td>\n",
       "      <td>CHN</td>\n",
       "      <td>/funding-round/5727accaeaa57461bd22a9bdd945382d</td>\n",
       "      <td>venture</td>\n",
       "      <td>19-03-2008</td>\n",
       "      <td>2.000000</td>\n",
       "    </tr>\n",
       "  </tbody>\n",
       "</table>\n",
       "</div>"
      ],
      "text/plain": [
       "                             permalink  ... raised_amount_usd\n",
       "0                  /organization/-fame  ...         10.000000\n",
       "1               /organization/-qounter  ...               NaN\n",
       "2               /organization/-qounter  ...          0.700000\n",
       "3  /organization/-the-one-of-them-inc-  ...          3.406878\n",
       "4                /organization/0-6-com  ...          2.000000\n",
       "\n",
       "[5 rows x 10 columns]"
      ]
     },
     "execution_count": 46,
     "metadata": {
      "tags": []
     },
     "output_type": "execute_result"
    }
   ],
   "source": [
    "#Converting $ to million $.\n",
    "#master_frame['raised_amount_usd'] = master_frame['raised_amount_usd']/1000000\n",
    "master_frame.head()"
   ]
  },
  {
   "cell_type": "code",
   "execution_count": 47,
   "metadata": {
    "id": "iFuviO8z0gPZ"
   },
   "outputs": [],
   "source": [
    "#Create a pieplot\n",
    "import matplotlib.pyplot as plt\n",
    "import seaborn as sns\n"
   ]
  },
  {
   "cell_type": "code",
   "execution_count": 48,
   "metadata": {
    "colab": {
     "base_uri": "https://localhost:8080/",
     "height": 605
    },
    "id": "UU7Dfw1X0gPZ",
    "outputId": "0c526b74-dab5-41f2-bec0-82f696774098"
   },
   "outputs": [
    {
     "data": {
      "image/png": "[encoded data removed]",
      "text/plain": [
       "<Figure size 792x576 with 1 Axes>"
      ]
     },
     "metadata": {
      "tags": []
     },
     "output_type": "display_data"
    }
   ],
   "source": [
    "sns.set(rc={'figure.figsize':(11,8)})\n",
    "sns.set_style(\"whitegrid\")\n",
    "round_types = master_frame.funding_round_type.value_counts()\n",
    "plt.pie(round_types.values, labels=round_types.index, autopct='%.1f%%',radius=1.5, wedgeprops = { 'linewidth' : 1, 'edgecolor' : 'white' })\n",
    "plt.legend(title=\"Funding Type\",loc='upper left')\n",
    "plt.show()"
   ]
  },
  {
   "cell_type": "code",
   "execution_count": 49,
   "metadata": {
    "colab": {
     "base_uri": "https://localhost:8080/",
     "height": 294
    },
    "id": "83NpNh7l0gPZ",
    "outputId": "bb6e3ef3-8582-4992-a928-4f22253dcc0a"
   },
   "outputs": [
    {
     "data": {
      "text/html": [
       "<div>\n",
       "<style scoped>\n",
       "    .dataframe tbody tr th:only-of-type {\n",
       "        vertical-align: middle;\n",
       "    }\n",
       "\n",
       "    .dataframe tbody tr th {\n",
       "        vertical-align: top;\n",
       "    }\n",
       "\n",
       "    .dataframe thead th {\n",
       "        text-align: right;\n",
       "    }\n",
       "</style>\n",
       "<table border=\"1\" class=\"dataframe\">\n",
       "  <thead>\n",
       "    <tr style=\"text-align: right;\">\n",
       "      <th></th>\n",
       "      <th>raised_amount_usd</th>\n",
       "    </tr>\n",
       "  </thead>\n",
       "  <tbody>\n",
       "    <tr>\n",
       "      <th>count</th>\n",
       "      <td>76569.000000</td>\n",
       "    </tr>\n",
       "    <tr>\n",
       "      <th>mean</th>\n",
       "      <td>9.239976</td>\n",
       "    </tr>\n",
       "    <tr>\n",
       "      <th>std</th>\n",
       "      <td>75.421742</td>\n",
       "    </tr>\n",
       "    <tr>\n",
       "      <th>min</th>\n",
       "      <td>0.000000</td>\n",
       "    </tr>\n",
       "    <tr>\n",
       "      <th>25%</th>\n",
       "      <td>0.400000</td>\n",
       "    </tr>\n",
       "    <tr>\n",
       "      <th>50%</th>\n",
       "      <td>2.000000</td>\n",
       "    </tr>\n",
       "    <tr>\n",
       "      <th>75%</th>\n",
       "      <td>7.601029</td>\n",
       "    </tr>\n",
       "    <tr>\n",
       "      <th>max</th>\n",
       "      <td>17600.000000</td>\n",
       "    </tr>\n",
       "  </tbody>\n",
       "</table>\n",
       "</div>"
      ],
      "text/plain": [
       "       raised_amount_usd\n",
       "count       76569.000000\n",
       "mean            9.239976\n",
       "std            75.421742\n",
       "min             0.000000\n",
       "25%             0.400000\n",
       "50%             2.000000\n",
       "75%             7.601029\n",
       "max         17600.000000"
      ]
     },
     "execution_count": 49,
     "metadata": {
      "tags": []
     },
     "output_type": "execute_result"
    }
   ],
   "source": [
    "#Let's check the median, mean and mode\n",
    "master_frame.describe()"
   ]
  },
  {
   "cell_type": "code",
   "execution_count": 50,
   "metadata": {
    "colab": {
     "base_uri": "https://localhost:8080/",
     "height": 502
    },
    "id": "9z_F7oqO0gPZ",
    "outputId": "21cb6833-6b8c-440f-c40e-8ba81064ba73"
   },
   "outputs": [
    {
     "data": {
      "image/png": "[encoded data removed]",
      "text/plain": [
       "<Figure size 792x576 with 1 Axes>"
      ]
     },
     "metadata": {
      "tags": []
     },
     "output_type": "display_data"
    }
   ],
   "source": [
    "# Let's plot the bar plot\n",
    "sns.set(rc={'figure.figsize':(11,8)})\n",
    "sns.set_style(\"whitegrid\")\n",
    "sns.barplot(x='funding_round_type',y='raised_amount_usd',data=master_frame)\n",
    "plt.show()"
   ]
  },
  {
   "cell_type": "code",
   "execution_count": 51,
   "metadata": {
    "colab": {
     "base_uri": "https://localhost:8080/",
     "height": 502
    },
    "id": "EWg_lN_30gPa",
    "outputId": "06acba9b-f53a-401f-d1b1-a3355de84ac9"
   },
   "outputs": [
    {
     "data": {
      "image/png": "[encoded data removed]",
      "text/plain": [
       "<Figure size 792x576 with 1 Axes>"
      ]
     },
     "metadata": {
      "tags": []
     },
     "output_type": "display_data"
    }
   ],
   "source": [
    "# let's plot the box plot \n",
    "sns.set(rc={'figure.figsize':(11,8)})\n",
    "sns.set_style(\"whitegrid\")\n",
    "sns.boxplot(x='funding_round_type',y='raised_amount_usd',data=master_frame)\n",
    "#plt.ylim(0, 76)\n",
    "plt.yscale('log')\n",
    "plt.show()"
   ]
  },
  {
   "cell_type": "markdown",
   "metadata": {
    "id": "BanZIUK70gPa"
   },
   "source": [
    "**There are so many outlier so we can calculate the median**"
   ]
  },
  {
   "cell_type": "code",
   "execution_count": 52,
   "metadata": {
    "colab": {
     "base_uri": "https://localhost:8080/"
    },
    "id": "4NrQF76w0gPb",
    "outputId": "e4b39be0-6688-48f4-a42f-286006e5c5ba"
   },
   "outputs": [
    {
     "data": {
      "text/plain": [
       "funding_round_type\n",
       "angel              0.40\n",
       "private_equity    20.00\n",
       "seed               0.29\n",
       "venture            5.00\n",
       "Name: raised_amount_usd, dtype: float64"
      ]
     },
     "execution_count": 52,
     "metadata": {
      "tags": []
     },
     "output_type": "execute_result"
    }
   ],
   "source": [
    "#calculating median investment amount for each of the four funding types.\n",
    "round(master_frame.groupby('funding_round_type').raised_amount_usd.median(), 2)"
   ]
  },
  {
   "cell_type": "markdown",
   "metadata": {
    "id": "4dm6MbOA0gPb"
   },
   "source": [
    "**We have calulated median becuase there are so many outlier in this funding types**"
   ]
  },
  {
   "cell_type": "markdown",
   "metadata": {
    "id": "Y51yrDbS0gPb"
   },
   "source": [
    "**Question-1**"
   ]
  },
  {
   "cell_type": "markdown",
   "metadata": {
    "id": "wBVIgZo30gPb"
   },
   "source": [
    "Representative funding amount of venture type"
   ]
  },
  {
   "cell_type": "markdown",
   "metadata": {
    "id": "N91kt5f60gPb"
   },
   "source": [
    "**Answer-5 million**"
   ]
  },
  {
   "cell_type": "markdown",
   "metadata": {
    "id": "l7De0sA20gPc"
   },
   "source": [
    "**Question-2**"
   ]
  },
  {
   "cell_type": "markdown",
   "metadata": {
    "id": "Z1YziEJs0gPc"
   },
   "source": [
    "Representative funding amount of angel type"
   ]
  },
  {
   "cell_type": "markdown",
   "metadata": {
    "id": "E4fYkgVs0gPc"
   },
   "source": [
    "**Answer-0.40 millions**"
   ]
  },
  {
   "cell_type": "markdown",
   "metadata": {
    "id": "6mQ75sSp0gPc"
   },
   "source": [
    "**Question-3**"
   ]
  },
  {
   "cell_type": "markdown",
   "metadata": {
    "id": "1k74pLOV0gPc"
   },
   "source": [
    "Representative funding amount of seed type\n",
    "\n",
    "**Answer-0.29 milllons**"
   ]
  },
  {
   "cell_type": "markdown",
   "metadata": {
    "id": "s5FYvr570gPc"
   },
   "source": [
    "**Question-4**"
   ]
  },
  {
   "cell_type": "markdown",
   "metadata": {
    "id": "HYhrI-HP0gPd"
   },
   "source": [
    "Representative funding amount of private equity type\n",
    "\n",
    "**Answer-20 millions**"
   ]
  },
  {
   "cell_type": "markdown",
   "metadata": {
    "id": "x02re2Ah0gPd"
   },
   "source": [
    "**Question-5**"
   ]
  },
  {
   "cell_type": "markdown",
   "metadata": {
    "id": "GZDWA2dJ0gPd"
   },
   "source": [
    "Considering that Spark Funds wants to invest between 5 to 15 million USD per  investment round, which investment type is the most suitable for them?"
   ]
  },
  {
   "cell_type": "markdown",
   "metadata": {
    "id": "HF7eEjft0gPd"
   },
   "source": [
    "**Answer**"
   ]
  },
  {
   "cell_type": "markdown",
   "metadata": {
    "id": "nbEjpnc90gPd"
   },
   "source": [
    "We can clearly predict from pie chart and box plot that most of the investors are investing in **venture funding type**. The median of funding of venture type is **5 million** so Spark Funds can choose this type of funding that is best suited for their strategy."
   ]
  },
  {
   "cell_type": "markdown",
   "metadata": {
    "id": "VQ78UGPx0gPe"
   },
   "source": [
    "# **Checkpoint 3: Country Analysis**"
   ]
  },
  {
   "cell_type": "code",
   "execution_count": 53,
   "metadata": {
    "colab": {
     "base_uri": "https://localhost:8080/"
    },
    "id": "DWWEst8i0gPe",
    "outputId": "35ce7105-9d13-4a22-f93d-a8e1017a0c15"
   },
   "outputs": [
    {
     "name": "stdout",
     "output_type": "stream",
     "text": [
      "<class 'pandas.core.frame.DataFrame'>\n",
      "Int64Index: 88375 entries, 0 to 114908\n",
      "Data columns (total 10 columns):\n",
      " #   Column                   Non-Null Count  Dtype  \n",
      "---  ------                   --------------  -----  \n",
      " 0   permalink                88375 non-null  object \n",
      " 1   name                     88374 non-null  object \n",
      " 2   homepage_url             88375 non-null  object \n",
      " 3   category_list            88375 non-null  object \n",
      " 4   status                   88375 non-null  object \n",
      " 5   country_code             83165 non-null  object \n",
      " 6   funding_round_permalink  88375 non-null  object \n",
      " 7   funding_round_type       88375 non-null  object \n",
      " 8   funded_at                88375 non-null  object \n",
      " 9   raised_amount_usd        76569 non-null  float64\n",
      "dtypes: float64(1), object(9)\n",
      "memory usage: 9.9+ MB\n"
     ]
    }
   ],
   "source": [
    "master_frame.info()"
   ]
  },
  {
   "cell_type": "code",
   "execution_count": 54,
   "metadata": {
    "colab": {
     "base_uri": "https://localhost:8080/",
     "height": 289
    },
    "id": "EWZIcNBA0gPe",
    "outputId": "c8f460f2-80cd-46c8-efb5-8735e8f37153"
   },
   "outputs": [
    {
     "data": {
      "text/html": [
       "<div>\n",
       "<style scoped>\n",
       "    .dataframe tbody tr th:only-of-type {\n",
       "        vertical-align: middle;\n",
       "    }\n",
       "\n",
       "    .dataframe tbody tr th {\n",
       "        vertical-align: top;\n",
       "    }\n",
       "\n",
       "    .dataframe thead th {\n",
       "        text-align: right;\n",
       "    }\n",
       "</style>\n",
       "<table border=\"1\" class=\"dataframe\">\n",
       "  <thead>\n",
       "    <tr style=\"text-align: right;\">\n",
       "      <th></th>\n",
       "      <th>permalink</th>\n",
       "      <th>name</th>\n",
       "      <th>homepage_url</th>\n",
       "      <th>category_list</th>\n",
       "      <th>status</th>\n",
       "      <th>country_code</th>\n",
       "      <th>funding_round_permalink</th>\n",
       "      <th>funding_round_type</th>\n",
       "      <th>funded_at</th>\n",
       "      <th>raised_amount_usd</th>\n",
       "    </tr>\n",
       "  </thead>\n",
       "  <tbody>\n",
       "    <tr>\n",
       "      <th>0</th>\n",
       "      <td>/organization/-fame</td>\n",
       "      <td>#fame</td>\n",
       "      <td>http://livfame.com</td>\n",
       "      <td>Media</td>\n",
       "      <td>operating</td>\n",
       "      <td>IND</td>\n",
       "      <td>/funding-round/9a01d05418af9f794eebff7ace91f638</td>\n",
       "      <td>venture</td>\n",
       "      <td>05-01-2015</td>\n",
       "      <td>10.000000</td>\n",
       "    </tr>\n",
       "    <tr>\n",
       "      <th>1</th>\n",
       "      <td>/organization/-qounter</td>\n",
       "      <td>:Qounter</td>\n",
       "      <td>http://www.qounter.com</td>\n",
       "      <td>Application Platforms|Real Time|Social Network...</td>\n",
       "      <td>operating</td>\n",
       "      <td>USA</td>\n",
       "      <td>/funding-round/22dacff496eb7acb2b901dec1dfe5633</td>\n",
       "      <td>venture</td>\n",
       "      <td>14-10-2014</td>\n",
       "      <td>NaN</td>\n",
       "    </tr>\n",
       "    <tr>\n",
       "      <th>2</th>\n",
       "      <td>/organization/-qounter</td>\n",
       "      <td>:Qounter</td>\n",
       "      <td>http://www.qounter.com</td>\n",
       "      <td>Application Platforms|Real Time|Social Network...</td>\n",
       "      <td>operating</td>\n",
       "      <td>USA</td>\n",
       "      <td>/funding-round/b44fbb94153f6cdef13083530bb48030</td>\n",
       "      <td>seed</td>\n",
       "      <td>01-03-2014</td>\n",
       "      <td>0.700000</td>\n",
       "    </tr>\n",
       "    <tr>\n",
       "      <th>3</th>\n",
       "      <td>/organization/-the-one-of-them-inc-</td>\n",
       "      <td>(THE) ONE of THEM,Inc.</td>\n",
       "      <td>http://oneofthem.jp</td>\n",
       "      <td>Apps|Games|Mobile</td>\n",
       "      <td>operating</td>\n",
       "      <td>NaN</td>\n",
       "      <td>/funding-round/650b8f704416801069bb178a1418776b</td>\n",
       "      <td>venture</td>\n",
       "      <td>30-01-2014</td>\n",
       "      <td>3.406878</td>\n",
       "    </tr>\n",
       "    <tr>\n",
       "      <th>4</th>\n",
       "      <td>/organization/0-6-com</td>\n",
       "      <td>0-6.com</td>\n",
       "      <td>http://www.0-6.com</td>\n",
       "      <td>Curated Web</td>\n",
       "      <td>operating</td>\n",
       "      <td>CHN</td>\n",
       "      <td>/funding-round/5727accaeaa57461bd22a9bdd945382d</td>\n",
       "      <td>venture</td>\n",
       "      <td>19-03-2008</td>\n",
       "      <td>2.000000</td>\n",
       "    </tr>\n",
       "  </tbody>\n",
       "</table>\n",
       "</div>"
      ],
      "text/plain": [
       "                             permalink  ... raised_amount_usd\n",
       "0                  /organization/-fame  ...         10.000000\n",
       "1               /organization/-qounter  ...               NaN\n",
       "2               /organization/-qounter  ...          0.700000\n",
       "3  /organization/-the-one-of-them-inc-  ...          3.406878\n",
       "4                /organization/0-6-com  ...          2.000000\n",
       "\n",
       "[5 rows x 10 columns]"
      ]
     },
     "execution_count": 54,
     "metadata": {
      "tags": []
     },
     "output_type": "execute_result"
    }
   ],
   "source": [
    "master_frame.head()"
   ]
  },
  {
   "cell_type": "markdown",
   "metadata": {
    "id": "NgWDDte80gPe"
   },
   "source": [
    "**Top nine countries which have received the highest total funding**"
   ]
  },
  {
   "cell_type": "code",
   "execution_count": 55,
   "metadata": {
    "colab": {
     "base_uri": "https://localhost:8080/",
     "height": 728
    },
    "id": "9jI3JtNw0gPe",
    "outputId": "6774d0ae-2623-478d-e930-ffa70e678d96"
   },
   "outputs": [
    {
     "name": "stdout",
     "output_type": "stream",
     "text": [
      "              raised_amount_usd\n",
      "country_code                   \n",
      "USA               398433.431399\n",
      "CHN                37976.533110\n",
      "GBR                19379.929716\n",
      "IND                13876.121718\n",
      "CAN                 8942.205684\n",
      "FRA                 7045.117298\n",
      "ISR                 6660.650477\n",
      "DEU                 6207.489510\n",
      "JPN                 3155.654754 \n",
      "\n",
      "Top 9 countries in order are:\n"
     ]
    },
    {
     "data": {
      "image/png": "[encoded data removed]",
      "text/plain": [
       "<Figure size 864x576 with 1 Axes>"
      ]
     },
     "metadata": {
      "tags": []
     },
     "output_type": "display_data"
    }
   ],
   "source": [
    "top9 = master_frame[master_frame['funding_round_type']=='venture'].groupby('country_code').sum().sort_values('raised_amount_usd', ascending=False).head(9)\n",
    "plt.figure(figsize=(12, 8))\n",
    "sns.barplot(x=top9.index, y=top9.values.ravel())\n",
    "print(top9, '\\n')\n",
    "print(\"Top 9 countries in order are:\")"
   ]
  },
  {
   "cell_type": "markdown",
   "metadata": {
    "id": "0HDMHWCQ0gPe"
   },
   "source": [
    "**Top English Speaking countries**\n",
    "\n",
    "**https://en.wikipedia.org/wiki/List_of_territorial_entities_where_English_is_an_official_language**"
   ]
  },
  {
   "cell_type": "markdown",
   "metadata": {
    "id": "VqYLJUY_0gPf"
   },
   "source": [
    "**Question-1**"
   ]
  },
  {
   "cell_type": "markdown",
   "metadata": {
    "id": "uHVmE-fO0gPf"
   },
   "source": [
    "Top English speaking country"
   ]
  },
  {
   "cell_type": "markdown",
   "metadata": {
    "id": "LXZGty1N0gPf"
   },
   "source": [
    "**Answer**"
   ]
  },
  {
   "cell_type": "markdown",
   "metadata": {
    "id": "0m5dEoE90gPf"
   },
   "source": [
    "**USA-United States**"
   ]
  },
  {
   "cell_type": "markdown",
   "metadata": {
    "id": "F9jz4-Qx0gPf"
   },
   "source": [
    "**Question-2**"
   ]
  },
  {
   "cell_type": "markdown",
   "metadata": {
    "id": "LywhZ15R0gPg"
   },
   "source": [
    "Second English speaking country"
   ]
  },
  {
   "cell_type": "markdown",
   "metadata": {
    "id": "2ZKUZrfi0gPg"
   },
   "source": [
    "**Answer**"
   ]
  },
  {
   "cell_type": "markdown",
   "metadata": {
    "id": "0zxht6fm0gPg"
   },
   "source": [
    "**GBR-**\n",
    "**United Kingdom**"
   ]
  },
  {
   "cell_type": "markdown",
   "metadata": {
    "id": "EH2HxAiW0gPg"
   },
   "source": [
    "**Question-3**"
   ]
  },
  {
   "cell_type": "markdown",
   "metadata": {
    "id": "rYghuPl70gPg"
   },
   "source": [
    "Third English speaking country"
   ]
  },
  {
   "cell_type": "markdown",
   "metadata": {
    "id": "htrFjX8S0gPg"
   },
   "source": [
    "**Answer**"
   ]
  },
  {
   "cell_type": "markdown",
   "metadata": {
    "id": "ZcBJVekP0gPh"
   },
   "source": [
    "**IND-INDIA**"
   ]
  },
  {
   "cell_type": "markdown",
   "metadata": {
    "id": "eqvYHWIG0gPh"
   },
   "source": [
    "# Checkpoint 4: Sector Analysis 1"
   ]
  },
  {
   "cell_type": "code",
   "execution_count": 56,
   "metadata": {
    "colab": {
     "base_uri": "https://localhost:8080/",
     "height": 202
    },
    "id": "gNOxIZrO0gPh",
    "outputId": "0c707357-e927-4680-e21c-a49ddd803d0b"
   },
   "outputs": [
    {
     "data": {
      "text/html": [
       "<div>\n",
       "<style scoped>\n",
       "    .dataframe tbody tr th:only-of-type {\n",
       "        vertical-align: middle;\n",
       "    }\n",
       "\n",
       "    .dataframe tbody tr th {\n",
       "        vertical-align: top;\n",
       "    }\n",
       "\n",
       "    .dataframe thead th {\n",
       "        text-align: right;\n",
       "    }\n",
       "</style>\n",
       "<table border=\"1\" class=\"dataframe\">\n",
       "  <thead>\n",
       "    <tr style=\"text-align: right;\">\n",
       "      <th></th>\n",
       "      <th>category_list</th>\n",
       "      <th>Automotive &amp; Sports</th>\n",
       "      <th>Blanks</th>\n",
       "      <th>Cleantech / Semiconductors</th>\n",
       "      <th>Entertainment</th>\n",
       "      <th>Health</th>\n",
       "      <th>Manufacturing</th>\n",
       "      <th>News, Search and Messaging</th>\n",
       "      <th>Others</th>\n",
       "      <th>Social, Finance, Analytics, Advertising</th>\n",
       "    </tr>\n",
       "  </thead>\n",
       "  <tbody>\n",
       "    <tr>\n",
       "      <th>0</th>\n",
       "      <td>NaN</td>\n",
       "      <td>0</td>\n",
       "      <td>1</td>\n",
       "      <td>0</td>\n",
       "      <td>0</td>\n",
       "      <td>0</td>\n",
       "      <td>0</td>\n",
       "      <td>0</td>\n",
       "      <td>0</td>\n",
       "      <td>0</td>\n",
       "    </tr>\n",
       "    <tr>\n",
       "      <th>1</th>\n",
       "      <td>3D</td>\n",
       "      <td>0</td>\n",
       "      <td>0</td>\n",
       "      <td>0</td>\n",
       "      <td>0</td>\n",
       "      <td>0</td>\n",
       "      <td>1</td>\n",
       "      <td>0</td>\n",
       "      <td>0</td>\n",
       "      <td>0</td>\n",
       "    </tr>\n",
       "    <tr>\n",
       "      <th>2</th>\n",
       "      <td>3D Printing</td>\n",
       "      <td>0</td>\n",
       "      <td>0</td>\n",
       "      <td>0</td>\n",
       "      <td>0</td>\n",
       "      <td>0</td>\n",
       "      <td>1</td>\n",
       "      <td>0</td>\n",
       "      <td>0</td>\n",
       "      <td>0</td>\n",
       "    </tr>\n",
       "    <tr>\n",
       "      <th>3</th>\n",
       "      <td>3D Technology</td>\n",
       "      <td>0</td>\n",
       "      <td>0</td>\n",
       "      <td>0</td>\n",
       "      <td>0</td>\n",
       "      <td>0</td>\n",
       "      <td>1</td>\n",
       "      <td>0</td>\n",
       "      <td>0</td>\n",
       "      <td>0</td>\n",
       "    </tr>\n",
       "    <tr>\n",
       "      <th>4</th>\n",
       "      <td>Accounting</td>\n",
       "      <td>0</td>\n",
       "      <td>0</td>\n",
       "      <td>0</td>\n",
       "      <td>0</td>\n",
       "      <td>0</td>\n",
       "      <td>0</td>\n",
       "      <td>0</td>\n",
       "      <td>0</td>\n",
       "      <td>1</td>\n",
       "    </tr>\n",
       "  </tbody>\n",
       "</table>\n",
       "</div>"
      ],
      "text/plain": [
       "   category_list  ...  Social, Finance, Analytics, Advertising\n",
       "0            NaN  ...                                        0\n",
       "1             3D  ...                                        0\n",
       "2    3D Printing  ...                                        0\n",
       "3  3D Technology  ...                                        0\n",
       "4     Accounting  ...                                        1\n",
       "\n",
       "[5 rows x 10 columns]"
      ]
     },
     "execution_count": 56,
     "metadata": {
      "tags": []
     },
     "output_type": "execute_result"
    }
   ],
   "source": [
    "mapping=pd.read_csv('mapping.csv',encoding=\"cp437\")\n",
    "mapping.head()"
   ]
  },
  {
   "cell_type": "code",
   "execution_count": 57,
   "metadata": {
    "colab": {
     "base_uri": "https://localhost:8080/"
    },
    "id": "WUXKDcTC0gPh",
    "outputId": "45897e1c-bb81-40b5-c6cd-cfcd630ee856"
   },
   "outputs": [
    {
     "name": "stdout",
     "output_type": "stream",
     "text": [
      "<class 'pandas.core.frame.DataFrame'>\n",
      "Int64Index: 88375 entries, 0 to 114908\n",
      "Data columns (total 10 columns):\n",
      " #   Column                   Non-Null Count  Dtype  \n",
      "---  ------                   --------------  -----  \n",
      " 0   permalink                88375 non-null  object \n",
      " 1   name                     88374 non-null  object \n",
      " 2   homepage_url             88375 non-null  object \n",
      " 3   category_list            88375 non-null  object \n",
      " 4   status                   88375 non-null  object \n",
      " 5   country_code             83165 non-null  object \n",
      " 6   funding_round_permalink  88375 non-null  object \n",
      " 7   funding_round_type       88375 non-null  object \n",
      " 8   funded_at                88375 non-null  object \n",
      " 9   raised_amount_usd        76569 non-null  float64\n",
      "dtypes: float64(1), object(9)\n",
      "memory usage: 9.9+ MB\n"
     ]
    }
   ],
   "source": [
    "master_frame.info()"
   ]
  },
  {
   "cell_type": "code",
   "execution_count": 58,
   "metadata": {
    "id": "CvHCS5O-0gPh"
   },
   "outputs": [],
   "source": [
    "# Generating a Primary Sector Column\n",
    "master_frame['primary_sector'] = 0\n",
    "master_frame['primary_sector'] = master_frame['category_list'].str.split('|', expand=True)"
   ]
  },
  {
   "cell_type": "code",
   "execution_count": 59,
   "metadata": {
    "colab": {
     "base_uri": "https://localhost:8080/"
    },
    "id": "tQHjJWfG0gPh",
    "outputId": "4df48c46-2692-4c18-94a0-5fd5dce90fb0"
   },
   "outputs": [
    {
     "data": {
      "text/plain": [
       "array(['Media', 'Application Platforms', 'Apps', 'Curated Web',\n",
       "       'Software', 'Biotechnology', 'Analytics', 'Mobile', 'E-Commerce',\n",
       "       'Internet Marketing', 'Education', 'Search', 'Art', 'Beauty',\n",
       "       'Local Businesses', 'Cosmetics', 'Games', 'Hospitality',\n",
       "       'Health Care', 'Advertising', 'Coffee', 'Enterprise Software',\n",
       "       'Batteries', 'iOS', 'Health and Wellness', 'EdTech',\n",
       "       'Social Travel', 'Audio', 'Health Diagnostics', 'Internet',\n",
       "       'Local Search', 'Service Providers', 'Publishing',\n",
       "       'Consumer Goods', 'Manufacturing', 'Augmented Reality',\n",
       "       'Entertainment', 'Design', 'Travel', 'Finance', 'Cars',\n",
       "       'Clean Technology', 'Chat', 'Cloud Computing', 'Geospatial',\n",
       "       'Music Services', 'Doctors', 'Social Media', 'Non Profit',\n",
       "       'Content', 'Consumers', 'Technology', 'Delivery', 'Big Data',\n",
       "       'Android', 'Blogging Platforms', 'Customer Service', 'News',\n",
       "       'Hardware + Software', 'Artificial Intelligence', 'Services',\n",
       "       'DIY', 'Presentations', 'Ad Targeting', 'Credit Cards',\n",
       "       'Discounts', 'Internet of Things', 'Cloud Infrastructure',\n",
       "       'Landscaping', 'Messaging', 'Collaboration', 'FinTech',\n",
       "       'Consumer Electronics', 'Communities', 'Data Centers',\n",
       "       'Point of Sale', 'Enterprises', 'Bitcoin', 'Project Management',\n",
       "       'Networking', 'Babies', '3D', '3D Technology', '3D Printing',\n",
       "       'Drones', 'Business Services', 'Automotive', 'Automated Kiosk',\n",
       "       'Business Analytics', 'Semiconductors', 'Web Hosting',\n",
       "       'Cloud Data Services', 'Consulting', 'Game', 'Developer APIs',\n",
       "       'App Marketing', 'Physical Security', 'Coupons', 'Security',\n",
       "       'Databases', 'Flash Storage', 'Animal Feed', 'Creative Industries',\n",
       "       'Machine Learning', 'Crowdfunding', 'Commercial Real Estate',\n",
       "       'Online Travel', 'Creative', 'Human Resources',\n",
       "       'Information Technology', 'Office Space', 'Distribution', 'Carbon',\n",
       "       'Real Estate', 'Career Management', 'Leisure', 'Photography',\n",
       "       'Consumer Internet', 'Video', 'Food Processing', 'Music',\n",
       "       'Healthcare Services', 'Startups', 'Sales and Marketing',\n",
       "       'Accounting', 'Browser Extensions', 'Concentrated Solar Power',\n",
       "       'B2B', 'Nanotechnology', 'Social Network Media',\n",
       "       'Development Platforms', 'Bicycles', 'Content Creators',\n",
       "       'Broadcasting', 'Brand Marketing', 'Finance Technology',\n",
       "       'Home Decor', 'Crowdsourcing', 'Digital Entertainment', 'Exercise',\n",
       "       'Sports', 'Fashion', 'Interior Design', 'E-Commerce Platforms',\n",
       "       'SEO', 'Chemicals', 'Innovation Engineering', 'Limousines',\n",
       "       'Charity', 'Online Rental', 'Telecommunications',\n",
       "       'Health Care Information Technology', 'Health and Insurance',\n",
       "       'SaaS', 'Oil & Gas', 'Communications Infrastructure',\n",
       "       'Distributors', 'Employment', 'Fitness', 'M2M', 'Local',\n",
       "       'Home Automation', 'Financial Services', 'Contact Management',\n",
       "       'Information Security', 'Content Discovery', 'All Students',\n",
       "       'Energy', 'Diagnostics', 'Government Innovation', 'Clean Energy',\n",
       "       'Logistics', 'Domains', 'Computers', 'Aerospace',\n",
       "       'Homeland Security', 'Big Data Analytics', 'Credit', 'Colleges',\n",
       "       'Medical Devices', 'Construction', 'Medical',\n",
       "       'Internet Radio Market', 'Public Relations', 'Self Development',\n",
       "       'Employer Benefits Programs', 'Agriculture',\n",
       "       'Advertising Platforms', 'CRM', 'Data Integration', 'Politics',\n",
       "       'Collectibles', 'Application Performance Monitoring', 'Hardware',\n",
       "       'Facebook Applications', 'Email', 'Comparison Shopping',\n",
       "       'Electronics', 'Mobile Security', 'Cloud Management',\n",
       "       'Intellectual Property', 'Marketing Automation',\n",
       "       'Material Science', 'Bio-Pharm', 'Business Intelligence',\n",
       "       'Assisitive Technology', 'Auctions', 'Child Care',\n",
       "       'Enterprise Search', 'Classifieds', 'Archiving', 'Advice',\n",
       "       'Digital Signage', 'Industrial', 'Advertising Exchanges',\n",
       "       'Cause Marketing', 'Performance Marketing', 'Renewable Energies',\n",
       "       'Digital Media', 'Adventure Travel', 'Insurance',\n",
       "       'Law Enforcement', 'Advertising Networks', 'Brokers', 'Payments',\n",
       "       'Pharmaceuticals', 'Direct Sales', 'DOD/Military', 'Robotics',\n",
       "       'Corporate Training', 'Alumni', 'Furniture', 'Consumer Lending',\n",
       "       'Ediscovery', 'Bridging Online and Offline', 'Marketplaces',\n",
       "       'Business Development', 'Online Scheduling',\n",
       "       'Reviews and Recommendations', 'Information Services', 'Gift Card',\n",
       "       'Gps', 'Lasers', 'Legal', 'Weddings', 'Farming', 'Tracking',\n",
       "       'Lifestyle', 'Hotels', 'Algorithms', 'Public Transportation',\n",
       "       'Biomass Power Generation', 'Content Syndication',\n",
       "       'Location Based Services', 'Business Productivity', 'Match-Making',\n",
       "       'Interface Design', 'iPhone', 'Events', 'Banking',\n",
       "       'Innovation Management', 'Console Gaming', 'Mining Technologies',\n",
       "       'Hospitals', 'Risk Management', 'Data Mining', 'Cloud Security',\n",
       "       'Charter Schools', 'Architecture', 'Document Management',\n",
       "       'Consumer Behavior', 'Internet Service Providers', 'Nonprofits',\n",
       "       'Content Delivery', 'Industrial Automation', 'Maps', 'iPad',\n",
       "       'Journalism', 'Communications Hardware', 'Fantasy Sports',\n",
       "       'Social Commerce', 'Investment Management', 'Language Learning',\n",
       "       'Boating Industry', 'Gambling', 'Active Lifestyle', 'Watch',\n",
       "       'Wine And Spirits', 'Cannabis', 'Cooking',\n",
       "       'Estimation and Quoting', 'Environmental Innovation', 'Graphics',\n",
       "       'Small and Medium Businesses', 'Electrical Distribution',\n",
       "       'Specialty Foods', 'Kids', 'Energy Management', 'Sensors',\n",
       "       'Biometrics', 'Recruiting', 'Incubators', 'Governments', 'Pets',\n",
       "       'Online Dating', 'Identity', 'Collaborative Consumption',\n",
       "       'Email Marketing', 'VoIP', 'Gold', 'Reputation',\n",
       "       'Property Management', 'Ticketing', 'Wireless',\n",
       "       'Enterprise Security', 'Bioinformatics', 'Alternative Medicine',\n",
       "       'App Discovery', 'Productivity Software', 'App Stores',\n",
       "       'Meeting Software', 'Entrepreneur', 'Opinions', 'Cyber Security',\n",
       "       'Social Television', 'Developer Tools', 'All Markets',\n",
       "       'Corporate IT', 'Dental', 'Water', 'Energy Efficiency',\n",
       "       'Fraud Detection', 'Restaurants', 'Gamification',\n",
       "       'Network Security', 'CAD', 'Therapeutics', 'Photo Sharing',\n",
       "       'Billing', 'Data Security', 'Local Based Services',\n",
       "       'Social Business', 'Artists Globally', 'Designers', 'Fuels',\n",
       "       'Diabetes', 'Oil and Gas', 'Intelligent Systems',\n",
       "       'Logistics Company', 'English-Speaking', 'Simulation',\n",
       "       'Casual Games', 'Event Management', 'Educational Games', 'Guides',\n",
       "       'Real Time', 'Audiobooks', 'Travel & Tourism', 'Film', 'Brewing',\n",
       "       'Identity Management', 'Home & Garden', 'Lead Generation',\n",
       "       'Defense', 'Lead Management', 'Auto', 'Sales Automation',\n",
       "       'Certification Test', 'Private School', 'Infrastructure',\n",
       "       'Engineering Firms', 'Entertainment Industry', 'Public Safety',\n",
       "       'IT Management', 'Retail', 'Open Source', 'Mobile Software Tools',\n",
       "       'File Sharing', 'Mobile Commerce', 'Advanced Materials',\n",
       "       'Families', 'Social Media Platforms', 'Lifestyle Products', 'ICT',\n",
       "       'Custom Retail', 'Market Research', 'SNS', 'Video Games',\n",
       "       'Freelancers', 'Deep Information Technology', 'Career Planning',\n",
       "       'Internet Infrastructure', 'Organic Food', 'Coworking', 'E-Books',\n",
       "       'Mobile Games', 'Online Shopping', 'Celebrity',\n",
       "       'Local Advertising', 'Realtors', 'Mobility', 'FreetoPlay Gaming',\n",
       "       'Building Products', 'Customer Support Tools', 'Genetic Testing',\n",
       "       'College Recruiting', 'Biofuels', 'Cyber', 'Emerging Markets',\n",
       "       'Toys', 'Outsourcing', 'Gadget', 'Baby Accessories', 'Wholesale',\n",
       "       'Film Production', 'Professional Services', 'Service Industries',\n",
       "       'Life Sciences', 'Transportation', 'General Public Worldwide',\n",
       "       'Aquaculture', 'Direct Marketing', 'Clinical Trials', 'Licensing',\n",
       "       'IT and Cybersecurity', 'Generation Y-Z', 'Dietary Supplements',\n",
       "       'New Technologies', 'Venture Capital', 'Recreation',\n",
       "       'Mobile Social', 'Shopping', 'Social Bookmarking', 'EBooks',\n",
       "       'Comics', 'Image Recognition', 'Product Development Services',\n",
       "       'Loyalty Programs', 'K-12 Education', 'Lifestyle Businesses',\n",
       "       'Mass Customization', 'College Campuses', 'Contact Centers',\n",
       "       'Assisted Living', 'Wearables', 'Social News', 'Rental Housing',\n",
       "       'Flash Sales', 'Mobile Payments', 'Digital Rights Management',\n",
       "       'EDA Tools', 'Parking', 'Elder Care', 'Electronic Health Records',\n",
       "       'Baby Boomers', 'Cable', 'Enterprise Hardware',\n",
       "       'Social Media Advertising', 'Personalization', 'Personal Finance',\n",
       "       'Darknet', 'Online Identity', 'Knowledge Management',\n",
       "       'New Product Development', 'Computer Vision', 'Email Newsletters',\n",
       "       'Embedded Hardware and Software', 'Utilities', 'China Internet',\n",
       "       'Intellectual Asset Management', 'Shoes', 'Jewelry',\n",
       "       'Anything Capital Intensive', 'Tea', 'Systems',\n",
       "       'Online Video Advertising', 'PaaS', 'Parenting', 'Forums',\n",
       "       'Civil Engineers', 'Air Pollution Control', 'Data Visualization',\n",
       "       'Angels', 'Natural Gas Uses', 'Electric Vehicles',\n",
       "       'Predictive Analytics', 'Natural Language Processing',\n",
       "       'Internet Technology', 'IaaS', 'University Students',\n",
       "       'Web Development', 'Staffing Firms', 'Fmcg', 'Data Privacy',\n",
       "       'Online Gaming', 'Pervasive Computing', 'Storage', 'Nightlife',\n",
       "       'Lighting', 'Incentives', 'Postal and Courier Services',\n",
       "       'Fertility', 'Private Social Networking', 'Enterprise 2.0',\n",
       "       'Multi-level Marketing', 'Data Center Automation',\n",
       "       'Call Center Automation', 'P2P Money Transfer', 'mHealth', 'Linux',\n",
       "       'Tourism', 'SexTech', 'Contests', 'Financial Exchanges',\n",
       "       'Corporate Wellness', 'Data Center Infrastructure', 'Craft Beer',\n",
       "       'Human Resource Automation', 'Recycling', 'Sporting Goods',\n",
       "       'Concerts', 'Retail Technology', 'Humanitarian',\n",
       "       'Online Education', 'Governance', 'Funeral Industry', 'Web Design',\n",
       "       'Gift Exchange', 'Social CRM', 'Mobile Health',\n",
       "       'Online Reservations', 'Privacy', 'Mobile Devices',\n",
       "       'Professional Networking', 'Adaptive Equipment', 'Religion',\n",
       "       'Home Owners', 'Social + Mobile + Local', 'Enterprise Application',\n",
       "       'Freemium', 'Mechanical Solutions', 'Peer-to-Peer',\n",
       "       'Personal Branding', 'Mobile Video', 'Group SMS', 'Textiles',\n",
       "       'Tutoring', 'Medical Professionals', 'Plumbers', 'Shipping',\n",
       "       'Supply Chain Management', 'Heavy Industry', 'Photo Editing',\n",
       "       'Solar', 'B2B Express Delivery', 'In-Flight Entertainment',\n",
       "       'Displays', 'Skill Assessment', 'Gas',\n",
       "       'Semiconductor Manufacturing Equipment', 'Clean Technology IT',\n",
       "       'Synchronization', 'Health Services Industry', 'Farmers Market',\n",
       "       'Senior Citizens', 'Skill Gaming', 'Neuroscience',\n",
       "       'Unmanned Air Systems', 'Trading', 'Business Information Systems',\n",
       "       'Green', 'Commodities', 'Optimization', 'Building Owners',\n",
       "       'Human Computer Interaction', 'Fuel Cells', 'Demographies',\n",
       "       'Monetization', 'Racing', 'Mobile Shopping', 'High Schools',\n",
       "       'Specialty Retail', 'Home Renovation', 'Printing',\n",
       "       'Social Media Marketing', 'Business Travelers', 'Mobile Analytics',\n",
       "       'Speech Recognition', 'Specialty Chemicals', 'Training',\n",
       "       'Game Mechanics', 'Outdoors', 'Groceries', 'Hedge Funds',\n",
       "       'Interest Graph', 'Social Games', 'Stock Exchanges', 'Oil',\n",
       "       'Registrars', 'Polling', 'Charities', 'Flowers',\n",
       "       'Vending and Concessions', 'Eyewear', 'Cloud-Based Music', 'RFID',\n",
       "       'Internet TV', 'Personal Health', 'Mobile Advertising', 'Handmade',\n",
       "       'Price Comparison', 'Translation',\n",
       "       'Biotechnology and Semiconductor', 'Mobile Enterprise',\n",
       "       'Disruptive Models', 'Resorts', 'Vacation Rentals', 'Portals',\n",
       "       'Search Marketing', 'Group Buying', 'High School Students',\n",
       "       'Shared Services', 'Waste Management', 'Indoor Positioning',\n",
       "       'Fleet Management', 'Local Commerce', 'Video on Demand',\n",
       "       'Video Conferencing', 'Early-Stage Technology', 'Product Design',\n",
       "       'Navigation', 'Musical Instruments', 'Organic', 'Nutrition',\n",
       "       'Rapidly Expanding', 'High Tech', 'Theatre', 'Social Recruiting',\n",
       "       'Web Tools', 'Infrastructure Builders', 'Social Fundraising',\n",
       "       'Enterprise Resource Planning', 'Optical Communications',\n",
       "       'Edutainment', 'Music Education', 'Mens Specific', 'Baby Safety',\n",
       "       'Video Streaming', 'Social Media Management', 'Lotteries',\n",
       "       'Green Consumer Goods', 'Face Recognition', 'Energy IT', 'Kinect',\n",
       "       'BPO Services', 'Homeless Shelter', 'Space Travel', 'Fruit',\n",
       "       'Moneymaking', 'Commercial Solar', 'Pre Seed', 'MicroBlogging',\n",
       "       'Physicians', 'Direct Advertising', 'Senior Health',\n",
       "       'Natural Resources', 'Procurement', 'QR Codes',\n",
       "       'Subscription Service', 'Music Venues', 'Promotional',\n",
       "       'Field Support Services', 'Independent Music Labels', 'Minerals',\n",
       "       'Women', 'Independent Pharmacies', 'Cosmetic Surgery', 'Soccer',\n",
       "       'Testing', 'GreenTech', 'Mobile Infrastructure', 'Retirement',\n",
       "       'Enterprise Purchasing', 'Subscription Businesses',\n",
       "       'Virtual Workforces', 'Personal Data', 'Young Adults',\n",
       "       'Impact Investing', 'Film Distribution', 'Surveys',\n",
       "       'Water Purification', 'Television', 'User Experience Design',\n",
       "       'Taxis', 'Universities', 'Indians', 'Social Buying',\n",
       "       'Gift Registries', 'Ride Sharing', 'Experience Design',\n",
       "       'Musicians', 'Usability', 'User Interface', 'Sponsorship',\n",
       "       'Veterinary', 'Non-Tech', 'Productivity', 'Gay & Lesbian', 'Q&A',\n",
       "       'Micro-Enterprises', 'Task Management'], dtype=object)"
      ]
     },
     "execution_count": 59,
     "metadata": {
      "tags": []
     },
     "output_type": "execute_result"
    }
   ],
   "source": [
    "master_frame['primary_sector'].unique()"
   ]
  },
  {
   "cell_type": "code",
   "execution_count": 60,
   "metadata": {
    "colab": {
     "base_uri": "https://localhost:8080/",
     "height": 416
    },
    "id": "U07mhSpQ0gPi",
    "outputId": "328b914c-7118-4ffa-fe41-540af4b74d75"
   },
   "outputs": [
    {
     "data": {
      "text/html": [
       "<div>\n",
       "<style scoped>\n",
       "    .dataframe tbody tr th:only-of-type {\n",
       "        vertical-align: middle;\n",
       "    }\n",
       "\n",
       "    .dataframe tbody tr th {\n",
       "        vertical-align: top;\n",
       "    }\n",
       "\n",
       "    .dataframe thead th {\n",
       "        text-align: right;\n",
       "    }\n",
       "</style>\n",
       "<table border=\"1\" class=\"dataframe\">\n",
       "  <thead>\n",
       "    <tr style=\"text-align: right;\">\n",
       "      <th></th>\n",
       "      <th>category_list</th>\n",
       "      <th>Automotive &amp; Sports</th>\n",
       "      <th>Blanks</th>\n",
       "      <th>Cleantech / Semiconductors</th>\n",
       "      <th>Entertainment</th>\n",
       "      <th>Health</th>\n",
       "      <th>Manufacturing</th>\n",
       "      <th>News, Search and Messaging</th>\n",
       "      <th>Others</th>\n",
       "      <th>Social, Finance, Analytics, Advertising</th>\n",
       "    </tr>\n",
       "  </thead>\n",
       "  <tbody>\n",
       "    <tr>\n",
       "      <th>0</th>\n",
       "      <td>NaN</td>\n",
       "      <td>0</td>\n",
       "      <td>1</td>\n",
       "      <td>0</td>\n",
       "      <td>0</td>\n",
       "      <td>0</td>\n",
       "      <td>0</td>\n",
       "      <td>0</td>\n",
       "      <td>0</td>\n",
       "      <td>0</td>\n",
       "    </tr>\n",
       "    <tr>\n",
       "      <th>1</th>\n",
       "      <td>3D</td>\n",
       "      <td>0</td>\n",
       "      <td>0</td>\n",
       "      <td>0</td>\n",
       "      <td>0</td>\n",
       "      <td>0</td>\n",
       "      <td>1</td>\n",
       "      <td>0</td>\n",
       "      <td>0</td>\n",
       "      <td>0</td>\n",
       "    </tr>\n",
       "    <tr>\n",
       "      <th>2</th>\n",
       "      <td>3D Printing</td>\n",
       "      <td>0</td>\n",
       "      <td>0</td>\n",
       "      <td>0</td>\n",
       "      <td>0</td>\n",
       "      <td>0</td>\n",
       "      <td>1</td>\n",
       "      <td>0</td>\n",
       "      <td>0</td>\n",
       "      <td>0</td>\n",
       "    </tr>\n",
       "    <tr>\n",
       "      <th>3</th>\n",
       "      <td>3D Technology</td>\n",
       "      <td>0</td>\n",
       "      <td>0</td>\n",
       "      <td>0</td>\n",
       "      <td>0</td>\n",
       "      <td>0</td>\n",
       "      <td>1</td>\n",
       "      <td>0</td>\n",
       "      <td>0</td>\n",
       "      <td>0</td>\n",
       "    </tr>\n",
       "    <tr>\n",
       "      <th>4</th>\n",
       "      <td>Accounting</td>\n",
       "      <td>0</td>\n",
       "      <td>0</td>\n",
       "      <td>0</td>\n",
       "      <td>0</td>\n",
       "      <td>0</td>\n",
       "      <td>0</td>\n",
       "      <td>0</td>\n",
       "      <td>0</td>\n",
       "      <td>1</td>\n",
       "    </tr>\n",
       "    <tr>\n",
       "      <th>...</th>\n",
       "      <td>...</td>\n",
       "      <td>...</td>\n",
       "      <td>...</td>\n",
       "      <td>...</td>\n",
       "      <td>...</td>\n",
       "      <td>...</td>\n",
       "      <td>...</td>\n",
       "      <td>...</td>\n",
       "      <td>...</td>\n",
       "      <td>...</td>\n",
       "    </tr>\n",
       "    <tr>\n",
       "      <th>683</th>\n",
       "      <td>Wholesale</td>\n",
       "      <td>0</td>\n",
       "      <td>0</td>\n",
       "      <td>0</td>\n",
       "      <td>0</td>\n",
       "      <td>0</td>\n",
       "      <td>0</td>\n",
       "      <td>0</td>\n",
       "      <td>1</td>\n",
       "      <td>0</td>\n",
       "    </tr>\n",
       "    <tr>\n",
       "      <th>684</th>\n",
       "      <td>Wine And Spirits</td>\n",
       "      <td>0</td>\n",
       "      <td>0</td>\n",
       "      <td>0</td>\n",
       "      <td>1</td>\n",
       "      <td>0</td>\n",
       "      <td>0</td>\n",
       "      <td>0</td>\n",
       "      <td>0</td>\n",
       "      <td>0</td>\n",
       "    </tr>\n",
       "    <tr>\n",
       "      <th>685</th>\n",
       "      <td>Wireless</td>\n",
       "      <td>0</td>\n",
       "      <td>0</td>\n",
       "      <td>0</td>\n",
       "      <td>1</td>\n",
       "      <td>0</td>\n",
       "      <td>0</td>\n",
       "      <td>0</td>\n",
       "      <td>0</td>\n",
       "      <td>0</td>\n",
       "    </tr>\n",
       "    <tr>\n",
       "      <th>686</th>\n",
       "      <td>Women</td>\n",
       "      <td>0</td>\n",
       "      <td>0</td>\n",
       "      <td>0</td>\n",
       "      <td>0</td>\n",
       "      <td>0</td>\n",
       "      <td>0</td>\n",
       "      <td>0</td>\n",
       "      <td>1</td>\n",
       "      <td>0</td>\n",
       "    </tr>\n",
       "    <tr>\n",
       "      <th>687</th>\n",
       "      <td>Young Adults</td>\n",
       "      <td>0</td>\n",
       "      <td>0</td>\n",
       "      <td>0</td>\n",
       "      <td>0</td>\n",
       "      <td>0</td>\n",
       "      <td>0</td>\n",
       "      <td>0</td>\n",
       "      <td>1</td>\n",
       "      <td>0</td>\n",
       "    </tr>\n",
       "  </tbody>\n",
       "</table>\n",
       "<p>688 rows × 10 columns</p>\n",
       "</div>"
      ],
      "text/plain": [
       "        category_list  ...  Social, Finance, Analytics, Advertising\n",
       "0                 NaN  ...                                        0\n",
       "1                  3D  ...                                        0\n",
       "2         3D Printing  ...                                        0\n",
       "3       3D Technology  ...                                        0\n",
       "4          Accounting  ...                                        1\n",
       "..                ...  ...                                      ...\n",
       "683         Wholesale  ...                                        0\n",
       "684  Wine And Spirits  ...                                        0\n",
       "685          Wireless  ...                                        0\n",
       "686             Women  ...                                        0\n",
       "687      Young Adults  ...                                        0\n",
       "\n",
       "[688 rows x 10 columns]"
      ]
     },
     "execution_count": 60,
     "metadata": {
      "tags": []
     },
     "output_type": "execute_result"
    }
   ],
   "source": [
    "mapping"
   ]
  },
  {
   "cell_type": "code",
   "execution_count": 61,
   "metadata": {
    "id": "x-ciH3mg0gPi"
   },
   "outputs": [],
   "source": [
    "# correcting improperly decoded words from mapping.csv\n",
    "mapping.reset_index(inplace=True)\n",
    "mapping['category_list'] = mapping['category_list'].str.replace('0', 'na')"
   ]
  },
  {
   "cell_type": "code",
   "execution_count": 62,
   "metadata": {
    "colab": {
     "base_uri": "https://localhost:8080/",
     "height": 416
    },
    "id": "6jMFkWL90gPi",
    "outputId": "c918c201-c362-4daf-e42b-07b572785797"
   },
   "outputs": [
    {
     "data": {
      "text/html": [
       "<div>\n",
       "<style scoped>\n",
       "    .dataframe tbody tr th:only-of-type {\n",
       "        vertical-align: middle;\n",
       "    }\n",
       "\n",
       "    .dataframe tbody tr th {\n",
       "        vertical-align: top;\n",
       "    }\n",
       "\n",
       "    .dataframe thead th {\n",
       "        text-align: right;\n",
       "    }\n",
       "</style>\n",
       "<table border=\"1\" class=\"dataframe\">\n",
       "  <thead>\n",
       "    <tr style=\"text-align: right;\">\n",
       "      <th></th>\n",
       "      <th>index</th>\n",
       "      <th>category_list</th>\n",
       "      <th>Automotive &amp; Sports</th>\n",
       "      <th>Blanks</th>\n",
       "      <th>Cleantech / Semiconductors</th>\n",
       "      <th>Entertainment</th>\n",
       "      <th>Health</th>\n",
       "      <th>Manufacturing</th>\n",
       "      <th>News, Search and Messaging</th>\n",
       "      <th>Others</th>\n",
       "      <th>Social, Finance, Analytics, Advertising</th>\n",
       "    </tr>\n",
       "  </thead>\n",
       "  <tbody>\n",
       "    <tr>\n",
       "      <th>0</th>\n",
       "      <td>0</td>\n",
       "      <td>NaN</td>\n",
       "      <td>0</td>\n",
       "      <td>1</td>\n",
       "      <td>0</td>\n",
       "      <td>0</td>\n",
       "      <td>0</td>\n",
       "      <td>0</td>\n",
       "      <td>0</td>\n",
       "      <td>0</td>\n",
       "      <td>0</td>\n",
       "    </tr>\n",
       "    <tr>\n",
       "      <th>1</th>\n",
       "      <td>1</td>\n",
       "      <td>3D</td>\n",
       "      <td>0</td>\n",
       "      <td>0</td>\n",
       "      <td>0</td>\n",
       "      <td>0</td>\n",
       "      <td>0</td>\n",
       "      <td>1</td>\n",
       "      <td>0</td>\n",
       "      <td>0</td>\n",
       "      <td>0</td>\n",
       "    </tr>\n",
       "    <tr>\n",
       "      <th>2</th>\n",
       "      <td>2</td>\n",
       "      <td>3D Printing</td>\n",
       "      <td>0</td>\n",
       "      <td>0</td>\n",
       "      <td>0</td>\n",
       "      <td>0</td>\n",
       "      <td>0</td>\n",
       "      <td>1</td>\n",
       "      <td>0</td>\n",
       "      <td>0</td>\n",
       "      <td>0</td>\n",
       "    </tr>\n",
       "    <tr>\n",
       "      <th>3</th>\n",
       "      <td>3</td>\n",
       "      <td>3D Technology</td>\n",
       "      <td>0</td>\n",
       "      <td>0</td>\n",
       "      <td>0</td>\n",
       "      <td>0</td>\n",
       "      <td>0</td>\n",
       "      <td>1</td>\n",
       "      <td>0</td>\n",
       "      <td>0</td>\n",
       "      <td>0</td>\n",
       "    </tr>\n",
       "    <tr>\n",
       "      <th>4</th>\n",
       "      <td>4</td>\n",
       "      <td>Accounting</td>\n",
       "      <td>0</td>\n",
       "      <td>0</td>\n",
       "      <td>0</td>\n",
       "      <td>0</td>\n",
       "      <td>0</td>\n",
       "      <td>0</td>\n",
       "      <td>0</td>\n",
       "      <td>0</td>\n",
       "      <td>1</td>\n",
       "    </tr>\n",
       "    <tr>\n",
       "      <th>...</th>\n",
       "      <td>...</td>\n",
       "      <td>...</td>\n",
       "      <td>...</td>\n",
       "      <td>...</td>\n",
       "      <td>...</td>\n",
       "      <td>...</td>\n",
       "      <td>...</td>\n",
       "      <td>...</td>\n",
       "      <td>...</td>\n",
       "      <td>...</td>\n",
       "      <td>...</td>\n",
       "    </tr>\n",
       "    <tr>\n",
       "      <th>683</th>\n",
       "      <td>683</td>\n",
       "      <td>Wholesale</td>\n",
       "      <td>0</td>\n",
       "      <td>0</td>\n",
       "      <td>0</td>\n",
       "      <td>0</td>\n",
       "      <td>0</td>\n",
       "      <td>0</td>\n",
       "      <td>0</td>\n",
       "      <td>1</td>\n",
       "      <td>0</td>\n",
       "    </tr>\n",
       "    <tr>\n",
       "      <th>684</th>\n",
       "      <td>684</td>\n",
       "      <td>Wine And Spirits</td>\n",
       "      <td>0</td>\n",
       "      <td>0</td>\n",
       "      <td>0</td>\n",
       "      <td>1</td>\n",
       "      <td>0</td>\n",
       "      <td>0</td>\n",
       "      <td>0</td>\n",
       "      <td>0</td>\n",
       "      <td>0</td>\n",
       "    </tr>\n",
       "    <tr>\n",
       "      <th>685</th>\n",
       "      <td>685</td>\n",
       "      <td>Wireless</td>\n",
       "      <td>0</td>\n",
       "      <td>0</td>\n",
       "      <td>0</td>\n",
       "      <td>1</td>\n",
       "      <td>0</td>\n",
       "      <td>0</td>\n",
       "      <td>0</td>\n",
       "      <td>0</td>\n",
       "      <td>0</td>\n",
       "    </tr>\n",
       "    <tr>\n",
       "      <th>686</th>\n",
       "      <td>686</td>\n",
       "      <td>Women</td>\n",
       "      <td>0</td>\n",
       "      <td>0</td>\n",
       "      <td>0</td>\n",
       "      <td>0</td>\n",
       "      <td>0</td>\n",
       "      <td>0</td>\n",
       "      <td>0</td>\n",
       "      <td>1</td>\n",
       "      <td>0</td>\n",
       "    </tr>\n",
       "    <tr>\n",
       "      <th>687</th>\n",
       "      <td>687</td>\n",
       "      <td>Young Adults</td>\n",
       "      <td>0</td>\n",
       "      <td>0</td>\n",
       "      <td>0</td>\n",
       "      <td>0</td>\n",
       "      <td>0</td>\n",
       "      <td>0</td>\n",
       "      <td>0</td>\n",
       "      <td>1</td>\n",
       "      <td>0</td>\n",
       "    </tr>\n",
       "  </tbody>\n",
       "</table>\n",
       "<p>688 rows × 11 columns</p>\n",
       "</div>"
      ],
      "text/plain": [
       "     index     category_list  ...  Others  Social, Finance, Analytics, Advertising\n",
       "0        0               NaN  ...       0                                        0\n",
       "1        1                3D  ...       0                                        0\n",
       "2        2       3D Printing  ...       0                                        0\n",
       "3        3     3D Technology  ...       0                                        0\n",
       "4        4        Accounting  ...       0                                        1\n",
       "..     ...               ...  ...     ...                                      ...\n",
       "683    683         Wholesale  ...       1                                        0\n",
       "684    684  Wine And Spirits  ...       0                                        0\n",
       "685    685          Wireless  ...       0                                        0\n",
       "686    686             Women  ...       1                                        0\n",
       "687    687      Young Adults  ...       1                                        0\n",
       "\n",
       "[688 rows x 11 columns]"
      ]
     },
     "execution_count": 62,
     "metadata": {
      "tags": []
     },
     "output_type": "execute_result"
    }
   ],
   "source": [
    "mapping"
   ]
  },
  {
   "cell_type": "code",
   "execution_count": 63,
   "metadata": {
    "id": "YZ8pr0b-0gPi"
   },
   "outputs": [],
   "source": [
    "# set category_list as index column for mapping df\n",
    "mapping.set_index('category_list', inplace=True)\n",
    "mapping.drop('index', axis=1, inplace=True)\n",
    "\n",
    "# Generate dictionary of [primary_sec: main_sec] pairs\n",
    "sector_dict = {idx: next(k for k in mapping if row[k]==1)\n",
    "     for idx, row in mapping.iterrows()}"
   ]
  },
  {
   "cell_type": "code",
   "execution_count": 64,
   "metadata": {
    "colab": {
     "base_uri": "https://localhost:8080/",
     "height": 446
    },
    "id": "7DN_nowF0gPi",
    "outputId": "3d6c9cdc-5897-462e-9ca2-13015d1471af"
   },
   "outputs": [
    {
     "data": {
      "text/html": [
       "<div>\n",
       "<style scoped>\n",
       "    .dataframe tbody tr th:only-of-type {\n",
       "        vertical-align: middle;\n",
       "    }\n",
       "\n",
       "    .dataframe tbody tr th {\n",
       "        vertical-align: top;\n",
       "    }\n",
       "\n",
       "    .dataframe thead th {\n",
       "        text-align: right;\n",
       "    }\n",
       "</style>\n",
       "<table border=\"1\" class=\"dataframe\">\n",
       "  <thead>\n",
       "    <tr style=\"text-align: right;\">\n",
       "      <th></th>\n",
       "      <th>Automotive &amp; Sports</th>\n",
       "      <th>Blanks</th>\n",
       "      <th>Cleantech / Semiconductors</th>\n",
       "      <th>Entertainment</th>\n",
       "      <th>Health</th>\n",
       "      <th>Manufacturing</th>\n",
       "      <th>News, Search and Messaging</th>\n",
       "      <th>Others</th>\n",
       "      <th>Social, Finance, Analytics, Advertising</th>\n",
       "    </tr>\n",
       "    <tr>\n",
       "      <th>category_list</th>\n",
       "      <th></th>\n",
       "      <th></th>\n",
       "      <th></th>\n",
       "      <th></th>\n",
       "      <th></th>\n",
       "      <th></th>\n",
       "      <th></th>\n",
       "      <th></th>\n",
       "      <th></th>\n",
       "    </tr>\n",
       "  </thead>\n",
       "  <tbody>\n",
       "    <tr>\n",
       "      <th>NaN</th>\n",
       "      <td>0</td>\n",
       "      <td>1</td>\n",
       "      <td>0</td>\n",
       "      <td>0</td>\n",
       "      <td>0</td>\n",
       "      <td>0</td>\n",
       "      <td>0</td>\n",
       "      <td>0</td>\n",
       "      <td>0</td>\n",
       "    </tr>\n",
       "    <tr>\n",
       "      <th>3D</th>\n",
       "      <td>0</td>\n",
       "      <td>0</td>\n",
       "      <td>0</td>\n",
       "      <td>0</td>\n",
       "      <td>0</td>\n",
       "      <td>1</td>\n",
       "      <td>0</td>\n",
       "      <td>0</td>\n",
       "      <td>0</td>\n",
       "    </tr>\n",
       "    <tr>\n",
       "      <th>3D Printing</th>\n",
       "      <td>0</td>\n",
       "      <td>0</td>\n",
       "      <td>0</td>\n",
       "      <td>0</td>\n",
       "      <td>0</td>\n",
       "      <td>1</td>\n",
       "      <td>0</td>\n",
       "      <td>0</td>\n",
       "      <td>0</td>\n",
       "    </tr>\n",
       "    <tr>\n",
       "      <th>3D Technology</th>\n",
       "      <td>0</td>\n",
       "      <td>0</td>\n",
       "      <td>0</td>\n",
       "      <td>0</td>\n",
       "      <td>0</td>\n",
       "      <td>1</td>\n",
       "      <td>0</td>\n",
       "      <td>0</td>\n",
       "      <td>0</td>\n",
       "    </tr>\n",
       "    <tr>\n",
       "      <th>Accounting</th>\n",
       "      <td>0</td>\n",
       "      <td>0</td>\n",
       "      <td>0</td>\n",
       "      <td>0</td>\n",
       "      <td>0</td>\n",
       "      <td>0</td>\n",
       "      <td>0</td>\n",
       "      <td>0</td>\n",
       "      <td>1</td>\n",
       "    </tr>\n",
       "    <tr>\n",
       "      <th>...</th>\n",
       "      <td>...</td>\n",
       "      <td>...</td>\n",
       "      <td>...</td>\n",
       "      <td>...</td>\n",
       "      <td>...</td>\n",
       "      <td>...</td>\n",
       "      <td>...</td>\n",
       "      <td>...</td>\n",
       "      <td>...</td>\n",
       "    </tr>\n",
       "    <tr>\n",
       "      <th>Wholesale</th>\n",
       "      <td>0</td>\n",
       "      <td>0</td>\n",
       "      <td>0</td>\n",
       "      <td>0</td>\n",
       "      <td>0</td>\n",
       "      <td>0</td>\n",
       "      <td>0</td>\n",
       "      <td>1</td>\n",
       "      <td>0</td>\n",
       "    </tr>\n",
       "    <tr>\n",
       "      <th>Wine And Spirits</th>\n",
       "      <td>0</td>\n",
       "      <td>0</td>\n",
       "      <td>0</td>\n",
       "      <td>1</td>\n",
       "      <td>0</td>\n",
       "      <td>0</td>\n",
       "      <td>0</td>\n",
       "      <td>0</td>\n",
       "      <td>0</td>\n",
       "    </tr>\n",
       "    <tr>\n",
       "      <th>Wireless</th>\n",
       "      <td>0</td>\n",
       "      <td>0</td>\n",
       "      <td>0</td>\n",
       "      <td>1</td>\n",
       "      <td>0</td>\n",
       "      <td>0</td>\n",
       "      <td>0</td>\n",
       "      <td>0</td>\n",
       "      <td>0</td>\n",
       "    </tr>\n",
       "    <tr>\n",
       "      <th>Women</th>\n",
       "      <td>0</td>\n",
       "      <td>0</td>\n",
       "      <td>0</td>\n",
       "      <td>0</td>\n",
       "      <td>0</td>\n",
       "      <td>0</td>\n",
       "      <td>0</td>\n",
       "      <td>1</td>\n",
       "      <td>0</td>\n",
       "    </tr>\n",
       "    <tr>\n",
       "      <th>Young Adults</th>\n",
       "      <td>0</td>\n",
       "      <td>0</td>\n",
       "      <td>0</td>\n",
       "      <td>0</td>\n",
       "      <td>0</td>\n",
       "      <td>0</td>\n",
       "      <td>0</td>\n",
       "      <td>1</td>\n",
       "      <td>0</td>\n",
       "    </tr>\n",
       "  </tbody>\n",
       "</table>\n",
       "<p>688 rows × 9 columns</p>\n",
       "</div>"
      ],
      "text/plain": [
       "                  Automotive & Sports  ...  Social, Finance, Analytics, Advertising\n",
       "category_list                          ...                                         \n",
       "NaN                                 0  ...                                        0\n",
       "3D                                  0  ...                                        0\n",
       "3D Printing                         0  ...                                        0\n",
       "3D Technology                       0  ...                                        0\n",
       "Accounting                          0  ...                                        1\n",
       "...                               ...  ...                                      ...\n",
       "Wholesale                           0  ...                                        0\n",
       "Wine And Spirits                    0  ...                                        0\n",
       "Wireless                            0  ...                                        0\n",
       "Women                               0  ...                                        0\n",
       "Young Adults                        0  ...                                        0\n",
       "\n",
       "[688 rows x 9 columns]"
      ]
     },
     "execution_count": 64,
     "metadata": {
      "tags": []
     },
     "output_type": "execute_result"
    }
   ],
   "source": [
    "mapping"
   ]
  },
  {
   "cell_type": "code",
   "execution_count": 65,
   "metadata": {
    "id": "9JKCFndw0gPi"
   },
   "outputs": [],
   "source": [
    "# map the main sectors using sector_dictionary\n",
    "master_frame['main_sector'] = master_frame['primary_sector'].map(sector_dict)"
   ]
  },
  {
   "cell_type": "code",
   "execution_count": 66,
   "metadata": {
    "colab": {
     "base_uri": "https://localhost:8080/",
     "height": 834
    },
    "id": "BEFw6QmR0gPj",
    "outputId": "ffdd412a-fbc6-4069-a80a-bea2d7b2e595"
   },
   "outputs": [
    {
     "data": {
      "text/html": [
       "<div>\n",
       "<style scoped>\n",
       "    .dataframe tbody tr th:only-of-type {\n",
       "        vertical-align: middle;\n",
       "    }\n",
       "\n",
       "    .dataframe tbody tr th {\n",
       "        vertical-align: top;\n",
       "    }\n",
       "\n",
       "    .dataframe thead th {\n",
       "        text-align: right;\n",
       "    }\n",
       "</style>\n",
       "<table border=\"1\" class=\"dataframe\">\n",
       "  <thead>\n",
       "    <tr style=\"text-align: right;\">\n",
       "      <th></th>\n",
       "      <th>permalink</th>\n",
       "      <th>name</th>\n",
       "      <th>homepage_url</th>\n",
       "      <th>category_list</th>\n",
       "      <th>status</th>\n",
       "      <th>country_code</th>\n",
       "      <th>funding_round_permalink</th>\n",
       "      <th>funding_round_type</th>\n",
       "      <th>funded_at</th>\n",
       "      <th>raised_amount_usd</th>\n",
       "      <th>primary_sector</th>\n",
       "      <th>main_sector</th>\n",
       "    </tr>\n",
       "  </thead>\n",
       "  <tbody>\n",
       "    <tr>\n",
       "      <th>0</th>\n",
       "      <td>/organization/-fame</td>\n",
       "      <td>#fame</td>\n",
       "      <td>http://livfame.com</td>\n",
       "      <td>Media</td>\n",
       "      <td>operating</td>\n",
       "      <td>IND</td>\n",
       "      <td>/funding-round/9a01d05418af9f794eebff7ace91f638</td>\n",
       "      <td>venture</td>\n",
       "      <td>05-01-2015</td>\n",
       "      <td>10.000000</td>\n",
       "      <td>Media</td>\n",
       "      <td>Entertainment</td>\n",
       "    </tr>\n",
       "    <tr>\n",
       "      <th>1</th>\n",
       "      <td>/organization/-qounter</td>\n",
       "      <td>:Qounter</td>\n",
       "      <td>http://www.qounter.com</td>\n",
       "      <td>Application Platforms|Real Time|Social Network...</td>\n",
       "      <td>operating</td>\n",
       "      <td>USA</td>\n",
       "      <td>/funding-round/22dacff496eb7acb2b901dec1dfe5633</td>\n",
       "      <td>venture</td>\n",
       "      <td>14-10-2014</td>\n",
       "      <td>NaN</td>\n",
       "      <td>Application Platforms</td>\n",
       "      <td>News, Search and Messaging</td>\n",
       "    </tr>\n",
       "    <tr>\n",
       "      <th>2</th>\n",
       "      <td>/organization/-qounter</td>\n",
       "      <td>:Qounter</td>\n",
       "      <td>http://www.qounter.com</td>\n",
       "      <td>Application Platforms|Real Time|Social Network...</td>\n",
       "      <td>operating</td>\n",
       "      <td>USA</td>\n",
       "      <td>/funding-round/b44fbb94153f6cdef13083530bb48030</td>\n",
       "      <td>seed</td>\n",
       "      <td>01-03-2014</td>\n",
       "      <td>0.700000</td>\n",
       "      <td>Application Platforms</td>\n",
       "      <td>News, Search and Messaging</td>\n",
       "    </tr>\n",
       "    <tr>\n",
       "      <th>3</th>\n",
       "      <td>/organization/-the-one-of-them-inc-</td>\n",
       "      <td>(THE) ONE of THEM,Inc.</td>\n",
       "      <td>http://oneofthem.jp</td>\n",
       "      <td>Apps|Games|Mobile</td>\n",
       "      <td>operating</td>\n",
       "      <td>NaN</td>\n",
       "      <td>/funding-round/650b8f704416801069bb178a1418776b</td>\n",
       "      <td>venture</td>\n",
       "      <td>30-01-2014</td>\n",
       "      <td>3.406878</td>\n",
       "      <td>Apps</td>\n",
       "      <td>News, Search and Messaging</td>\n",
       "    </tr>\n",
       "    <tr>\n",
       "      <th>4</th>\n",
       "      <td>/organization/0-6-com</td>\n",
       "      <td>0-6.com</td>\n",
       "      <td>http://www.0-6.com</td>\n",
       "      <td>Curated Web</td>\n",
       "      <td>operating</td>\n",
       "      <td>CHN</td>\n",
       "      <td>/funding-round/5727accaeaa57461bd22a9bdd945382d</td>\n",
       "      <td>venture</td>\n",
       "      <td>19-03-2008</td>\n",
       "      <td>2.000000</td>\n",
       "      <td>Curated Web</td>\n",
       "      <td>News, Search and Messaging</td>\n",
       "    </tr>\n",
       "    <tr>\n",
       "      <th>...</th>\n",
       "      <td>...</td>\n",
       "      <td>...</td>\n",
       "      <td>...</td>\n",
       "      <td>...</td>\n",
       "      <td>...</td>\n",
       "      <td>...</td>\n",
       "      <td>...</td>\n",
       "      <td>...</td>\n",
       "      <td>...</td>\n",
       "      <td>...</td>\n",
       "      <td>...</td>\n",
       "      <td>...</td>\n",
       "    </tr>\n",
       "    <tr>\n",
       "      <th>114903</th>\n",
       "      <td>/organization/zznode-science-and-technology-co...</td>\n",
       "      <td>ZZNode Science and Technology</td>\n",
       "      <td>http://www.zznode.com</td>\n",
       "      <td>Enterprise Software</td>\n",
       "      <td>operating</td>\n",
       "      <td>CHN</td>\n",
       "      <td>/funding-round/171693e1e07e0230defd8fddb6de4515</td>\n",
       "      <td>venture</td>\n",
       "      <td>01-04-2012</td>\n",
       "      <td>1.587301</td>\n",
       "      <td>Enterprise Software</td>\n",
       "      <td>Others</td>\n",
       "    </tr>\n",
       "    <tr>\n",
       "      <th>114904</th>\n",
       "      <td>/organization/zzzzapp-com</td>\n",
       "      <td>Zzzzapp Wireless ltd.</td>\n",
       "      <td>http://www.zzzzapp.com</td>\n",
       "      <td>Advertising|Mobile|Web Development|Wireless</td>\n",
       "      <td>operating</td>\n",
       "      <td>HRV</td>\n",
       "      <td>/funding-round/22ef2fafb4d20ac3aa4b86143dbf6c8e</td>\n",
       "      <td>seed</td>\n",
       "      <td>01-11-2011</td>\n",
       "      <td>0.007000</td>\n",
       "      <td>Advertising</td>\n",
       "      <td>Social, Finance, Analytics, Advertising</td>\n",
       "    </tr>\n",
       "    <tr>\n",
       "      <th>114905</th>\n",
       "      <td>/organization/zzzzapp-com</td>\n",
       "      <td>Zzzzapp Wireless ltd.</td>\n",
       "      <td>http://www.zzzzapp.com</td>\n",
       "      <td>Advertising|Mobile|Web Development|Wireless</td>\n",
       "      <td>operating</td>\n",
       "      <td>HRV</td>\n",
       "      <td>/funding-round/6ba41360588bc6e3f77e9b50a0ebfafa</td>\n",
       "      <td>seed</td>\n",
       "      <td>01-08-2013</td>\n",
       "      <td>0.033149</td>\n",
       "      <td>Advertising</td>\n",
       "      <td>Social, Finance, Analytics, Advertising</td>\n",
       "    </tr>\n",
       "    <tr>\n",
       "      <th>114907</th>\n",
       "      <td>/organization/zzzzapp-com</td>\n",
       "      <td>Zzzzapp Wireless ltd.</td>\n",
       "      <td>http://www.zzzzapp.com</td>\n",
       "      <td>Advertising|Mobile|Web Development|Wireless</td>\n",
       "      <td>operating</td>\n",
       "      <td>HRV</td>\n",
       "      <td>/funding-round/ff1aa06ed5da186c84f101549035d4ae</td>\n",
       "      <td>seed</td>\n",
       "      <td>01-05-2013</td>\n",
       "      <td>0.032842</td>\n",
       "      <td>Advertising</td>\n",
       "      <td>Social, Finance, Analytics, Advertising</td>\n",
       "    </tr>\n",
       "    <tr>\n",
       "      <th>114908</th>\n",
       "      <td>/organization/├öasys-2</td>\n",
       "      <td>├öasys</td>\n",
       "      <td>http://www.oasys.io/</td>\n",
       "      <td>Consumer Electronics|Internet of Things|Teleco...</td>\n",
       "      <td>operating</td>\n",
       "      <td>USA</td>\n",
       "      <td>/funding-round/35f09d0794651719b02bbfd859ba9ff5</td>\n",
       "      <td>seed</td>\n",
       "      <td>01-01-2015</td>\n",
       "      <td>0.018192</td>\n",
       "      <td>Consumer Electronics</td>\n",
       "      <td>Manufacturing</td>\n",
       "    </tr>\n",
       "  </tbody>\n",
       "</table>\n",
       "<p>88375 rows × 12 columns</p>\n",
       "</div>"
      ],
      "text/plain": [
       "                                                permalink  ...                              main_sector\n",
       "0                                     /organization/-fame  ...                            Entertainment\n",
       "1                                  /organization/-qounter  ...               News, Search and Messaging\n",
       "2                                  /organization/-qounter  ...               News, Search and Messaging\n",
       "3                     /organization/-the-one-of-them-inc-  ...               News, Search and Messaging\n",
       "4                                   /organization/0-6-com  ...               News, Search and Messaging\n",
       "...                                                   ...  ...                                      ...\n",
       "114903  /organization/zznode-science-and-technology-co...  ...                                   Others\n",
       "114904                          /organization/zzzzapp-com  ...  Social, Finance, Analytics, Advertising\n",
       "114905                          /organization/zzzzapp-com  ...  Social, Finance, Analytics, Advertising\n",
       "114907                          /organization/zzzzapp-com  ...  Social, Finance, Analytics, Advertising\n",
       "114908                             /organization/├öasys-2  ...                            Manufacturing\n",
       "\n",
       "[88375 rows x 12 columns]"
      ]
     },
     "execution_count": 66,
     "metadata": {
      "tags": []
     },
     "output_type": "execute_result"
    }
   ],
   "source": [
    "master_frame"
   ]
  },
  {
   "cell_type": "code",
   "execution_count": 67,
   "metadata": {
    "colab": {
     "base_uri": "https://localhost:8080/",
     "height": 533
    },
    "id": "g_ifhUjW0gPj",
    "outputId": "dee5f607-038e-488c-c10f-35a498f787e5"
   },
   "outputs": [
    {
     "data": {
      "image/png": "[encoded data removed]",
      "text/plain": [
       "<Figure size 576x432 with 1 Axes>"
      ]
     },
     "metadata": {
      "tags": []
     },
     "output_type": "display_data"
    },
    {
     "name": "stdout",
     "output_type": "stream",
     "text": [
      "Social, Finance, Analytics, Advertising    21992\n",
      "Others                                     20294\n",
      "News, Search and Messaging                 13788\n",
      "Cleantech / Semiconductors                 12014\n",
      "Entertainment                               6755\n",
      "Health                                      6083\n",
      "Manufacturing                               5354\n",
      "Automotive & Sports                         1807\n",
      "Name: main_sector, dtype: int64\n"
     ]
    }
   ],
   "source": [
    "# Drop all rows which couldn't get mapped (and we drop blanks as there are only 8 sectors)\n",
    "master_frame.dropna(subset=['main_sector'], inplace=True)\n",
    "master_frame = master_frame[master_frame['main_sector'] != 'Blanks']\n",
    "sectors = master_frame.main_sector.value_counts()\n",
    "plt.figure(figsize=(8, 6))\n",
    "sns.barplot(x=sectors.values, y=sectors.index)\n",
    "plt.show()\n",
    "print(sectors)"
   ]
  },
  {
   "cell_type": "code",
   "execution_count": 68,
   "metadata": {
    "colab": {
     "base_uri": "https://localhost:8080/",
     "height": 356
    },
    "id": "D_Fhlqtm0gPj",
    "outputId": "8f315920-7597-496f-e6ee-93f2f423c0dd"
   },
   "outputs": [
    {
     "data": {
      "text/html": [
       "<div>\n",
       "<style scoped>\n",
       "    .dataframe tbody tr th:only-of-type {\n",
       "        vertical-align: middle;\n",
       "    }\n",
       "\n",
       "    .dataframe tbody tr th {\n",
       "        vertical-align: top;\n",
       "    }\n",
       "\n",
       "    .dataframe thead th {\n",
       "        text-align: right;\n",
       "    }\n",
       "</style>\n",
       "<table border=\"1\" class=\"dataframe\">\n",
       "  <thead>\n",
       "    <tr style=\"text-align: right;\">\n",
       "      <th></th>\n",
       "      <th>permalink</th>\n",
       "      <th>primary_sector</th>\n",
       "      <th>main_sector</th>\n",
       "    </tr>\n",
       "  </thead>\n",
       "  <tbody>\n",
       "    <tr>\n",
       "      <th>0</th>\n",
       "      <td>/organization/-fame</td>\n",
       "      <td>Media</td>\n",
       "      <td>Entertainment</td>\n",
       "    </tr>\n",
       "    <tr>\n",
       "      <th>1</th>\n",
       "      <td>/organization/-qounter</td>\n",
       "      <td>Application Platforms</td>\n",
       "      <td>News, Search and Messaging</td>\n",
       "    </tr>\n",
       "    <tr>\n",
       "      <th>2</th>\n",
       "      <td>/organization/-qounter</td>\n",
       "      <td>Application Platforms</td>\n",
       "      <td>News, Search and Messaging</td>\n",
       "    </tr>\n",
       "    <tr>\n",
       "      <th>3</th>\n",
       "      <td>/organization/-the-one-of-them-inc-</td>\n",
       "      <td>Apps</td>\n",
       "      <td>News, Search and Messaging</td>\n",
       "    </tr>\n",
       "    <tr>\n",
       "      <th>4</th>\n",
       "      <td>/organization/0-6-com</td>\n",
       "      <td>Curated Web</td>\n",
       "      <td>News, Search and Messaging</td>\n",
       "    </tr>\n",
       "    <tr>\n",
       "      <th>5</th>\n",
       "      <td>/organization/004-technologies</td>\n",
       "      <td>Software</td>\n",
       "      <td>Others</td>\n",
       "    </tr>\n",
       "    <tr>\n",
       "      <th>7</th>\n",
       "      <td>/organization/0ndine-biomedical-inc</td>\n",
       "      <td>Biotechnology</td>\n",
       "      <td>Cleantech / Semiconductors</td>\n",
       "    </tr>\n",
       "    <tr>\n",
       "      <th>8</th>\n",
       "      <td>/organization/0ndine-biomedical-inc</td>\n",
       "      <td>Biotechnology</td>\n",
       "      <td>Cleantech / Semiconductors</td>\n",
       "    </tr>\n",
       "    <tr>\n",
       "      <th>9</th>\n",
       "      <td>/organization/0xdata</td>\n",
       "      <td>Analytics</td>\n",
       "      <td>Social, Finance, Analytics, Advertising</td>\n",
       "    </tr>\n",
       "    <tr>\n",
       "      <th>10</th>\n",
       "      <td>/organization/0xdata</td>\n",
       "      <td>Analytics</td>\n",
       "      <td>Social, Finance, Analytics, Advertising</td>\n",
       "    </tr>\n",
       "  </tbody>\n",
       "</table>\n",
       "</div>"
      ],
      "text/plain": [
       "                              permalink  ...                              main_sector\n",
       "0                   /organization/-fame  ...                            Entertainment\n",
       "1                /organization/-qounter  ...               News, Search and Messaging\n",
       "2                /organization/-qounter  ...               News, Search and Messaging\n",
       "3   /organization/-the-one-of-them-inc-  ...               News, Search and Messaging\n",
       "4                 /organization/0-6-com  ...               News, Search and Messaging\n",
       "5        /organization/004-technologies  ...                                   Others\n",
       "7   /organization/0ndine-biomedical-inc  ...               Cleantech / Semiconductors\n",
       "8   /organization/0ndine-biomedical-inc  ...               Cleantech / Semiconductors\n",
       "9                  /organization/0xdata  ...  Social, Finance, Analytics, Advertising\n",
       "10                 /organization/0xdata  ...  Social, Finance, Analytics, Advertising\n",
       "\n",
       "[10 rows x 3 columns]"
      ]
     },
     "execution_count": 68,
     "metadata": {
      "tags": []
     },
     "output_type": "execute_result"
    }
   ],
   "source": [
    "master_frame[['permalink','primary_sector', 'main_sector']].head(10)"
   ]
  },
  {
   "cell_type": "markdown",
   "metadata": {
    "id": "PnUTwTj90gPj"
   },
   "source": [
    "# Checkpoint 5: Sector Analysis 2"
   ]
  },
  {
   "cell_type": "code",
   "execution_count": 69,
   "metadata": {
    "colab": {
     "base_uri": "https://localhost:8080/",
     "height": 358
    },
    "id": "rVLijrkj0gPj",
    "outputId": "5119577a-6d0e-4296-d085-154c026f02ab"
   },
   "outputs": [
    {
     "data": {
      "text/html": [
       "<div>\n",
       "<style scoped>\n",
       "    .dataframe tbody tr th:only-of-type {\n",
       "        vertical-align: middle;\n",
       "    }\n",
       "\n",
       "    .dataframe tbody tr th {\n",
       "        vertical-align: top;\n",
       "    }\n",
       "\n",
       "    .dataframe thead th {\n",
       "        text-align: right;\n",
       "    }\n",
       "</style>\n",
       "<table border=\"1\" class=\"dataframe\">\n",
       "  <thead>\n",
       "    <tr style=\"text-align: right;\">\n",
       "      <th></th>\n",
       "      <th>permalink</th>\n",
       "      <th>name</th>\n",
       "      <th>homepage_url</th>\n",
       "      <th>category_list</th>\n",
       "      <th>status</th>\n",
       "      <th>country_code</th>\n",
       "      <th>funding_round_permalink</th>\n",
       "      <th>funding_round_type</th>\n",
       "      <th>funded_at</th>\n",
       "      <th>raised_amount_usd</th>\n",
       "      <th>primary_sector</th>\n",
       "      <th>main_sector</th>\n",
       "    </tr>\n",
       "  </thead>\n",
       "  <tbody>\n",
       "    <tr>\n",
       "      <th>0</th>\n",
       "      <td>/organization/-fame</td>\n",
       "      <td>#fame</td>\n",
       "      <td>http://livfame.com</td>\n",
       "      <td>Media</td>\n",
       "      <td>operating</td>\n",
       "      <td>IND</td>\n",
       "      <td>/funding-round/9a01d05418af9f794eebff7ace91f638</td>\n",
       "      <td>venture</td>\n",
       "      <td>05-01-2015</td>\n",
       "      <td>10.000000</td>\n",
       "      <td>Media</td>\n",
       "      <td>Entertainment</td>\n",
       "    </tr>\n",
       "    <tr>\n",
       "      <th>1</th>\n",
       "      <td>/organization/-qounter</td>\n",
       "      <td>:Qounter</td>\n",
       "      <td>http://www.qounter.com</td>\n",
       "      <td>Application Platforms|Real Time|Social Network...</td>\n",
       "      <td>operating</td>\n",
       "      <td>USA</td>\n",
       "      <td>/funding-round/22dacff496eb7acb2b901dec1dfe5633</td>\n",
       "      <td>venture</td>\n",
       "      <td>14-10-2014</td>\n",
       "      <td>NaN</td>\n",
       "      <td>Application Platforms</td>\n",
       "      <td>News, Search and Messaging</td>\n",
       "    </tr>\n",
       "    <tr>\n",
       "      <th>2</th>\n",
       "      <td>/organization/-qounter</td>\n",
       "      <td>:Qounter</td>\n",
       "      <td>http://www.qounter.com</td>\n",
       "      <td>Application Platforms|Real Time|Social Network...</td>\n",
       "      <td>operating</td>\n",
       "      <td>USA</td>\n",
       "      <td>/funding-round/b44fbb94153f6cdef13083530bb48030</td>\n",
       "      <td>seed</td>\n",
       "      <td>01-03-2014</td>\n",
       "      <td>0.700000</td>\n",
       "      <td>Application Platforms</td>\n",
       "      <td>News, Search and Messaging</td>\n",
       "    </tr>\n",
       "    <tr>\n",
       "      <th>3</th>\n",
       "      <td>/organization/-the-one-of-them-inc-</td>\n",
       "      <td>(THE) ONE of THEM,Inc.</td>\n",
       "      <td>http://oneofthem.jp</td>\n",
       "      <td>Apps|Games|Mobile</td>\n",
       "      <td>operating</td>\n",
       "      <td>NaN</td>\n",
       "      <td>/funding-round/650b8f704416801069bb178a1418776b</td>\n",
       "      <td>venture</td>\n",
       "      <td>30-01-2014</td>\n",
       "      <td>3.406878</td>\n",
       "      <td>Apps</td>\n",
       "      <td>News, Search and Messaging</td>\n",
       "    </tr>\n",
       "    <tr>\n",
       "      <th>4</th>\n",
       "      <td>/organization/0-6-com</td>\n",
       "      <td>0-6.com</td>\n",
       "      <td>http://www.0-6.com</td>\n",
       "      <td>Curated Web</td>\n",
       "      <td>operating</td>\n",
       "      <td>CHN</td>\n",
       "      <td>/funding-round/5727accaeaa57461bd22a9bdd945382d</td>\n",
       "      <td>venture</td>\n",
       "      <td>19-03-2008</td>\n",
       "      <td>2.000000</td>\n",
       "      <td>Curated Web</td>\n",
       "      <td>News, Search and Messaging</td>\n",
       "    </tr>\n",
       "  </tbody>\n",
       "</table>\n",
       "</div>"
      ],
      "text/plain": [
       "                             permalink  ...                 main_sector\n",
       "0                  /organization/-fame  ...               Entertainment\n",
       "1               /organization/-qounter  ...  News, Search and Messaging\n",
       "2               /organization/-qounter  ...  News, Search and Messaging\n",
       "3  /organization/-the-one-of-them-inc-  ...  News, Search and Messaging\n",
       "4                /organization/0-6-com  ...  News, Search and Messaging\n",
       "\n",
       "[5 rows x 12 columns]"
      ]
     },
     "execution_count": 69,
     "metadata": {
      "tags": []
     },
     "output_type": "execute_result"
    }
   ],
   "source": [
    "master_frame.head()"
   ]
  },
  {
   "cell_type": "code",
   "execution_count": 70,
   "metadata": {
    "id": "dUlfGlt20gPk"
   },
   "outputs": [],
   "source": [
    "# Let's drop company_permalink column\n",
    "master_frame=master_frame.drop(['category_list'],axis=1)"
   ]
  },
  {
   "cell_type": "code",
   "execution_count": 71,
   "metadata": {
    "colab": {
     "base_uri": "https://localhost:8080/",
     "height": 289
    },
    "id": "ygVpCzZi0gPk",
    "outputId": "99b88204-db4a-4639-a153-eaa910fb4917"
   },
   "outputs": [
    {
     "data": {
      "text/html": [
       "<div>\n",
       "<style scoped>\n",
       "    .dataframe tbody tr th:only-of-type {\n",
       "        vertical-align: middle;\n",
       "    }\n",
       "\n",
       "    .dataframe tbody tr th {\n",
       "        vertical-align: top;\n",
       "    }\n",
       "\n",
       "    .dataframe thead th {\n",
       "        text-align: right;\n",
       "    }\n",
       "</style>\n",
       "<table border=\"1\" class=\"dataframe\">\n",
       "  <thead>\n",
       "    <tr style=\"text-align: right;\">\n",
       "      <th></th>\n",
       "      <th>permalink</th>\n",
       "      <th>name</th>\n",
       "      <th>homepage_url</th>\n",
       "      <th>status</th>\n",
       "      <th>country_code</th>\n",
       "      <th>funding_round_permalink</th>\n",
       "      <th>funding_round_type</th>\n",
       "      <th>funded_at</th>\n",
       "      <th>raised_amount_usd</th>\n",
       "      <th>primary_sector</th>\n",
       "      <th>main_sector</th>\n",
       "    </tr>\n",
       "  </thead>\n",
       "  <tbody>\n",
       "    <tr>\n",
       "      <th>0</th>\n",
       "      <td>/organization/-fame</td>\n",
       "      <td>#fame</td>\n",
       "      <td>http://livfame.com</td>\n",
       "      <td>operating</td>\n",
       "      <td>IND</td>\n",
       "      <td>/funding-round/9a01d05418af9f794eebff7ace91f638</td>\n",
       "      <td>venture</td>\n",
       "      <td>05-01-2015</td>\n",
       "      <td>10.000000</td>\n",
       "      <td>Media</td>\n",
       "      <td>Entertainment</td>\n",
       "    </tr>\n",
       "    <tr>\n",
       "      <th>1</th>\n",
       "      <td>/organization/-qounter</td>\n",
       "      <td>:Qounter</td>\n",
       "      <td>http://www.qounter.com</td>\n",
       "      <td>operating</td>\n",
       "      <td>USA</td>\n",
       "      <td>/funding-round/22dacff496eb7acb2b901dec1dfe5633</td>\n",
       "      <td>venture</td>\n",
       "      <td>14-10-2014</td>\n",
       "      <td>NaN</td>\n",
       "      <td>Application Platforms</td>\n",
       "      <td>News, Search and Messaging</td>\n",
       "    </tr>\n",
       "    <tr>\n",
       "      <th>2</th>\n",
       "      <td>/organization/-qounter</td>\n",
       "      <td>:Qounter</td>\n",
       "      <td>http://www.qounter.com</td>\n",
       "      <td>operating</td>\n",
       "      <td>USA</td>\n",
       "      <td>/funding-round/b44fbb94153f6cdef13083530bb48030</td>\n",
       "      <td>seed</td>\n",
       "      <td>01-03-2014</td>\n",
       "      <td>0.700000</td>\n",
       "      <td>Application Platforms</td>\n",
       "      <td>News, Search and Messaging</td>\n",
       "    </tr>\n",
       "    <tr>\n",
       "      <th>3</th>\n",
       "      <td>/organization/-the-one-of-them-inc-</td>\n",
       "      <td>(THE) ONE of THEM,Inc.</td>\n",
       "      <td>http://oneofthem.jp</td>\n",
       "      <td>operating</td>\n",
       "      <td>NaN</td>\n",
       "      <td>/funding-round/650b8f704416801069bb178a1418776b</td>\n",
       "      <td>venture</td>\n",
       "      <td>30-01-2014</td>\n",
       "      <td>3.406878</td>\n",
       "      <td>Apps</td>\n",
       "      <td>News, Search and Messaging</td>\n",
       "    </tr>\n",
       "    <tr>\n",
       "      <th>4</th>\n",
       "      <td>/organization/0-6-com</td>\n",
       "      <td>0-6.com</td>\n",
       "      <td>http://www.0-6.com</td>\n",
       "      <td>operating</td>\n",
       "      <td>CHN</td>\n",
       "      <td>/funding-round/5727accaeaa57461bd22a9bdd945382d</td>\n",
       "      <td>venture</td>\n",
       "      <td>19-03-2008</td>\n",
       "      <td>2.000000</td>\n",
       "      <td>Curated Web</td>\n",
       "      <td>News, Search and Messaging</td>\n",
       "    </tr>\n",
       "  </tbody>\n",
       "</table>\n",
       "</div>"
      ],
      "text/plain": [
       "                             permalink  ...                 main_sector\n",
       "0                  /organization/-fame  ...               Entertainment\n",
       "1               /organization/-qounter  ...  News, Search and Messaging\n",
       "2               /organization/-qounter  ...  News, Search and Messaging\n",
       "3  /organization/-the-one-of-them-inc-  ...  News, Search and Messaging\n",
       "4                /organization/0-6-com  ...  News, Search and Messaging\n",
       "\n",
       "[5 rows x 11 columns]"
      ]
     },
     "execution_count": 71,
     "metadata": {
      "tags": []
     },
     "output_type": "execute_result"
    }
   ],
   "source": [
    "master_frame.head()"
   ]
  },
  {
   "cell_type": "code",
   "execution_count": 72,
   "metadata": {
    "colab": {
     "base_uri": "https://localhost:8080/"
    },
    "id": "aGVOKnVe0gPk",
    "outputId": "6278c807-ad83-427c-c2cb-87033cfca6e8"
   },
   "outputs": [
    {
     "data": {
      "text/plain": [
       "array(['Entertainment', 'News, Search and Messaging', 'Others',\n",
       "       'Cleantech / Semiconductors',\n",
       "       'Social, Finance, Analytics, Advertising', 'Health',\n",
       "       'Manufacturing', 'Automotive & Sports'], dtype=object)"
      ]
     },
     "execution_count": 72,
     "metadata": {
      "tags": []
     },
     "output_type": "execute_result"
    }
   ],
   "source": [
    "master_frame['main_sector'].unique()"
   ]
  },
  {
   "cell_type": "code",
   "execution_count": 72,
   "metadata": {
    "id": "pKAre2Oz0gPk"
   },
   "outputs": [],
   "source": []
  },
  {
   "cell_type": "code",
   "execution_count": 73,
   "metadata": {
    "colab": {
     "base_uri": "https://localhost:8080/",
     "height": 446
    },
    "id": "NXICkb-d0gPk",
    "outputId": "bdaebf03-328c-41a7-907f-680f8edf0f34",
    "scrolled": true
   },
   "outputs": [
    {
     "data": {
      "text/html": [
       "<div>\n",
       "<style scoped>\n",
       "    .dataframe tbody tr th:only-of-type {\n",
       "        vertical-align: middle;\n",
       "    }\n",
       "\n",
       "    .dataframe tbody tr th {\n",
       "        vertical-align: top;\n",
       "    }\n",
       "\n",
       "    .dataframe thead th {\n",
       "        text-align: right;\n",
       "    }\n",
       "</style>\n",
       "<table border=\"1\" class=\"dataframe\">\n",
       "  <thead>\n",
       "    <tr style=\"text-align: right;\">\n",
       "      <th></th>\n",
       "      <th>Automotive &amp; Sports</th>\n",
       "      <th>Blanks</th>\n",
       "      <th>Cleantech / Semiconductors</th>\n",
       "      <th>Entertainment</th>\n",
       "      <th>Health</th>\n",
       "      <th>Manufacturing</th>\n",
       "      <th>News, Search and Messaging</th>\n",
       "      <th>Others</th>\n",
       "      <th>Social, Finance, Analytics, Advertising</th>\n",
       "    </tr>\n",
       "    <tr>\n",
       "      <th>category_list</th>\n",
       "      <th></th>\n",
       "      <th></th>\n",
       "      <th></th>\n",
       "      <th></th>\n",
       "      <th></th>\n",
       "      <th></th>\n",
       "      <th></th>\n",
       "      <th></th>\n",
       "      <th></th>\n",
       "    </tr>\n",
       "  </thead>\n",
       "  <tbody>\n",
       "    <tr>\n",
       "      <th>NaN</th>\n",
       "      <td>0</td>\n",
       "      <td>1</td>\n",
       "      <td>0</td>\n",
       "      <td>0</td>\n",
       "      <td>0</td>\n",
       "      <td>0</td>\n",
       "      <td>0</td>\n",
       "      <td>0</td>\n",
       "      <td>0</td>\n",
       "    </tr>\n",
       "    <tr>\n",
       "      <th>3D</th>\n",
       "      <td>0</td>\n",
       "      <td>0</td>\n",
       "      <td>0</td>\n",
       "      <td>0</td>\n",
       "      <td>0</td>\n",
       "      <td>1</td>\n",
       "      <td>0</td>\n",
       "      <td>0</td>\n",
       "      <td>0</td>\n",
       "    </tr>\n",
       "    <tr>\n",
       "      <th>3D Printing</th>\n",
       "      <td>0</td>\n",
       "      <td>0</td>\n",
       "      <td>0</td>\n",
       "      <td>0</td>\n",
       "      <td>0</td>\n",
       "      <td>1</td>\n",
       "      <td>0</td>\n",
       "      <td>0</td>\n",
       "      <td>0</td>\n",
       "    </tr>\n",
       "    <tr>\n",
       "      <th>3D Technology</th>\n",
       "      <td>0</td>\n",
       "      <td>0</td>\n",
       "      <td>0</td>\n",
       "      <td>0</td>\n",
       "      <td>0</td>\n",
       "      <td>1</td>\n",
       "      <td>0</td>\n",
       "      <td>0</td>\n",
       "      <td>0</td>\n",
       "    </tr>\n",
       "    <tr>\n",
       "      <th>Accounting</th>\n",
       "      <td>0</td>\n",
       "      <td>0</td>\n",
       "      <td>0</td>\n",
       "      <td>0</td>\n",
       "      <td>0</td>\n",
       "      <td>0</td>\n",
       "      <td>0</td>\n",
       "      <td>0</td>\n",
       "      <td>1</td>\n",
       "    </tr>\n",
       "    <tr>\n",
       "      <th>...</th>\n",
       "      <td>...</td>\n",
       "      <td>...</td>\n",
       "      <td>...</td>\n",
       "      <td>...</td>\n",
       "      <td>...</td>\n",
       "      <td>...</td>\n",
       "      <td>...</td>\n",
       "      <td>...</td>\n",
       "      <td>...</td>\n",
       "    </tr>\n",
       "    <tr>\n",
       "      <th>Wholesale</th>\n",
       "      <td>0</td>\n",
       "      <td>0</td>\n",
       "      <td>0</td>\n",
       "      <td>0</td>\n",
       "      <td>0</td>\n",
       "      <td>0</td>\n",
       "      <td>0</td>\n",
       "      <td>1</td>\n",
       "      <td>0</td>\n",
       "    </tr>\n",
       "    <tr>\n",
       "      <th>Wine And Spirits</th>\n",
       "      <td>0</td>\n",
       "      <td>0</td>\n",
       "      <td>0</td>\n",
       "      <td>1</td>\n",
       "      <td>0</td>\n",
       "      <td>0</td>\n",
       "      <td>0</td>\n",
       "      <td>0</td>\n",
       "      <td>0</td>\n",
       "    </tr>\n",
       "    <tr>\n",
       "      <th>Wireless</th>\n",
       "      <td>0</td>\n",
       "      <td>0</td>\n",
       "      <td>0</td>\n",
       "      <td>1</td>\n",
       "      <td>0</td>\n",
       "      <td>0</td>\n",
       "      <td>0</td>\n",
       "      <td>0</td>\n",
       "      <td>0</td>\n",
       "    </tr>\n",
       "    <tr>\n",
       "      <th>Women</th>\n",
       "      <td>0</td>\n",
       "      <td>0</td>\n",
       "      <td>0</td>\n",
       "      <td>0</td>\n",
       "      <td>0</td>\n",
       "      <td>0</td>\n",
       "      <td>0</td>\n",
       "      <td>1</td>\n",
       "      <td>0</td>\n",
       "    </tr>\n",
       "    <tr>\n",
       "      <th>Young Adults</th>\n",
       "      <td>0</td>\n",
       "      <td>0</td>\n",
       "      <td>0</td>\n",
       "      <td>0</td>\n",
       "      <td>0</td>\n",
       "      <td>0</td>\n",
       "      <td>0</td>\n",
       "      <td>1</td>\n",
       "      <td>0</td>\n",
       "    </tr>\n",
       "  </tbody>\n",
       "</table>\n",
       "<p>688 rows × 9 columns</p>\n",
       "</div>"
      ],
      "text/plain": [
       "                  Automotive & Sports  ...  Social, Finance, Analytics, Advertising\n",
       "category_list                          ...                                         \n",
       "NaN                                 0  ...                                        0\n",
       "3D                                  0  ...                                        0\n",
       "3D Printing                         0  ...                                        0\n",
       "3D Technology                       0  ...                                        0\n",
       "Accounting                          0  ...                                        1\n",
       "...                               ...  ...                                      ...\n",
       "Wholesale                           0  ...                                        0\n",
       "Wine And Spirits                    0  ...                                        0\n",
       "Wireless                            0  ...                                        0\n",
       "Women                               0  ...                                        0\n",
       "Young Adults                        0  ...                                        0\n",
       "\n",
       "[688 rows x 9 columns]"
      ]
     },
     "execution_count": 73,
     "metadata": {
      "tags": []
     },
     "output_type": "execute_result"
    }
   ],
   "source": [
    "mapping"
   ]
  },
  {
   "cell_type": "code",
   "execution_count": 74,
   "metadata": {
    "id": "ezw3Kxjr0gPk"
   },
   "outputs": [],
   "source": [
    "master_frame.to_csv('master_frame1.csv')"
   ]
  },
  {
   "cell_type": "code",
   "execution_count": 75,
   "metadata": {
    "colab": {
     "base_uri": "https://localhost:8080/"
    },
    "id": "bVrPIQSN0gPl",
    "outputId": "d149f3d8-2a95-42e9-cf14-c27a859cd6aa",
    "scrolled": true
   },
   "outputs": [
    {
     "name": "stdout",
     "output_type": "stream",
     "text": [
      "<class 'pandas.core.frame.DataFrame'>\n",
      "Int64Index: 88087 entries, 0 to 114908\n",
      "Data columns (total 11 columns):\n",
      " #   Column                   Non-Null Count  Dtype  \n",
      "---  ------                   --------------  -----  \n",
      " 0   permalink                88087 non-null  object \n",
      " 1   name                     88086 non-null  object \n",
      " 2   homepage_url             88087 non-null  object \n",
      " 3   status                   88087 non-null  object \n",
      " 4   country_code             82890 non-null  object \n",
      " 5   funding_round_permalink  88087 non-null  object \n",
      " 6   funding_round_type       88087 non-null  object \n",
      " 7   funded_at                88087 non-null  object \n",
      " 8   raised_amount_usd        76305 non-null  float64\n",
      " 9   primary_sector           88087 non-null  object \n",
      " 10  main_sector              88087 non-null  object \n",
      "dtypes: float64(1), object(10)\n",
      "memory usage: 8.1+ MB\n"
     ]
    }
   ],
   "source": [
    "master_frame.info()"
   ]
  },
  {
   "cell_type": "code",
   "execution_count": 75,
   "metadata": {
    "id": "ptDofqi40gPl"
   },
   "outputs": [],
   "source": []
  },
  {
   "cell_type": "markdown",
   "metadata": {
    "id": "ejgynZvJ0gPl"
   },
   "source": [
    "**Create three separate data frames D1, D2 and D3 for each of the three countries containing the observations of funding type FT falling within the 5-15 million USD range. The three data frames should contain:**"
   ]
  },
  {
   "cell_type": "markdown",
   "metadata": {
    "id": "JplUFrNE0gPm"
   },
   "source": [
    "- All the columns of the master_frame along with the primary sector and the main sector\n",
    "\n",
    "- The total number (or count) of investments for each main sector in a separate column\n",
    "\n",
    "- The total amount invested in each main sector in a separate column"
   ]
  },
  {
   "cell_type": "code",
   "execution_count": 76,
   "metadata": {
    "colab": {
     "base_uri": "https://localhost:8080/",
     "height": 762
    },
    "id": "WtjKXbSa0gPm",
    "outputId": "1d0ae9fa-6561-4e65-b328-b696efcf9ff2"
   },
   "outputs": [
    {
     "data": {
      "text/html": [
       "<div>\n",
       "<style scoped>\n",
       "    .dataframe tbody tr th:only-of-type {\n",
       "        vertical-align: middle;\n",
       "    }\n",
       "\n",
       "    .dataframe tbody tr th {\n",
       "        vertical-align: top;\n",
       "    }\n",
       "\n",
       "    .dataframe thead th {\n",
       "        text-align: right;\n",
       "    }\n",
       "</style>\n",
       "<table border=\"1\" class=\"dataframe\">\n",
       "  <thead>\n",
       "    <tr style=\"text-align: right;\">\n",
       "      <th></th>\n",
       "      <th>permalink</th>\n",
       "      <th>name</th>\n",
       "      <th>homepage_url</th>\n",
       "      <th>status</th>\n",
       "      <th>country_code</th>\n",
       "      <th>funding_round_permalink</th>\n",
       "      <th>funding_round_type</th>\n",
       "      <th>funded_at</th>\n",
       "      <th>raised_amount_usd</th>\n",
       "      <th>primary_sector</th>\n",
       "      <th>main_sector</th>\n",
       "    </tr>\n",
       "  </thead>\n",
       "  <tbody>\n",
       "    <tr>\n",
       "      <th>0</th>\n",
       "      <td>/organization/-fame</td>\n",
       "      <td>#fame</td>\n",
       "      <td>http://livfame.com</td>\n",
       "      <td>operating</td>\n",
       "      <td>IND</td>\n",
       "      <td>/funding-round/9a01d05418af9f794eebff7ace91f638</td>\n",
       "      <td>venture</td>\n",
       "      <td>05-01-2015</td>\n",
       "      <td>10.000000</td>\n",
       "      <td>Media</td>\n",
       "      <td>Entertainment</td>\n",
       "    </tr>\n",
       "    <tr>\n",
       "      <th>1</th>\n",
       "      <td>/organization/-qounter</td>\n",
       "      <td>:Qounter</td>\n",
       "      <td>http://www.qounter.com</td>\n",
       "      <td>operating</td>\n",
       "      <td>USA</td>\n",
       "      <td>/funding-round/22dacff496eb7acb2b901dec1dfe5633</td>\n",
       "      <td>venture</td>\n",
       "      <td>14-10-2014</td>\n",
       "      <td>NaN</td>\n",
       "      <td>Application Platforms</td>\n",
       "      <td>News, Search and Messaging</td>\n",
       "    </tr>\n",
       "    <tr>\n",
       "      <th>2</th>\n",
       "      <td>/organization/-qounter</td>\n",
       "      <td>:Qounter</td>\n",
       "      <td>http://www.qounter.com</td>\n",
       "      <td>operating</td>\n",
       "      <td>USA</td>\n",
       "      <td>/funding-round/b44fbb94153f6cdef13083530bb48030</td>\n",
       "      <td>seed</td>\n",
       "      <td>01-03-2014</td>\n",
       "      <td>0.700000</td>\n",
       "      <td>Application Platforms</td>\n",
       "      <td>News, Search and Messaging</td>\n",
       "    </tr>\n",
       "    <tr>\n",
       "      <th>3</th>\n",
       "      <td>/organization/-the-one-of-them-inc-</td>\n",
       "      <td>(THE) ONE of THEM,Inc.</td>\n",
       "      <td>http://oneofthem.jp</td>\n",
       "      <td>operating</td>\n",
       "      <td>NaN</td>\n",
       "      <td>/funding-round/650b8f704416801069bb178a1418776b</td>\n",
       "      <td>venture</td>\n",
       "      <td>30-01-2014</td>\n",
       "      <td>3.406878</td>\n",
       "      <td>Apps</td>\n",
       "      <td>News, Search and Messaging</td>\n",
       "    </tr>\n",
       "    <tr>\n",
       "      <th>4</th>\n",
       "      <td>/organization/0-6-com</td>\n",
       "      <td>0-6.com</td>\n",
       "      <td>http://www.0-6.com</td>\n",
       "      <td>operating</td>\n",
       "      <td>CHN</td>\n",
       "      <td>/funding-round/5727accaeaa57461bd22a9bdd945382d</td>\n",
       "      <td>venture</td>\n",
       "      <td>19-03-2008</td>\n",
       "      <td>2.000000</td>\n",
       "      <td>Curated Web</td>\n",
       "      <td>News, Search and Messaging</td>\n",
       "    </tr>\n",
       "    <tr>\n",
       "      <th>...</th>\n",
       "      <td>...</td>\n",
       "      <td>...</td>\n",
       "      <td>...</td>\n",
       "      <td>...</td>\n",
       "      <td>...</td>\n",
       "      <td>...</td>\n",
       "      <td>...</td>\n",
       "      <td>...</td>\n",
       "      <td>...</td>\n",
       "      <td>...</td>\n",
       "      <td>...</td>\n",
       "    </tr>\n",
       "    <tr>\n",
       "      <th>114903</th>\n",
       "      <td>/organization/zznode-science-and-technology-co...</td>\n",
       "      <td>ZZNode Science and Technology</td>\n",
       "      <td>http://www.zznode.com</td>\n",
       "      <td>operating</td>\n",
       "      <td>CHN</td>\n",
       "      <td>/funding-round/171693e1e07e0230defd8fddb6de4515</td>\n",
       "      <td>venture</td>\n",
       "      <td>01-04-2012</td>\n",
       "      <td>1.587301</td>\n",
       "      <td>Enterprise Software</td>\n",
       "      <td>Others</td>\n",
       "    </tr>\n",
       "    <tr>\n",
       "      <th>114904</th>\n",
       "      <td>/organization/zzzzapp-com</td>\n",
       "      <td>Zzzzapp Wireless ltd.</td>\n",
       "      <td>http://www.zzzzapp.com</td>\n",
       "      <td>operating</td>\n",
       "      <td>HRV</td>\n",
       "      <td>/funding-round/22ef2fafb4d20ac3aa4b86143dbf6c8e</td>\n",
       "      <td>seed</td>\n",
       "      <td>01-11-2011</td>\n",
       "      <td>0.007000</td>\n",
       "      <td>Advertising</td>\n",
       "      <td>Social, Finance, Analytics, Advertising</td>\n",
       "    </tr>\n",
       "    <tr>\n",
       "      <th>114905</th>\n",
       "      <td>/organization/zzzzapp-com</td>\n",
       "      <td>Zzzzapp Wireless ltd.</td>\n",
       "      <td>http://www.zzzzapp.com</td>\n",
       "      <td>operating</td>\n",
       "      <td>HRV</td>\n",
       "      <td>/funding-round/6ba41360588bc6e3f77e9b50a0ebfafa</td>\n",
       "      <td>seed</td>\n",
       "      <td>01-08-2013</td>\n",
       "      <td>0.033149</td>\n",
       "      <td>Advertising</td>\n",
       "      <td>Social, Finance, Analytics, Advertising</td>\n",
       "    </tr>\n",
       "    <tr>\n",
       "      <th>114907</th>\n",
       "      <td>/organization/zzzzapp-com</td>\n",
       "      <td>Zzzzapp Wireless ltd.</td>\n",
       "      <td>http://www.zzzzapp.com</td>\n",
       "      <td>operating</td>\n",
       "      <td>HRV</td>\n",
       "      <td>/funding-round/ff1aa06ed5da186c84f101549035d4ae</td>\n",
       "      <td>seed</td>\n",
       "      <td>01-05-2013</td>\n",
       "      <td>0.032842</td>\n",
       "      <td>Advertising</td>\n",
       "      <td>Social, Finance, Analytics, Advertising</td>\n",
       "    </tr>\n",
       "    <tr>\n",
       "      <th>114908</th>\n",
       "      <td>/organization/├öasys-2</td>\n",
       "      <td>├öasys</td>\n",
       "      <td>http://www.oasys.io/</td>\n",
       "      <td>operating</td>\n",
       "      <td>USA</td>\n",
       "      <td>/funding-round/35f09d0794651719b02bbfd859ba9ff5</td>\n",
       "      <td>seed</td>\n",
       "      <td>01-01-2015</td>\n",
       "      <td>0.018192</td>\n",
       "      <td>Consumer Electronics</td>\n",
       "      <td>Manufacturing</td>\n",
       "    </tr>\n",
       "  </tbody>\n",
       "</table>\n",
       "<p>88087 rows × 11 columns</p>\n",
       "</div>"
      ],
      "text/plain": [
       "                                                permalink  ...                              main_sector\n",
       "0                                     /organization/-fame  ...                            Entertainment\n",
       "1                                  /organization/-qounter  ...               News, Search and Messaging\n",
       "2                                  /organization/-qounter  ...               News, Search and Messaging\n",
       "3                     /organization/-the-one-of-them-inc-  ...               News, Search and Messaging\n",
       "4                                   /organization/0-6-com  ...               News, Search and Messaging\n",
       "...                                                   ...  ...                                      ...\n",
       "114903  /organization/zznode-science-and-technology-co...  ...                                   Others\n",
       "114904                          /organization/zzzzapp-com  ...  Social, Finance, Analytics, Advertising\n",
       "114905                          /organization/zzzzapp-com  ...  Social, Finance, Analytics, Advertising\n",
       "114907                          /organization/zzzzapp-com  ...  Social, Finance, Analytics, Advertising\n",
       "114908                             /organization/├öasys-2  ...                            Manufacturing\n",
       "\n",
       "[88087 rows x 11 columns]"
      ]
     },
     "execution_count": 76,
     "metadata": {
      "tags": []
     },
     "output_type": "execute_result"
    }
   ],
   "source": [
    "master_frame"
   ]
  },
  {
   "cell_type": "markdown",
   "metadata": {
    "id": "9Fdjt5uY0gPm"
   },
   "source": [
    "**Let's create First DataFrame**"
   ]
  },
  {
   "cell_type": "code",
   "execution_count": 77,
   "metadata": {
    "colab": {
     "base_uri": "https://localhost:8080/",
     "height": 413
    },
    "id": "yhhWIsK70gPm",
    "outputId": "4f4fa8c9-c15c-4ad4-9824-9a311625cb61"
   },
   "outputs": [
    {
     "data": {
      "text/html": [
       "<div>\n",
       "<style scoped>\n",
       "    .dataframe tbody tr th:only-of-type {\n",
       "        vertical-align: middle;\n",
       "    }\n",
       "\n",
       "    .dataframe tbody tr th {\n",
       "        vertical-align: top;\n",
       "    }\n",
       "\n",
       "    .dataframe thead th {\n",
       "        text-align: right;\n",
       "    }\n",
       "</style>\n",
       "<table border=\"1\" class=\"dataframe\">\n",
       "  <thead>\n",
       "    <tr style=\"text-align: right;\">\n",
       "      <th></th>\n",
       "      <th>permalink</th>\n",
       "      <th>name</th>\n",
       "      <th>homepage_url</th>\n",
       "      <th>status</th>\n",
       "      <th>country_code</th>\n",
       "      <th>funding_round_permalink</th>\n",
       "      <th>funding_round_type</th>\n",
       "      <th>funded_at</th>\n",
       "      <th>raised_amount_usd</th>\n",
       "      <th>primary_sector</th>\n",
       "      <th>main_sector</th>\n",
       "      <th>(raised_amount_usd, Total_amount)</th>\n",
       "      <th>(raised_amount_usd, Total_count)</th>\n",
       "    </tr>\n",
       "  </thead>\n",
       "  <tbody>\n",
       "    <tr>\n",
       "      <th>0</th>\n",
       "      <td>/organization/0xdata</td>\n",
       "      <td>H2O.ai</td>\n",
       "      <td>http://h2o.ai/</td>\n",
       "      <td>operating</td>\n",
       "      <td>USA</td>\n",
       "      <td>/funding-round/e1cfcbe1bdf4c70277c5f29a3482f24e</td>\n",
       "      <td>venture</td>\n",
       "      <td>19-07-2014</td>\n",
       "      <td>8.900000</td>\n",
       "      <td>Analytics</td>\n",
       "      <td>Social, Finance, Analytics, Advertising</td>\n",
       "      <td>24116.367082</td>\n",
       "      <td>2762</td>\n",
       "    </tr>\n",
       "    <tr>\n",
       "      <th>1</th>\n",
       "      <td>/organization/1-800-publicrelations-inc-</td>\n",
       "      <td>1-800-PublicRelations, Inc.</td>\n",
       "      <td>http://www.1800publicrelations.com</td>\n",
       "      <td>operating</td>\n",
       "      <td>USA</td>\n",
       "      <td>/funding-round/11c228f58831bc7ed337ef69ecc560c2</td>\n",
       "      <td>private_equity</td>\n",
       "      <td>01-02-2015</td>\n",
       "      <td>6.000000</td>\n",
       "      <td>Internet Marketing</td>\n",
       "      <td>Social, Finance, Analytics, Advertising</td>\n",
       "      <td>24116.367082</td>\n",
       "      <td>2762</td>\n",
       "    </tr>\n",
       "    <tr>\n",
       "      <th>2</th>\n",
       "      <td>/organization/1-mainstream</td>\n",
       "      <td>1 Mainstream</td>\n",
       "      <td>http://www.1mainstream.com</td>\n",
       "      <td>acquired</td>\n",
       "      <td>USA</td>\n",
       "      <td>/funding-round/b952cbaf401f310927430c97b68162ea</td>\n",
       "      <td>venture</td>\n",
       "      <td>17-03-2015</td>\n",
       "      <td>5.000000</td>\n",
       "      <td>Apps</td>\n",
       "      <td>News, Search and Messaging</td>\n",
       "      <td>13895.922329</td>\n",
       "      <td>1586</td>\n",
       "    </tr>\n",
       "    <tr>\n",
       "      <th>3</th>\n",
       "      <td>/organization/128-technology</td>\n",
       "      <td>128 Technology</td>\n",
       "      <td>http://www.128technology.com/</td>\n",
       "      <td>operating</td>\n",
       "      <td>USA</td>\n",
       "      <td>/funding-round/fb6216a30cb566ede89e0bee0623a634</td>\n",
       "      <td>venture</td>\n",
       "      <td>16-12-2014</td>\n",
       "      <td>11.999347</td>\n",
       "      <td>Service Providers</td>\n",
       "      <td>Others</td>\n",
       "      <td>25182.638405</td>\n",
       "      <td>2833</td>\n",
       "    </tr>\n",
       "    <tr>\n",
       "      <th>4</th>\n",
       "      <td>/organization/1366-technologies</td>\n",
       "      <td>1366 Technologies</td>\n",
       "      <td>http://www.1366tech.com</td>\n",
       "      <td>operating</td>\n",
       "      <td>USA</td>\n",
       "      <td>/funding-round/424129ce1235cfab2655ee81305f7c2b</td>\n",
       "      <td>venture</td>\n",
       "      <td>15-10-2013</td>\n",
       "      <td>15.000000</td>\n",
       "      <td>Manufacturing</td>\n",
       "      <td>Manufacturing</td>\n",
       "      <td>7015.358239</td>\n",
       "      <td>776</td>\n",
       "    </tr>\n",
       "  </tbody>\n",
       "</table>\n",
       "</div>"
      ],
      "text/plain": [
       "                                  permalink  ... (raised_amount_usd, Total_count)\n",
       "0                      /organization/0xdata  ...                             2762\n",
       "1  /organization/1-800-publicrelations-inc-  ...                             2762\n",
       "2                /organization/1-mainstream  ...                             1586\n",
       "3              /organization/128-technology  ...                             2833\n",
       "4           /organization/1366-technologies  ...                              776\n",
       "\n",
       "[5 rows x 13 columns]"
      ]
     },
     "execution_count": 77,
     "metadata": {
      "tags": []
     },
     "output_type": "execute_result"
    }
   ],
   "source": [
    "D1 = master_frame[(master_frame['country_code'] == 'USA') & \n",
    "             (master_frame['raised_amount_usd'] >= 5) & \n",
    "             (master_frame['raised_amount_usd'] <= 15)]\n",
    "D1_gr = D1[['raised_amount_usd','main_sector']].groupby('main_sector').agg(['sum', 'count']).rename(\n",
    "    columns={'sum':'Total_amount','count' : 'Total_count'})\n",
    "D1 = D1.merge(D1_gr, how='left', on ='main_sector')\n",
    "D1.head()"
   ]
  },
  {
   "cell_type": "markdown",
   "metadata": {
    "id": "bNXLTIE_0gPm"
   },
   "source": [
    "**Let's create a Second Frame**"
   ]
  },
  {
   "cell_type": "code",
   "execution_count": 78,
   "metadata": {
    "colab": {
     "base_uri": "https://localhost:8080/",
     "height": 378
    },
    "id": "6khdKXpl0gPm",
    "outputId": "2441a9ff-322c-4b65-f980-af0877a13578"
   },
   "outputs": [
    {
     "data": {
      "text/html": [
       "<div>\n",
       "<style scoped>\n",
       "    .dataframe tbody tr th:only-of-type {\n",
       "        vertical-align: middle;\n",
       "    }\n",
       "\n",
       "    .dataframe tbody tr th {\n",
       "        vertical-align: top;\n",
       "    }\n",
       "\n",
       "    .dataframe thead th {\n",
       "        text-align: right;\n",
       "    }\n",
       "</style>\n",
       "<table border=\"1\" class=\"dataframe\">\n",
       "  <thead>\n",
       "    <tr style=\"text-align: right;\">\n",
       "      <th></th>\n",
       "      <th>permalink</th>\n",
       "      <th>name</th>\n",
       "      <th>homepage_url</th>\n",
       "      <th>status</th>\n",
       "      <th>country_code</th>\n",
       "      <th>funding_round_permalink</th>\n",
       "      <th>funding_round_type</th>\n",
       "      <th>funded_at</th>\n",
       "      <th>raised_amount_usd</th>\n",
       "      <th>primary_sector</th>\n",
       "      <th>main_sector</th>\n",
       "      <th>(raised_amount_usd, Total_amount)</th>\n",
       "      <th>(raised_amount_usd, Total_count)</th>\n",
       "    </tr>\n",
       "  </thead>\n",
       "  <tbody>\n",
       "    <tr>\n",
       "      <th>0</th>\n",
       "      <td>/organization/365scores</td>\n",
       "      <td>365Scores</td>\n",
       "      <td>http://biz.365scores.com</td>\n",
       "      <td>operating</td>\n",
       "      <td>GBR</td>\n",
       "      <td>/funding-round/48212f931f542fdef78810bc87aef086</td>\n",
       "      <td>venture</td>\n",
       "      <td>29-09-2014</td>\n",
       "      <td>5.500000</td>\n",
       "      <td>Android</td>\n",
       "      <td>Social, Finance, Analytics, Advertising</td>\n",
       "      <td>1146.855728</td>\n",
       "      <td>140</td>\n",
       "    </tr>\n",
       "    <tr>\n",
       "      <th>1</th>\n",
       "      <td>/organization/5app</td>\n",
       "      <td>5app</td>\n",
       "      <td>http://5app.com/</td>\n",
       "      <td>operating</td>\n",
       "      <td>GBR</td>\n",
       "      <td>/funding-round/6ff332e6b15150ba2365e743b408199e</td>\n",
       "      <td>seed</td>\n",
       "      <td>12-06-2014</td>\n",
       "      <td>5.100000</td>\n",
       "      <td>Mobile</td>\n",
       "      <td>News, Search and Messaging</td>\n",
       "      <td>653.788167</td>\n",
       "      <td>80</td>\n",
       "    </tr>\n",
       "    <tr>\n",
       "      <th>2</th>\n",
       "      <td>/organization/7digital</td>\n",
       "      <td>7digital</td>\n",
       "      <td>http://about.7digital.com</td>\n",
       "      <td>acquired</td>\n",
       "      <td>GBR</td>\n",
       "      <td>/funding-round/b5ad7ed7baddd3974bd51403f17dd88f</td>\n",
       "      <td>venture</td>\n",
       "      <td>01-01-2008</td>\n",
       "      <td>8.468328</td>\n",
       "      <td>Content Creators</td>\n",
       "      <td>Entertainment</td>\n",
       "      <td>478.360944</td>\n",
       "      <td>55</td>\n",
       "    </tr>\n",
       "    <tr>\n",
       "      <th>3</th>\n",
       "      <td>/organization/7digital</td>\n",
       "      <td>7digital</td>\n",
       "      <td>http://about.7digital.com</td>\n",
       "      <td>acquired</td>\n",
       "      <td>GBR</td>\n",
       "      <td>/funding-round/eafacfcceb1fbc4fd605f641b603313e</td>\n",
       "      <td>venture</td>\n",
       "      <td>19-10-2012</td>\n",
       "      <td>10.000000</td>\n",
       "      <td>Content Creators</td>\n",
       "      <td>Entertainment</td>\n",
       "      <td>478.360944</td>\n",
       "      <td>55</td>\n",
       "    </tr>\n",
       "    <tr>\n",
       "      <th>4</th>\n",
       "      <td>/organization/90min</td>\n",
       "      <td>90min</td>\n",
       "      <td>http://www.90min.com</td>\n",
       "      <td>operating</td>\n",
       "      <td>GBR</td>\n",
       "      <td>/funding-round/21a2cbf6f2fb2a1c2a61e04bf930dfe6</td>\n",
       "      <td>venture</td>\n",
       "      <td>06-10-2015</td>\n",
       "      <td>15.000000</td>\n",
       "      <td>Media</td>\n",
       "      <td>Entertainment</td>\n",
       "      <td>478.360944</td>\n",
       "      <td>55</td>\n",
       "    </tr>\n",
       "  </tbody>\n",
       "</table>\n",
       "</div>"
      ],
      "text/plain": [
       "                 permalink  ... (raised_amount_usd, Total_count)\n",
       "0  /organization/365scores  ...                              140\n",
       "1       /organization/5app  ...                               80\n",
       "2   /organization/7digital  ...                               55\n",
       "3   /organization/7digital  ...                               55\n",
       "4      /organization/90min  ...                               55\n",
       "\n",
       "[5 rows x 13 columns]"
      ]
     },
     "execution_count": 78,
     "metadata": {
      "tags": []
     },
     "output_type": "execute_result"
    }
   ],
   "source": [
    "D2 = master_frame[(master_frame['country_code'] == 'GBR') & \n",
    "             (master_frame['raised_amount_usd'] >= 5) & \n",
    "             (master_frame['raised_amount_usd'] <= 15)]\n",
    "D2_gr = D2[['raised_amount_usd','main_sector']].groupby('main_sector').agg(['sum', 'count']).rename(\n",
    "    columns={'sum':'Total_amount','count' : 'Total_count'})\n",
    "D2 = D2.merge(D2_gr, how='left', on ='main_sector')\n",
    "D2.head()\n"
   ]
  },
  {
   "cell_type": "markdown",
   "metadata": {
    "id": "aUCYJKhk0gPn"
   },
   "source": [
    "**Let's Create a third Dataframe**"
   ]
  },
  {
   "cell_type": "code",
   "execution_count": 79,
   "metadata": {
    "colab": {
     "base_uri": "https://localhost:8080/",
     "height": 396
    },
    "id": "Exj72bs_0gPn",
    "outputId": "31576193-d0af-48c0-f383-d98b9c8dde16"
   },
   "outputs": [
    {
     "data": {
      "text/html": [
       "<div>\n",
       "<style scoped>\n",
       "    .dataframe tbody tr th:only-of-type {\n",
       "        vertical-align: middle;\n",
       "    }\n",
       "\n",
       "    .dataframe tbody tr th {\n",
       "        vertical-align: top;\n",
       "    }\n",
       "\n",
       "    .dataframe thead th {\n",
       "        text-align: right;\n",
       "    }\n",
       "</style>\n",
       "<table border=\"1\" class=\"dataframe\">\n",
       "  <thead>\n",
       "    <tr style=\"text-align: right;\">\n",
       "      <th></th>\n",
       "      <th>permalink</th>\n",
       "      <th>name</th>\n",
       "      <th>homepage_url</th>\n",
       "      <th>status</th>\n",
       "      <th>country_code</th>\n",
       "      <th>funding_round_permalink</th>\n",
       "      <th>funding_round_type</th>\n",
       "      <th>funded_at</th>\n",
       "      <th>raised_amount_usd</th>\n",
       "      <th>primary_sector</th>\n",
       "      <th>main_sector</th>\n",
       "      <th>(raised_amount_usd, Total_amount)</th>\n",
       "      <th>(raised_amount_usd, Total_count)</th>\n",
       "    </tr>\n",
       "  </thead>\n",
       "  <tbody>\n",
       "    <tr>\n",
       "      <th>0</th>\n",
       "      <td>/organization/-fame</td>\n",
       "      <td>#fame</td>\n",
       "      <td>http://livfame.com</td>\n",
       "      <td>operating</td>\n",
       "      <td>IND</td>\n",
       "      <td>/funding-round/9a01d05418af9f794eebff7ace91f638</td>\n",
       "      <td>venture</td>\n",
       "      <td>05-01-2015</td>\n",
       "      <td>10.000000</td>\n",
       "      <td>Media</td>\n",
       "      <td>Entertainment</td>\n",
       "      <td>293.830000</td>\n",
       "      <td>34</td>\n",
       "    </tr>\n",
       "    <tr>\n",
       "      <th>1</th>\n",
       "      <td>/organization/21diamonds-india</td>\n",
       "      <td>21Diamonds</td>\n",
       "      <td>http://www.21diamonds.de</td>\n",
       "      <td>operating</td>\n",
       "      <td>IND</td>\n",
       "      <td>/funding-round/6de7ffef8091ba9f33821f4b861f434a</td>\n",
       "      <td>venture</td>\n",
       "      <td>15-11-2012</td>\n",
       "      <td>6.369507</td>\n",
       "      <td>E-Commerce</td>\n",
       "      <td>Others</td>\n",
       "      <td>1045.909507</td>\n",
       "      <td>114</td>\n",
       "    </tr>\n",
       "    <tr>\n",
       "      <th>2</th>\n",
       "      <td>/organization/a-little-world</td>\n",
       "      <td>A LITTLE WORLD</td>\n",
       "      <td>http://alittleworld.com</td>\n",
       "      <td>operating</td>\n",
       "      <td>IND</td>\n",
       "      <td>/funding-round/18d98f82ed392b1609975b81f3e8b3fb</td>\n",
       "      <td>venture</td>\n",
       "      <td>09-09-2008</td>\n",
       "      <td>6.410000</td>\n",
       "      <td>Finance</td>\n",
       "      <td>Social, Finance, Analytics, Advertising</td>\n",
       "      <td>558.449550</td>\n",
       "      <td>63</td>\n",
       "    </tr>\n",
       "    <tr>\n",
       "      <th>3</th>\n",
       "      <td>/organization/adlabs-imagica</td>\n",
       "      <td>Adlabs Imagica</td>\n",
       "      <td>http://www.adlabsimagica.com</td>\n",
       "      <td>operating</td>\n",
       "      <td>IND</td>\n",
       "      <td>/funding-round/508d3c83daaae9fda3ba6f9682c78f6c</td>\n",
       "      <td>venture</td>\n",
       "      <td>28-10-2014</td>\n",
       "      <td>8.180000</td>\n",
       "      <td>Entertainment</td>\n",
       "      <td>Entertainment</td>\n",
       "      <td>293.830000</td>\n",
       "      <td>34</td>\n",
       "    </tr>\n",
       "    <tr>\n",
       "      <th>4</th>\n",
       "      <td>/organization/agile</td>\n",
       "      <td>Agile</td>\n",
       "      <td>http://www.agile-ft.com</td>\n",
       "      <td>operating</td>\n",
       "      <td>IND</td>\n",
       "      <td>/funding-round/cd3dd1c98ce9d0f632d8752163941674</td>\n",
       "      <td>venture</td>\n",
       "      <td>01-05-2011</td>\n",
       "      <td>5.740000</td>\n",
       "      <td>Finance</td>\n",
       "      <td>Social, Finance, Analytics, Advertising</td>\n",
       "      <td>558.449550</td>\n",
       "      <td>63</td>\n",
       "    </tr>\n",
       "  </tbody>\n",
       "</table>\n",
       "</div>"
      ],
      "text/plain": [
       "                        permalink  ... (raised_amount_usd, Total_count)\n",
       "0             /organization/-fame  ...                               34\n",
       "1  /organization/21diamonds-india  ...                              114\n",
       "2    /organization/a-little-world  ...                               63\n",
       "3    /organization/adlabs-imagica  ...                               34\n",
       "4             /organization/agile  ...                               63\n",
       "\n",
       "[5 rows x 13 columns]"
      ]
     },
     "execution_count": 79,
     "metadata": {
      "tags": []
     },
     "output_type": "execute_result"
    }
   ],
   "source": [
    "D3 = master_frame[(master_frame['country_code'] == 'IND') & \n",
    "             (master_frame['raised_amount_usd'] >= 5) & \n",
    "             (master_frame['raised_amount_usd'] <= 15)]\n",
    "D3_gr = D3[['raised_amount_usd','main_sector']].groupby('main_sector').agg(['sum', 'count']).rename(\n",
    "    columns={'sum':'Total_amount','count' : 'Total_count'})\n",
    "D3 = D3.merge(D3_gr, how='left', on ='main_sector')\n",
    "D3.head()\n"
   ]
  },
  {
   "cell_type": "markdown",
   "metadata": {
    "id": "W_XMhxcO0gPn"
   },
   "source": [
    "**Question-1**"
   ]
  },
  {
   "cell_type": "markdown",
   "metadata": {
    "id": "lX4W1oR70gPn"
   },
   "source": [
    "Total number of Investments (count)"
   ]
  },
  {
   "cell_type": "code",
   "execution_count": 80,
   "metadata": {
    "colab": {
     "base_uri": "https://localhost:8080/"
    },
    "id": "PiogiMNV0gPn",
    "outputId": "af82d447-31e9-4e9e-bdf1-20a8083c427a"
   },
   "outputs": [
    {
     "name": "stdout",
     "output_type": "stream",
     "text": [
      "11898\n",
      "625\n",
      "336\n"
     ]
    }
   ],
   "source": [
    "#Total number of investments (count)\n",
    "print(D1.raised_amount_usd.count())\n",
    "print(D2.raised_amount_usd.count())\n",
    "print(D3.raised_amount_usd.count())\n"
   ]
  },
  {
   "cell_type": "markdown",
   "metadata": {
    "id": "NotOAtoW0gPo"
   },
   "source": [
    "**Answer**"
   ]
  },
  {
   "cell_type": "markdown",
   "metadata": {
    "id": "QIFkRQ9_0gPo"
   },
   "source": [
    "**D1**-11898\n",
    "\n",
    "**D2**-625\n",
    "\n",
    "**D3**-336"
   ]
  },
  {
   "cell_type": "markdown",
   "metadata": {
    "id": "4fhPrjqI0gPo"
   },
   "source": [
    "**Question-2**"
   ]
  },
  {
   "cell_type": "markdown",
   "metadata": {
    "id": "kWjspq2G0gPo"
   },
   "source": [
    "Total amount of investment (USD)"
   ]
  },
  {
   "cell_type": "code",
   "execution_count": 81,
   "metadata": {
    "colab": {
     "base_uri": "https://localhost:8080/"
    },
    "id": "B-mTU_Wf0gPo",
    "outputId": "363e3112-fce1-4853-e81a-22a8d3e0dc56"
   },
   "outputs": [
    {
     "name": "stdout",
     "output_type": "stream",
     "text": [
      "105926.99\n",
      "5391.43\n",
      "3000.94\n"
     ]
    }
   ],
   "source": [
    "#Total amount of investment (USD)\n",
    "print(round(D1.raised_amount_usd.sum(), 2))\n",
    "print(round(D2.raised_amount_usd.sum(), 2))\n",
    "print(round(D3.raised_amount_usd.sum(), 2))\n"
   ]
  },
  {
   "cell_type": "markdown",
   "metadata": {
    "id": "HdeuCsgL0gPp"
   },
   "source": [
    "**Answer**"
   ]
  },
  {
   "cell_type": "markdown",
   "metadata": {
    "id": "x43ciBfb0gPp"
   },
   "source": [
    "**D1**-105926.99\n",
    "\n",
    "**D2**-5391.43\n",
    "\n",
    "**D3**-3000.94"
   ]
  },
  {
   "cell_type": "markdown",
   "metadata": {
    "id": "uqn2fCVI0gPp"
   },
   "source": [
    "**Question-3** to **Question-8**\n",
    "\n",
    "**D1 Sector-vise Analysis**"
   ]
  },
  {
   "cell_type": "code",
   "execution_count": 82,
   "metadata": {
    "colab": {
     "base_uri": "https://localhost:8080/",
     "height": 356
    },
    "id": "nZ7hFFsM0gPp",
    "outputId": "7e2030c8-2d5b-4f49-f9ee-3dda62accb1c"
   },
   "outputs": [
    {
     "data": {
      "text/html": [
       "<div>\n",
       "<style scoped>\n",
       "    .dataframe tbody tr th:only-of-type {\n",
       "        vertical-align: middle;\n",
       "    }\n",
       "\n",
       "    .dataframe tbody tr th {\n",
       "        vertical-align: top;\n",
       "    }\n",
       "\n",
       "    .dataframe thead tr th {\n",
       "        text-align: left;\n",
       "    }\n",
       "\n",
       "    .dataframe thead tr:last-of-type th {\n",
       "        text-align: right;\n",
       "    }\n",
       "</style>\n",
       "<table border=\"1\" class=\"dataframe\">\n",
       "  <thead>\n",
       "    <tr>\n",
       "      <th></th>\n",
       "      <th colspan=\"2\" halign=\"left\">raised_amount_usd</th>\n",
       "    </tr>\n",
       "    <tr>\n",
       "      <th></th>\n",
       "      <th>Total_amount</th>\n",
       "      <th>Total_count</th>\n",
       "    </tr>\n",
       "    <tr>\n",
       "      <th>main_sector</th>\n",
       "      <th></th>\n",
       "      <th></th>\n",
       "    </tr>\n",
       "  </thead>\n",
       "  <tbody>\n",
       "    <tr>\n",
       "      <th>Automotive &amp; Sports</th>\n",
       "      <td>1443.429634</td>\n",
       "      <td>166</td>\n",
       "    </tr>\n",
       "    <tr>\n",
       "      <th>Cleantech / Semiconductors</th>\n",
       "      <td>21034.331967</td>\n",
       "      <td>2277</td>\n",
       "    </tr>\n",
       "    <tr>\n",
       "      <th>Entertainment</th>\n",
       "      <td>5079.150292</td>\n",
       "      <td>592</td>\n",
       "    </tr>\n",
       "    <tr>\n",
       "      <th>Health</th>\n",
       "      <td>8159.793562</td>\n",
       "      <td>906</td>\n",
       "    </tr>\n",
       "    <tr>\n",
       "      <th>Manufacturing</th>\n",
       "      <td>7015.358239</td>\n",
       "      <td>776</td>\n",
       "    </tr>\n",
       "    <tr>\n",
       "      <th>News, Search and Messaging</th>\n",
       "      <td>13895.922329</td>\n",
       "      <td>1586</td>\n",
       "    </tr>\n",
       "    <tr>\n",
       "      <th>Others</th>\n",
       "      <td>25182.638405</td>\n",
       "      <td>2833</td>\n",
       "    </tr>\n",
       "    <tr>\n",
       "      <th>Social, Finance, Analytics, Advertising</th>\n",
       "      <td>24116.367082</td>\n",
       "      <td>2762</td>\n",
       "    </tr>\n",
       "  </tbody>\n",
       "</table>\n",
       "</div>"
      ],
      "text/plain": [
       "                                        raised_amount_usd            \n",
       "                                             Total_amount Total_count\n",
       "main_sector                                                          \n",
       "Automotive & Sports                           1443.429634         166\n",
       "Cleantech / Semiconductors                   21034.331967        2277\n",
       "Entertainment                                 5079.150292         592\n",
       "Health                                        8159.793562         906\n",
       "Manufacturing                                 7015.358239         776\n",
       "News, Search and Messaging                   13895.922329        1586\n",
       "Others                                       25182.638405        2833\n",
       "Social, Finance, Analytics, Advertising      24116.367082        2762"
      ]
     },
     "execution_count": 82,
     "metadata": {
      "tags": []
     },
     "output_type": "execute_result"
    }
   ],
   "source": [
    "D1_gr\n"
   ]
  },
  {
   "cell_type": "markdown",
   "metadata": {
    "id": "N-QmBjFp0gPp"
   },
   "source": [
    "**Answer**\n",
    "\n",
    "**USA**\n",
    "\n",
    "**Top Sector**-Others-**2833**\n",
    "\n",
    "**Second Sector**-Social, Finance, Analytics, Advertising-**2762**\n",
    "\n",
    "**Third Sector**-Cleantech / Semiconductors-**2277**"
   ]
  },
  {
   "cell_type": "markdown",
   "metadata": {
    "id": "3m4lHM0B0gPq"
   },
   "source": [
    "**D2 Sector-vise analysis**"
   ]
  },
  {
   "cell_type": "code",
   "execution_count": 83,
   "metadata": {
    "colab": {
     "base_uri": "https://localhost:8080/",
     "height": 356
    },
    "id": "ClWcKIkd0gPq",
    "outputId": "42cb167c-8543-412d-c6e1-061e8ed6bd22"
   },
   "outputs": [
    {
     "data": {
      "text/html": [
       "<div>\n",
       "<style scoped>\n",
       "    .dataframe tbody tr th:only-of-type {\n",
       "        vertical-align: middle;\n",
       "    }\n",
       "\n",
       "    .dataframe tbody tr th {\n",
       "        vertical-align: top;\n",
       "    }\n",
       "\n",
       "    .dataframe thead tr th {\n",
       "        text-align: left;\n",
       "    }\n",
       "\n",
       "    .dataframe thead tr:last-of-type th {\n",
       "        text-align: right;\n",
       "    }\n",
       "</style>\n",
       "<table border=\"1\" class=\"dataframe\">\n",
       "  <thead>\n",
       "    <tr>\n",
       "      <th></th>\n",
       "      <th colspan=\"2\" halign=\"left\">raised_amount_usd</th>\n",
       "    </tr>\n",
       "    <tr>\n",
       "      <th></th>\n",
       "      <th>Total_amount</th>\n",
       "      <th>Total_count</th>\n",
       "    </tr>\n",
       "    <tr>\n",
       "      <th>main_sector</th>\n",
       "      <th></th>\n",
       "      <th></th>\n",
       "    </tr>\n",
       "  </thead>\n",
       "  <tbody>\n",
       "    <tr>\n",
       "      <th>Automotive &amp; Sports</th>\n",
       "      <td>173.112570</td>\n",
       "      <td>17</td>\n",
       "    </tr>\n",
       "    <tr>\n",
       "      <th>Cleantech / Semiconductors</th>\n",
       "      <td>1126.787153</td>\n",
       "      <td>126</td>\n",
       "    </tr>\n",
       "    <tr>\n",
       "      <th>Entertainment</th>\n",
       "      <td>478.360944</td>\n",
       "      <td>55</td>\n",
       "    </tr>\n",
       "    <tr>\n",
       "      <th>Health</th>\n",
       "      <td>231.537510</td>\n",
       "      <td>26</td>\n",
       "    </tr>\n",
       "    <tr>\n",
       "      <th>Manufacturing</th>\n",
       "      <td>366.123846</td>\n",
       "      <td>41</td>\n",
       "    </tr>\n",
       "    <tr>\n",
       "      <th>News, Search and Messaging</th>\n",
       "      <td>653.788167</td>\n",
       "      <td>80</td>\n",
       "    </tr>\n",
       "    <tr>\n",
       "      <th>Others</th>\n",
       "      <td>1214.861340</td>\n",
       "      <td>140</td>\n",
       "    </tr>\n",
       "    <tr>\n",
       "      <th>Social, Finance, Analytics, Advertising</th>\n",
       "      <td>1146.855728</td>\n",
       "      <td>140</td>\n",
       "    </tr>\n",
       "  </tbody>\n",
       "</table>\n",
       "</div>"
      ],
      "text/plain": [
       "                                        raised_amount_usd            \n",
       "                                             Total_amount Total_count\n",
       "main_sector                                                          \n",
       "Automotive & Sports                            173.112570          17\n",
       "Cleantech / Semiconductors                    1126.787153         126\n",
       "Entertainment                                  478.360944          55\n",
       "Health                                         231.537510          26\n",
       "Manufacturing                                  366.123846          41\n",
       "News, Search and Messaging                     653.788167          80\n",
       "Others                                        1214.861340         140\n",
       "Social, Finance, Analytics, Advertising       1146.855728         140"
      ]
     },
     "execution_count": 83,
     "metadata": {
      "tags": []
     },
     "output_type": "execute_result"
    }
   ],
   "source": [
    "D2_gr"
   ]
  },
  {
   "cell_type": "markdown",
   "metadata": {
    "id": "KeSou8ja0gPq"
   },
   "source": [
    "**Answer**\n",
    "\n",
    "**GBR**\n",
    "\n",
    "**Top sector** -Others-**140**\n",
    "\n",
    "**Second Sector**-Social, Finance, Analytics, Advertising-**140**\n",
    "\n",
    "**Third Sector**-Cleantech / Semiconductors-**126**"
   ]
  },
  {
   "cell_type": "markdown",
   "metadata": {
    "id": "o-F69fko0gPq"
   },
   "source": [
    "**D3- Sector-vise analysis**"
   ]
  },
  {
   "cell_type": "code",
   "execution_count": 84,
   "metadata": {
    "colab": {
     "base_uri": "https://localhost:8080/",
     "height": 356
    },
    "id": "-BSG7J5u0gPq",
    "outputId": "d0337d05-8db1-4975-80b4-4bdfb87102c8"
   },
   "outputs": [
    {
     "data": {
      "text/html": [
       "<div>\n",
       "<style scoped>\n",
       "    .dataframe tbody tr th:only-of-type {\n",
       "        vertical-align: middle;\n",
       "    }\n",
       "\n",
       "    .dataframe tbody tr th {\n",
       "        vertical-align: top;\n",
       "    }\n",
       "\n",
       "    .dataframe thead tr th {\n",
       "        text-align: left;\n",
       "    }\n",
       "\n",
       "    .dataframe thead tr:last-of-type th {\n",
       "        text-align: right;\n",
       "    }\n",
       "</style>\n",
       "<table border=\"1\" class=\"dataframe\">\n",
       "  <thead>\n",
       "    <tr>\n",
       "      <th></th>\n",
       "      <th colspan=\"2\" halign=\"left\">raised_amount_usd</th>\n",
       "    </tr>\n",
       "    <tr>\n",
       "      <th></th>\n",
       "      <th>Total_amount</th>\n",
       "      <th>Total_count</th>\n",
       "    </tr>\n",
       "    <tr>\n",
       "      <th>main_sector</th>\n",
       "      <th></th>\n",
       "      <th></th>\n",
       "    </tr>\n",
       "  </thead>\n",
       "  <tbody>\n",
       "    <tr>\n",
       "      <th>Automotive &amp; Sports</th>\n",
       "      <td>136.900000</td>\n",
       "      <td>13</td>\n",
       "    </tr>\n",
       "    <tr>\n",
       "      <th>Cleantech / Semiconductors</th>\n",
       "      <td>165.380000</td>\n",
       "      <td>20</td>\n",
       "    </tr>\n",
       "    <tr>\n",
       "      <th>Entertainment</th>\n",
       "      <td>293.830000</td>\n",
       "      <td>34</td>\n",
       "    </tr>\n",
       "    <tr>\n",
       "      <th>Health</th>\n",
       "      <td>173.740000</td>\n",
       "      <td>20</td>\n",
       "    </tr>\n",
       "    <tr>\n",
       "      <th>Manufacturing</th>\n",
       "      <td>200.900000</td>\n",
       "      <td>21</td>\n",
       "    </tr>\n",
       "    <tr>\n",
       "      <th>News, Search and Messaging</th>\n",
       "      <td>425.834545</td>\n",
       "      <td>51</td>\n",
       "    </tr>\n",
       "    <tr>\n",
       "      <th>Others</th>\n",
       "      <td>1045.909507</td>\n",
       "      <td>114</td>\n",
       "    </tr>\n",
       "    <tr>\n",
       "      <th>Social, Finance, Analytics, Advertising</th>\n",
       "      <td>558.449550</td>\n",
       "      <td>63</td>\n",
       "    </tr>\n",
       "  </tbody>\n",
       "</table>\n",
       "</div>"
      ],
      "text/plain": [
       "                                        raised_amount_usd            \n",
       "                                             Total_amount Total_count\n",
       "main_sector                                                          \n",
       "Automotive & Sports                            136.900000          13\n",
       "Cleantech / Semiconductors                     165.380000          20\n",
       "Entertainment                                  293.830000          34\n",
       "Health                                         173.740000          20\n",
       "Manufacturing                                  200.900000          21\n",
       "News, Search and Messaging                     425.834545          51\n",
       "Others                                        1045.909507         114\n",
       "Social, Finance, Analytics, Advertising        558.449550          63"
      ]
     },
     "execution_count": 84,
     "metadata": {
      "tags": []
     },
     "output_type": "execute_result"
    }
   ],
   "source": [
    "D3_gr"
   ]
  },
  {
   "cell_type": "markdown",
   "metadata": {
    "id": "JqDdnNUF0gPr"
   },
   "source": [
    "**Answer**\n",
    "\n",
    "**IND**\n",
    "\n",
    "**Top Sector**-Others-**114**\n",
    "\n",
    "**Second Sector**-Social, Finance, Analytics, Advertising-**63**\n",
    "\n",
    "**Third Sector**-News, Search and Messaging-**51**\n"
   ]
  },
  {
   "cell_type": "markdown",
   "metadata": {
    "id": "WPeZVgJr0gPr"
   },
   "source": [
    "**Question-9**"
   ]
  },
  {
   "cell_type": "markdown",
   "metadata": {
    "id": "-wHYCCHv0gPr"
   },
   "source": [
    "For point 3 (top sector count-wise), which company received the highest investment?"
   ]
  },
  {
   "cell_type": "code",
   "execution_count": 85,
   "metadata": {
    "colab": {
     "base_uri": "https://localhost:8080/"
    },
    "id": "Z8w_oRpU0gPr",
    "outputId": "65a76ab3-7b28-4c85-dde7-4f4327feefd8"
   },
   "outputs": [
    {
     "name": "stdout",
     "output_type": "stream",
     "text": [
      "                           raised_amount_usd\n",
      "permalink                                   \n",
      "/organization/virtustream               64.3\n"
     ]
    }
   ],
   "source": [
    "#For the top sector USA , which company received the highest investment?\n",
    "company = D1[D1['main_sector']=='Others']\n",
    "company = company.pivot_table(values = 'raised_amount_usd', index = 'permalink', aggfunc = 'sum')\n",
    "company = company.sort_values(by = 'raised_amount_usd', ascending = False).head()\n",
    "print(company.head(1))"
   ]
  },
  {
   "cell_type": "markdown",
   "metadata": {
    "id": "7Xyj6jPW0gPr"
   },
   "source": [
    "**Anwser**\n",
    "\n",
    "virtustream"
   ]
  },
  {
   "cell_type": "code",
   "execution_count": 86,
   "metadata": {
    "colab": {
     "base_uri": "https://localhost:8080/"
    },
    "id": "gGKkr8K10gPr",
    "outputId": "76b49aec-c94d-477c-b1fc-5a58f74f446b"
   },
   "outputs": [
    {
     "name": "stdout",
     "output_type": "stream",
     "text": [
      "                              raised_amount_usd\n",
      "permalink                                      \n",
      "/organization/electric-cloud               37.0\n"
     ]
    }
   ],
   "source": [
    "#For the top sector GBR , which company received the highest investment?\n",
    "company = D2[D2['main_sector']=='Others']\n",
    "company = company.pivot_table(values = 'raised_amount_usd', index = 'permalink', aggfunc = 'sum')\n",
    "company = company.sort_values(by = 'raised_amount_usd', ascending = False).head()\n",
    "print(company.head(1))"
   ]
  },
  {
   "cell_type": "markdown",
   "metadata": {
    "id": "5_obUw_v0gPs"
   },
   "source": [
    "**Answer**\n",
    "\n",
    "electric-cloud "
   ]
  },
  {
   "cell_type": "code",
   "execution_count": 87,
   "metadata": {
    "colab": {
     "base_uri": "https://localhost:8080/"
    },
    "id": "ezBJBBKH0gPs",
    "outputId": "f4ccc5e4-6338-4cde-8044-f8bd29d58803"
   },
   "outputs": [
    {
     "name": "stdout",
     "output_type": "stream",
     "text": [
      "                            raised_amount_usd\n",
      "permalink                                    \n",
      "/organization/firstcry-com               39.0\n"
     ]
    }
   ],
   "source": [
    "#For the top sector IND , which company received the highest investment?\n",
    "company = D3[D3['main_sector']=='Others']\n",
    "company = company.pivot_table(values = 'raised_amount_usd', index = 'permalink', aggfunc = 'sum')\n",
    "company = company.sort_values(by = 'raised_amount_usd', ascending = False).head()\n",
    "print(company.head(1))"
   ]
  },
  {
   "cell_type": "markdown",
   "metadata": {
    "id": "T44NBatu0gPs"
   },
   "source": [
    "**Answer**\n",
    "\n",
    "firstcry-com"
   ]
  },
  {
   "cell_type": "markdown",
   "metadata": {
    "id": "2P41l1mm0gPs"
   },
   "source": [
    "**Question-10**\n",
    "\n",
    "For point 4 (second best sector count-wise), which company received the highest investment?"
   ]
  },
  {
   "cell_type": "code",
   "execution_count": 88,
   "metadata": {
    "colab": {
     "base_uri": "https://localhost:8080/"
    },
    "id": "rezfB6xW0gPs",
    "outputId": "33653452-59e3-4ca8-f6e7-3403dd755a5a"
   },
   "outputs": [
    {
     "name": "stdout",
     "output_type": "stream",
     "text": [
      "                            raised_amount_usd\n",
      "permalink                                    \n",
      "/organization/choicestream               73.3\n"
     ]
    }
   ],
   "source": [
    "#For the second top sector USA , which company received the highest investment?\n",
    "company = D1[D1['main_sector']=='Social, Finance, Analytics, Advertising']\n",
    "company = company.pivot_table(values = 'raised_amount_usd', index = 'permalink', aggfunc = 'sum')\n",
    "company = company.sort_values(by = 'raised_amount_usd', ascending = False).head()\n",
    "print(company.head(1))"
   ]
  },
  {
   "cell_type": "markdown",
   "metadata": {
    "id": "SEPijKZb0gPt"
   },
   "source": [
    "**Answer**\n",
    "\n",
    "choicestream"
   ]
  },
  {
   "cell_type": "code",
   "execution_count": 89,
   "metadata": {
    "colab": {
     "base_uri": "https://localhost:8080/"
    },
    "id": "acyLGitm0gPt",
    "outputId": "b47d11f8-87ac-4367-9558-c7e2cd2adf54"
   },
   "outputs": [
    {
     "name": "stdout",
     "output_type": "stream",
     "text": [
      "                                     raised_amount_usd\n",
      "permalink                                             \n",
      "/organization/celltick-technologies               37.5\n"
     ]
    }
   ],
   "source": [
    "#For the second top sector GBR , which company received the highest investment?\n",
    "company = D2[D2['main_sector']=='Social, Finance, Analytics, Advertising']\n",
    "company = company.pivot_table(values = 'raised_amount_usd', index = 'permalink', aggfunc = 'sum')\n",
    "company = company.sort_values(by = 'raised_amount_usd', ascending = False).head()\n",
    "print(company.head(1))"
   ]
  },
  {
   "cell_type": "markdown",
   "metadata": {
    "id": "c4x6CNl60gPt"
   },
   "source": [
    "**Answer**\n",
    "\n",
    "celltick-technologies"
   ]
  },
  {
   "cell_type": "code",
   "execution_count": 90,
   "metadata": {
    "colab": {
     "base_uri": "https://localhost:8080/"
    },
    "id": "N0o2j-EA0gPt",
    "outputId": "9c65285f-452d-4a91-a8fb-822a49d8abd8"
   },
   "outputs": [
    {
     "name": "stdout",
     "output_type": "stream",
     "text": [
      "                               raised_amount_usd\n",
      "permalink                                       \n",
      "/organization/manthan-systems               50.7\n"
     ]
    }
   ],
   "source": [
    "#For the second top sector IND , which company received the highest investment?\n",
    "company = D3[D3['main_sector']=='Social, Finance, Analytics, Advertising']\n",
    "company = company.pivot_table(values = 'raised_amount_usd', index = 'permalink', aggfunc = 'sum')\n",
    "company = company.sort_values(by = 'raised_amount_usd', ascending = False).head()\n",
    "print(company.head(1))"
   ]
  },
  {
   "cell_type": "markdown",
   "metadata": {
    "id": "HnTiyt2c0gPt"
   },
   "source": [
    "**Answer**\n",
    "\n",
    "manthan-systems\n"
   ]
  },
  {
   "cell_type": "markdown",
   "metadata": {
    "id": "mAwNpW1y0gPt"
   },
   "source": [
    "# Checkpoint 6: Plots"
   ]
  },
  {
   "cell_type": "markdown",
   "metadata": {
    "id": "uTxlVkDb0gPu"
   },
   "source": [
    "**Question 1**\n",
    "\n",
    "A plot showing the representative amount of investment in each funding type. This chart should make it clear that a certain funding type (FT) is best suited for Spark Funds."
   ]
  },
  {
   "cell_type": "code",
   "execution_count": 91,
   "metadata": {
    "colab": {
     "base_uri": "https://localhost:8080/",
     "height": 233
    },
    "id": "TARM25Pc0gPu",
    "outputId": "a3bcbf59-ad95-4845-81be-341565c13f43"
   },
   "outputs": [
    {
     "data": {
      "text/html": [
       "<div>\n",
       "<style scoped>\n",
       "    .dataframe tbody tr th:only-of-type {\n",
       "        vertical-align: middle;\n",
       "    }\n",
       "\n",
       "    .dataframe tbody tr th {\n",
       "        vertical-align: top;\n",
       "    }\n",
       "\n",
       "    .dataframe thead tr th {\n",
       "        text-align: left;\n",
       "    }\n",
       "\n",
       "    .dataframe thead tr:last-of-type th {\n",
       "        text-align: right;\n",
       "    }\n",
       "</style>\n",
       "<table border=\"1\" class=\"dataframe\">\n",
       "  <thead>\n",
       "    <tr>\n",
       "      <th></th>\n",
       "      <th colspan=\"2\" halign=\"left\">raised_amount_usd</th>\n",
       "    </tr>\n",
       "    <tr>\n",
       "      <th></th>\n",
       "      <th>sum</th>\n",
       "      <th>mean</th>\n",
       "    </tr>\n",
       "    <tr>\n",
       "      <th>funding_round_type</th>\n",
       "      <th></th>\n",
       "      <th></th>\n",
       "    </tr>\n",
       "  </thead>\n",
       "  <tbody>\n",
       "    <tr>\n",
       "      <th>angel</th>\n",
       "      <td>4508.716940</td>\n",
       "      <td>0.952211</td>\n",
       "    </tr>\n",
       "    <tr>\n",
       "      <th>private_equity</th>\n",
       "      <td>133994.828518</td>\n",
       "      <td>74.194257</td>\n",
       "    </tr>\n",
       "    <tr>\n",
       "      <th>seed</th>\n",
       "      <td>16465.375525</td>\n",
       "      <td>0.726307</td>\n",
       "    </tr>\n",
       "    <tr>\n",
       "      <th>venture</th>\n",
       "      <td>550629.668494</td>\n",
       "      <td>11.692141</td>\n",
       "    </tr>\n",
       "  </tbody>\n",
       "</table>\n",
       "</div>"
      ],
      "text/plain": [
       "                   raised_amount_usd           \n",
       "                                 sum       mean\n",
       "funding_round_type                             \n",
       "angel                    4508.716940   0.952211\n",
       "private_equity         133994.828518  74.194257\n",
       "seed                    16465.375525   0.726307\n",
       "venture                550629.668494  11.692141"
      ]
     },
     "execution_count": 91,
     "metadata": {
      "tags": []
     },
     "output_type": "execute_result"
    }
   ],
   "source": [
    "fund_type_df =master_frame.groupby('funding_round_type').agg({'raised_amount_usd':['sum','mean']})\n",
    "fund_type_df"
   ]
  },
  {
   "cell_type": "code",
   "execution_count": 92,
   "metadata": {
    "colab": {
     "base_uri": "https://localhost:8080/",
     "height": 509
    },
    "id": "gPPMOlhf0gPu",
    "outputId": "a198f9f5-204b-4632-fc79-16731bbb2aa8"
   },
   "outputs": [
    {
     "data": {
      "image/png": "[encoded data removed]",
      "text/plain": [
       "<Figure size 612x612 with 1 Axes>"
      ]
     },
     "metadata": {
      "tags": []
     },
     "output_type": "display_data"
    }
   ],
   "source": [
    "#plotting a pie\n",
    "sns.set()\n",
    "share_plot = fund_type_df.plot.pie(y=('raised_amount_usd','sum'),autopct='%.1f%%',legend=True,use_index=True,title='Funding Type by Percentage Share Global', textprops={'fontsize': 14}, figsize=(8.5,8.5))\n",
    "share_plot.set_xlabel(\"\")\n",
    "share_plot.set_ylabel(\"\")\n",
    "share_plot.legend(title=\"Funding Type\")\n",
    "plt.show()"
   ]
  },
  {
   "cell_type": "code",
   "execution_count": 93,
   "metadata": {
    "colab": {
     "base_uri": "https://localhost:8080/",
     "height": 506
    },
    "id": "6js40ltC0gPu",
    "outputId": "be0c331e-6e10-438a-9bca-93eeac61cbf5"
   },
   "outputs": [
    {
     "data": {
      "image/png": "[encoded data removed]",
      "text/plain": [
       "<Figure size 792x576 with 1 Axes>"
      ]
     },
     "metadata": {
      "tags": []
     },
     "output_type": "display_data"
    }
   ],
   "source": [
    "# let's plot the box plot \n",
    "sns.boxplot(x='funding_round_type',y='raised_amount_usd',data=master_frame)\n",
    "plt.ylim(-10,80)\n",
    "#plt.yscale('log')\n",
    "plt.show()"
   ]
  },
  {
   "cell_type": "code",
   "execution_count": 94,
   "metadata": {
    "colab": {
     "base_uri": "https://localhost:8080/",
     "height": 502
    },
    "id": "8nSAtcVK0gPv",
    "outputId": "cc36071d-714b-4282-a3bb-766e5cfd0bc8"
   },
   "outputs": [
    {
     "data": {
      "image/png": "[encoded data removed]",
      "text/plain": [
       "<Figure size 792x576 with 1 Axes>"
      ]
     },
     "metadata": {
      "tags": []
     },
     "output_type": "display_data"
    }
   ],
   "source": [
    "# let's plot the box plot \n",
    "sns.boxplot(x='funding_round_type',y='raised_amount_usd',data=master_frame)\n",
    "#plt.ylim(-10,80)\n",
    "plt.yscale('log')\n",
    "plt.show()"
   ]
  },
  {
   "cell_type": "markdown",
   "metadata": {
    "id": "8UlcFP9m0gPv"
   },
   "source": [
    "**Question 2**\n",
    "\n",
    "A plot showing the top 9 countries against the total amount of investments of funding type FT. This should make the top 3 countries (Country 1, Country 2, and Country 3) very clear."
   ]
  },
  {
   "cell_type": "code",
   "execution_count": 95,
   "metadata": {
    "colab": {
     "base_uri": "https://localhost:8080/",
     "height": 356
    },
    "id": "zHnsPigv0gPv",
    "outputId": "653f4c63-4f4e-4ac1-f638-43c467833c01"
   },
   "outputs": [
    {
     "data": {
      "text/html": [
       "<div>\n",
       "<style scoped>\n",
       "    .dataframe tbody tr th:only-of-type {\n",
       "        vertical-align: middle;\n",
       "    }\n",
       "\n",
       "    .dataframe tbody tr th {\n",
       "        vertical-align: top;\n",
       "    }\n",
       "\n",
       "    .dataframe thead th {\n",
       "        text-align: right;\n",
       "    }\n",
       "</style>\n",
       "<table border=\"1\" class=\"dataframe\">\n",
       "  <thead>\n",
       "    <tr style=\"text-align: right;\">\n",
       "      <th></th>\n",
       "      <th>raised_amount_usd</th>\n",
       "    </tr>\n",
       "    <tr>\n",
       "      <th>country_code</th>\n",
       "      <th></th>\n",
       "    </tr>\n",
       "  </thead>\n",
       "  <tbody>\n",
       "    <tr>\n",
       "      <th>USA</th>\n",
       "      <td>398433.431399</td>\n",
       "    </tr>\n",
       "    <tr>\n",
       "      <th>CHN</th>\n",
       "      <td>37976.533110</td>\n",
       "    </tr>\n",
       "    <tr>\n",
       "      <th>GBR</th>\n",
       "      <td>19379.929716</td>\n",
       "    </tr>\n",
       "    <tr>\n",
       "      <th>IND</th>\n",
       "      <td>13876.121718</td>\n",
       "    </tr>\n",
       "    <tr>\n",
       "      <th>CAN</th>\n",
       "      <td>8942.205684</td>\n",
       "    </tr>\n",
       "    <tr>\n",
       "      <th>FRA</th>\n",
       "      <td>7045.117298</td>\n",
       "    </tr>\n",
       "    <tr>\n",
       "      <th>ISR</th>\n",
       "      <td>6660.650477</td>\n",
       "    </tr>\n",
       "    <tr>\n",
       "      <th>DEU</th>\n",
       "      <td>6207.489510</td>\n",
       "    </tr>\n",
       "    <tr>\n",
       "      <th>JPN</th>\n",
       "      <td>3155.654754</td>\n",
       "    </tr>\n",
       "  </tbody>\n",
       "</table>\n",
       "</div>"
      ],
      "text/plain": [
       "              raised_amount_usd\n",
       "country_code                   \n",
       "USA               398433.431399\n",
       "CHN                37976.533110\n",
       "GBR                19379.929716\n",
       "IND                13876.121718\n",
       "CAN                 8942.205684\n",
       "FRA                 7045.117298\n",
       "ISR                 6660.650477\n",
       "DEU                 6207.489510\n",
       "JPN                 3155.654754"
      ]
     },
     "execution_count": 95,
     "metadata": {
      "tags": []
     },
     "output_type": "execute_result"
    }
   ],
   "source": [
    "top9"
   ]
  },
  {
   "cell_type": "code",
   "execution_count": 96,
   "metadata": {
    "colab": {
     "base_uri": "https://localhost:8080/",
     "height": 728
    },
    "id": "eD4zOs_60gPv",
    "outputId": "cbece35f-94e5-46f9-d464-2a644144e21b"
   },
   "outputs": [
    {
     "name": "stdout",
     "output_type": "stream",
     "text": [
      "              raised_amount_usd\n",
      "country_code                   \n",
      "USA               398433.431399\n",
      "CHN                37976.533110\n",
      "GBR                19379.929716\n",
      "IND                13876.121718\n",
      "CAN                 8942.205684\n",
      "FRA                 7045.117298\n",
      "ISR                 6660.650477\n",
      "DEU                 6207.489510\n",
      "JPN                 3155.654754 \n",
      "\n",
      "Top 9 countries in order are:\n"
     ]
    },
    {
     "data": {
      "image/png": "[encoded data removed]",
      "text/plain": [
       "<Figure size 864x576 with 1 Axes>"
      ]
     },
     "metadata": {
      "tags": []
     },
     "output_type": "display_data"
    }
   ],
   "source": [
    "plt.figure(figsize=(12, 8))\n",
    "sns.barplot(x=top9.index, y=top9.values.ravel())\n",
    "print(top9, '\\n')\n",
    "print(\"Top 9 countries in order are:\")\n",
    "plt.show()"
   ]
  },
  {
   "cell_type": "markdown",
   "metadata": {
    "id": "IxDwtq4U0gPw"
   },
   "source": [
    "**Answer**\n",
    "\n",
    "Top Three english speaking countries \n",
    "\n",
    "1. **USA**\n",
    "\n",
    "2. **GBR**\n",
    "\n",
    "3. **IND**\n",
    "\n"
   ]
  },
  {
   "cell_type": "markdown",
   "metadata": {
    "id": "Z09XvH_60gPw"
   },
   "source": [
    "**Question-3**\n",
    "\n",
    "A plot showing the number of investments in the top 3 sectors of the top 3 countries on one chart (for the chosen investment type FT). This plot should clearly display the top 3 sectors each in Country 1, Country 2, and Country 3."
   ]
  },
  {
   "cell_type": "code",
   "execution_count": 97,
   "metadata": {
    "colab": {
     "base_uri": "https://localhost:8080/",
     "height": 413
    },
    "id": "rsEfX4HT0gPw",
    "outputId": "8f8065bf-01fe-4691-b522-a160a6185032"
   },
   "outputs": [
    {
     "data": {
      "text/html": [
       "<div>\n",
       "<style scoped>\n",
       "    .dataframe tbody tr th:only-of-type {\n",
       "        vertical-align: middle;\n",
       "    }\n",
       "\n",
       "    .dataframe tbody tr th {\n",
       "        vertical-align: top;\n",
       "    }\n",
       "\n",
       "    .dataframe thead th {\n",
       "        text-align: right;\n",
       "    }\n",
       "</style>\n",
       "<table border=\"1\" class=\"dataframe\">\n",
       "  <thead>\n",
       "    <tr style=\"text-align: right;\">\n",
       "      <th></th>\n",
       "      <th>permalink</th>\n",
       "      <th>name</th>\n",
       "      <th>homepage_url</th>\n",
       "      <th>status</th>\n",
       "      <th>country_code</th>\n",
       "      <th>funding_round_permalink</th>\n",
       "      <th>funding_round_type</th>\n",
       "      <th>funded_at</th>\n",
       "      <th>raised_amount_usd</th>\n",
       "      <th>primary_sector</th>\n",
       "      <th>main_sector</th>\n",
       "      <th>(raised_amount_usd, Total_amount)</th>\n",
       "      <th>(raised_amount_usd, Total_count)</th>\n",
       "    </tr>\n",
       "  </thead>\n",
       "  <tbody>\n",
       "    <tr>\n",
       "      <th>0</th>\n",
       "      <td>/organization/0xdata</td>\n",
       "      <td>H2O.ai</td>\n",
       "      <td>http://h2o.ai/</td>\n",
       "      <td>operating</td>\n",
       "      <td>USA</td>\n",
       "      <td>/funding-round/e1cfcbe1bdf4c70277c5f29a3482f24e</td>\n",
       "      <td>venture</td>\n",
       "      <td>19-07-2014</td>\n",
       "      <td>8.900000</td>\n",
       "      <td>Analytics</td>\n",
       "      <td>Social, Finance, Analytics, Advertising</td>\n",
       "      <td>24116.367082</td>\n",
       "      <td>2762</td>\n",
       "    </tr>\n",
       "    <tr>\n",
       "      <th>1</th>\n",
       "      <td>/organization/1-800-publicrelations-inc-</td>\n",
       "      <td>1-800-PublicRelations, Inc.</td>\n",
       "      <td>http://www.1800publicrelations.com</td>\n",
       "      <td>operating</td>\n",
       "      <td>USA</td>\n",
       "      <td>/funding-round/11c228f58831bc7ed337ef69ecc560c2</td>\n",
       "      <td>private_equity</td>\n",
       "      <td>01-02-2015</td>\n",
       "      <td>6.000000</td>\n",
       "      <td>Internet Marketing</td>\n",
       "      <td>Social, Finance, Analytics, Advertising</td>\n",
       "      <td>24116.367082</td>\n",
       "      <td>2762</td>\n",
       "    </tr>\n",
       "    <tr>\n",
       "      <th>2</th>\n",
       "      <td>/organization/1-mainstream</td>\n",
       "      <td>1 Mainstream</td>\n",
       "      <td>http://www.1mainstream.com</td>\n",
       "      <td>acquired</td>\n",
       "      <td>USA</td>\n",
       "      <td>/funding-round/b952cbaf401f310927430c97b68162ea</td>\n",
       "      <td>venture</td>\n",
       "      <td>17-03-2015</td>\n",
       "      <td>5.000000</td>\n",
       "      <td>Apps</td>\n",
       "      <td>News, Search and Messaging</td>\n",
       "      <td>13895.922329</td>\n",
       "      <td>1586</td>\n",
       "    </tr>\n",
       "    <tr>\n",
       "      <th>3</th>\n",
       "      <td>/organization/128-technology</td>\n",
       "      <td>128 Technology</td>\n",
       "      <td>http://www.128technology.com/</td>\n",
       "      <td>operating</td>\n",
       "      <td>USA</td>\n",
       "      <td>/funding-round/fb6216a30cb566ede89e0bee0623a634</td>\n",
       "      <td>venture</td>\n",
       "      <td>16-12-2014</td>\n",
       "      <td>11.999347</td>\n",
       "      <td>Service Providers</td>\n",
       "      <td>Others</td>\n",
       "      <td>25182.638405</td>\n",
       "      <td>2833</td>\n",
       "    </tr>\n",
       "    <tr>\n",
       "      <th>4</th>\n",
       "      <td>/organization/1366-technologies</td>\n",
       "      <td>1366 Technologies</td>\n",
       "      <td>http://www.1366tech.com</td>\n",
       "      <td>operating</td>\n",
       "      <td>USA</td>\n",
       "      <td>/funding-round/424129ce1235cfab2655ee81305f7c2b</td>\n",
       "      <td>venture</td>\n",
       "      <td>15-10-2013</td>\n",
       "      <td>15.000000</td>\n",
       "      <td>Manufacturing</td>\n",
       "      <td>Manufacturing</td>\n",
       "      <td>7015.358239</td>\n",
       "      <td>776</td>\n",
       "    </tr>\n",
       "  </tbody>\n",
       "</table>\n",
       "</div>"
      ],
      "text/plain": [
       "                                  permalink  ... (raised_amount_usd, Total_count)\n",
       "0                      /organization/0xdata  ...                             2762\n",
       "1  /organization/1-800-publicrelations-inc-  ...                             2762\n",
       "2                /organization/1-mainstream  ...                             1586\n",
       "3              /organization/128-technology  ...                             2833\n",
       "4           /organization/1366-technologies  ...                              776\n",
       "\n",
       "[5 rows x 13 columns]"
      ]
     },
     "execution_count": 97,
     "metadata": {
      "tags": []
     },
     "output_type": "execute_result"
    }
   ],
   "source": [
    "#concatenating all top3 countries df having top 3 sectors\n",
    "top_3_sector_by_country_all =  pd.concat([D1,D2,D3],axis=0)\n",
    "top_3_sector_by_country_all.head()"
   ]
  },
  {
   "cell_type": "code",
   "execution_count": 98,
   "metadata": {
    "id": "hX1gTG8-0gPw"
   },
   "outputs": [],
   "source": [
    "top_3_sector=top_3_sector_by_country_all[(top_3_sector_by_country_all['main_sector']=='Others')|(top_3_sector_by_country_all['main_sector'] =='Social, Finance, Analytics, Advertising')|(top_3_sector_by_country_all['main_sector'] =='Social, Finance, Analytics, Advertising')|(top_3_sector_by_country_all['main_sector'] =='Cleantech / Semiconductors')]\n"
   ]
  },
  {
   "cell_type": "code",
   "execution_count": 99,
   "metadata": {
    "colab": {
     "base_uri": "https://localhost:8080/"
    },
    "id": "S_4VPTgK0gPx",
    "outputId": "0b412f4a-df25-406e-9aff-1dea9ff5f0b6"
   },
   "outputs": [
    {
     "data": {
      "text/plain": [
       "array(['Social, Finance, Analytics, Advertising', 'Others',\n",
       "       'Cleantech / Semiconductors'], dtype=object)"
      ]
     },
     "execution_count": 99,
     "metadata": {
      "tags": []
     },
     "output_type": "execute_result"
    }
   ],
   "source": [
    "top_3_sector=top_3_sector[['country_code','main_sector','raised_amount_usd']]\n",
    "top_3_sector['main_sector'].unique()"
   ]
  },
  {
   "cell_type": "code",
   "execution_count": 100,
   "metadata": {
    "colab": {
     "base_uri": "https://localhost:8080/",
     "height": 416
    },
    "id": "D1Loo5I_0gPx",
    "outputId": "18d3574a-4b3d-47df-8719-1ba99dca2705"
   },
   "outputs": [
    {
     "data": {
      "text/html": [
       "<div>\n",
       "<style scoped>\n",
       "    .dataframe tbody tr th:only-of-type {\n",
       "        vertical-align: middle;\n",
       "    }\n",
       "\n",
       "    .dataframe tbody tr th {\n",
       "        vertical-align: top;\n",
       "    }\n",
       "\n",
       "    .dataframe thead th {\n",
       "        text-align: right;\n",
       "    }\n",
       "</style>\n",
       "<table border=\"1\" class=\"dataframe\">\n",
       "  <thead>\n",
       "    <tr style=\"text-align: right;\">\n",
       "      <th></th>\n",
       "      <th>country_code</th>\n",
       "      <th>main_sector</th>\n",
       "      <th>raised_amount_usd</th>\n",
       "    </tr>\n",
       "  </thead>\n",
       "  <tbody>\n",
       "    <tr>\n",
       "      <th>0</th>\n",
       "      <td>USA</td>\n",
       "      <td>Social, Finance, Analytics, Advertising</td>\n",
       "      <td>8.900000</td>\n",
       "    </tr>\n",
       "    <tr>\n",
       "      <th>1</th>\n",
       "      <td>USA</td>\n",
       "      <td>Social, Finance, Analytics, Advertising</td>\n",
       "      <td>6.000000</td>\n",
       "    </tr>\n",
       "    <tr>\n",
       "      <th>3</th>\n",
       "      <td>USA</td>\n",
       "      <td>Others</td>\n",
       "      <td>11.999347</td>\n",
       "    </tr>\n",
       "    <tr>\n",
       "      <th>9</th>\n",
       "      <td>USA</td>\n",
       "      <td>Others</td>\n",
       "      <td>14.000000</td>\n",
       "    </tr>\n",
       "    <tr>\n",
       "      <th>10</th>\n",
       "      <td>USA</td>\n",
       "      <td>Others</td>\n",
       "      <td>5.000000</td>\n",
       "    </tr>\n",
       "    <tr>\n",
       "      <th>...</th>\n",
       "      <td>...</td>\n",
       "      <td>...</td>\n",
       "      <td>...</td>\n",
       "    </tr>\n",
       "    <tr>\n",
       "      <th>317</th>\n",
       "      <td>IND</td>\n",
       "      <td>Others</td>\n",
       "      <td>5.000000</td>\n",
       "    </tr>\n",
       "    <tr>\n",
       "      <th>318</th>\n",
       "      <td>IND</td>\n",
       "      <td>Others</td>\n",
       "      <td>11.000000</td>\n",
       "    </tr>\n",
       "    <tr>\n",
       "      <th>319</th>\n",
       "      <td>IND</td>\n",
       "      <td>Cleantech / Semiconductors</td>\n",
       "      <td>8.000000</td>\n",
       "    </tr>\n",
       "    <tr>\n",
       "      <th>327</th>\n",
       "      <td>IND</td>\n",
       "      <td>Social, Finance, Analytics, Advertising</td>\n",
       "      <td>12.700000</td>\n",
       "    </tr>\n",
       "    <tr>\n",
       "      <th>330</th>\n",
       "      <td>IND</td>\n",
       "      <td>Others</td>\n",
       "      <td>15.000000</td>\n",
       "    </tr>\n",
       "  </tbody>\n",
       "</table>\n",
       "<p>8475 rows × 3 columns</p>\n",
       "</div>"
      ],
      "text/plain": [
       "    country_code                              main_sector  raised_amount_usd\n",
       "0            USA  Social, Finance, Analytics, Advertising           8.900000\n",
       "1            USA  Social, Finance, Analytics, Advertising           6.000000\n",
       "3            USA                                   Others          11.999347\n",
       "9            USA                                   Others          14.000000\n",
       "10           USA                                   Others           5.000000\n",
       "..           ...                                      ...                ...\n",
       "317          IND                                   Others           5.000000\n",
       "318          IND                                   Others          11.000000\n",
       "319          IND               Cleantech / Semiconductors           8.000000\n",
       "327          IND  Social, Finance, Analytics, Advertising          12.700000\n",
       "330          IND                                   Others          15.000000\n",
       "\n",
       "[8475 rows x 3 columns]"
      ]
     },
     "execution_count": 100,
     "metadata": {
      "tags": []
     },
     "output_type": "execute_result"
    }
   ],
   "source": [
    "top_3_sector"
   ]
  },
  {
   "cell_type": "code",
   "execution_count": 101,
   "metadata": {
    "colab": {
     "base_uri": "https://localhost:8080/",
     "height": 518
    },
    "id": "IMB_Pe760gPx",
    "outputId": "136d9123-de3a-43bc-b793-5006d1f30c86"
   },
   "outputs": [
    {
     "data": {
      "image/png": "[encoded data removed]",
      "text/plain": [
       "<Figure size 792x576 with 1 Axes>"
      ]
     },
     "metadata": {
      "tags": []
     },
     "output_type": "display_data"
    }
   ],
   "source": [
    "#Plot\n",
    "top_sectors_plot = sns.barplot(x='country_code', y='raised_amount_usd', hue='main_sector', data=top_3_sector)\n",
    "plt.ylabel('Investment in USD')\n",
    "plt.xlabel('country code')\n",
    "plt.title('Top 3 sectors of Top 3 countries')\n",
    "# Put the legend out of the figure\n",
    "plt.legend(bbox_to_anchor=(1.05, 1),loc=2,borderaxespad=0.)\n",
    "plt.show()"
   ]
  },
  {
   "cell_type": "markdown",
   "metadata": {
    "id": "v3p5hIFH0gPx"
   },
   "source": [
    "#  Conclusion"
   ]
  },
  {
   "cell_type": "markdown",
   "metadata": {
    "id": "ms81ixtD0gPx"
   },
   "source": [
    "Based on analysis performed, Spark funds should invest in-\n",
    "\n",
    "- Funding Type-**Venture funding types**\n",
    "\n",
    "\n",
    "- Top English Speaking countries to invest in- **USA,United Kingdom and India**\n",
    "\n",
    "\n",
    "- Top sectors to invest in-  **Others,Social-Finance-Analytics-Advertising,Cleantech / Semiconductors**\n",
    "\n",
    "\n",
    "- **Top companies to invest in**- \n",
    "                            USA- virtustream-                             64.3     millions\n",
    "\n",
    "                            USA -choicestream-                            73.3     millions\n",
    "                        \n",
    "                            India(IND)- manthan-systems-                  50.7     millions\n",
    "                            \n",
    "                            India(IND) -firstcry-com-                     39       millions\n",
    "\n",
    "                            United Kingdom(GBR) -electric-cloud           37       millions\n",
    "\n",
    "                            United Kingdom(GBR)-celltick-technologies-    37.5     millions"
   ]
  },
  {
   "cell_type": "code",
   "execution_count": 101,
   "metadata": {
    "id": "Yu6NX8bZ0gPx"
   },
   "outputs": [],
   "source": []
  }
 ],
 "metadata": {
  "colab": {
   "name": "Investment_assignment_section.ipynb",
   "provenance": []
  },
  "kernelspec": {
   "display_name": "Python 3",
   "language": "python",
   "name": "python3"
  },
  "language_info": {
   "codemirror_mode": {
    "name": "ipython",
    "version": 3
   },
   "file_extension": ".py",
   "mimetype": "text/x-python",
   "name": "python",
   "nbconvert_exporter": "python",
   "pygments_lexer": "ipython3",
   "version": "3.7.4"
  }
 },
 "nbformat": 4,
 "nbformat_minor": 1
}
